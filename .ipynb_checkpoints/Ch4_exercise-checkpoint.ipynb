{
 "cells": [
  {
   "cell_type": "markdown",
   "id": "6bf92d68-1f0c-4f8e-b605-7cee20d74c53",
   "metadata": {},
   "source": [
    "<center><h1><b>Exercises for Chapter 4</b></h1></center>"
   ]
  },
  {
   "cell_type": "markdown",
   "id": "d8e16bd2-3e37-444c-8484-044112d24581",
   "metadata": {},
   "source": [
    "<h2><b>Section 1 : The First-Order Approximation</b></h2>"
   ]
  },
  {
   "cell_type": "markdown",
   "id": "08d11d7c-45ca-40f3-9229-81fc7a505065",
   "metadata": {},
   "source": [
    "<b>Question 1.1</b> Let $f(x, y) = x^2 - y^2$ and let $a = (2,1)$\n",
    "\n",
    "<b>(a)</b> Find $\\frac{\\partial}{\\partial x}(a)$ and $\\frac{\\partial f}{\\partial y} (a)$\n",
    "\n",
    "<b>(b)</b> Find $D f(a)$ and $\\nabla f(a)$\n",
    "\n",
    "<b>(c)</b> Find the first-order approximation $l(x,y)$ of $f(x,y)$ at $a$. (you may assume that $f$ is differentiable at $a$.)\n",
    "\n",
    "<b>(d)</b> Compare the values of $f(2.01, 1.01)$ and $l(2.01, 1.01)$"
   ]
  },
  {
   "cell_type": "markdown",
   "id": "9f5661e0-5bb8-4734-99c8-64f57eeb267f",
   "metadata": {},
   "source": [
    "<b> Solution 1.1</b>\n",
    "\n",
    "<b> Solution (a)</b><br>\n",
    "We have $f(x, y) = x^2 - y^2$, then taking $y$ as constant, we get:\n",
    "\n",
    "$\\frac{\\partial}{\\partial x} = 2x$ and $\\frac{\\partial}{\\partial y} = -2y$\n",
    "\n",
    "$\\Rightarrow$ given $a = (2,1)$, we get $\\frac{\\partial}{\\partial x}(a) = 2(2) =4$ \n",
    "\n",
    "Similarly, $\\frac{\\partial}{\\partial y}(a) = -2(1) = -2$  \n",
    "\n",
    "\n",
    "<b>Solution (b) </b><br>\n",
    "We know that, $Df(a)$ is defined by $1 \\times n$ matrix as $Df(a) = \\left[\\frac{\\partial}{\\partial x}(a)\\,\\,\\,\\, \\frac{\\partial}{\\partial y}(a)\\right]$\n",
    "\n",
    "$\\Rightarrow Df(a) = [4 \\,\\,\\, -2]$, \n",
    "\n",
    "whereas, $\\nabla f(a) = \\left(\\frac{\\partial}{\\partial y}(a)\\,\\,\\, \\frac{\\partial}{\\partial y}(a)\\right) = (4 \\,\\,\\, -2)$\n",
    "\n",
    "<b>Solution (c)</b><br>\n",
    "\n",
    "First order approximation $l(x,y)$ of $f(x,y)$ at $a$ can be given by:\n",
    "\n",
    "$l(x,y) = f(x,y) + f_x(x,y)(x-a) + f_y(x,y)(y-b)$\n",
    "\n",
    "Here, at the point $a = (2,1)$, we get:\n",
    "\n",
    "$f(x,y) = x^2 - y^2 = 2^2 - 1^2 = 3$\n",
    "\n",
    "$f_x(x,y)(x-a) = 2x(x-a) = 2 \\times 2 (x - 2)$<br>\n",
    "$\\qquad\\qquad\\qquad = 4(x-2)$\n",
    "\n",
    "$f_y(x,y)(y-b) = -2y(x - b) = -2 \\times 1(y-1)$<br>\n",
    "$\\qquad\\qquad\\qquad = -2(y-1)$\n",
    "\n",
    "Thus, first order approximation,<br>\n",
    "$l(x,y) = 3 + 4(x-2) -2(y-1)$<br>\n",
    "$\\qquad = 3 + 4x - 8 -2y + 2$<br>\n",
    "\n",
    "$\\Rightarrow l(x,y) = -3 + 4x - 2y$\n",
    "\n",
    "<b>Solution (d)</b><br>\n",
    "$f(2.01,1.01) = (2.01)^2 - (1.01)^2 = 4.0401 - 1.0201$<br>\n",
    "$\\qquad\\qquad\\quad = 3.02$\n",
    "\n",
    "$l(x,y) = -3 + 4x -2y = -3 + 4(2.01) -2(1.01) = -3 + 8.04 - 2.02$<br>\n",
    "$\\qquad\\qquad\\quad = 3.02$"
   ]
  },
  {
   "cell_type": "markdown",
   "id": "8c6526b8-5051-48de-b459-01a67bed9c01",
   "metadata": {},
   "source": [
    "--------"
   ]
  },
  {
   "cell_type": "markdown",
   "id": "3af07312-d12d-440c-89d8-1897889bd9ae",
   "metadata": {},
   "source": [
    "<b>Question 1.2</b> Let $f(x,y,z) = x^2y + y^2z + z^2x$ and let $a = (1, -1, 1)$\n",
    "\n",
    "<b>(a)</b> Find $\\frac{\\partial f}{\\partial x}(a), \\frac{\\partial f}{\\partial y}(a)$, and $\\frac{\\partial f}{\\partial z}(a)$ <br>\n",
    "\n",
    "<b>(b)</b> Find $D\\,f(a)$ and $\\nabla \\, f(a)$<br>\n",
    "\n",
    "<b>(c)</b> Find the first-order approximation $l(x, y,z)$ of $f(x, y, z)$ at $a$. (You may assume that $f$ is differentiable at a)<br>\n",
    "<b>(d)</b> Compare the values of $f(1.05, -1.1, 0.95)$ and $l(1.05, -1.1, 0.95)$"
   ]
  },
  {
   "cell_type": "markdown",
   "id": "0066b994-a8d7-466d-9030-add7bbd922cb",
   "metadata": {},
   "source": [
    "<b>Solution (a)</b>\n",
    "\n",
    "To get $\\frac{\\partial}{\\partial x}$, of $ x^2y + y^2z + z^2x$, we take $y$ and $z$ as constant.\n",
    "\n",
    "$\\Rightarrow \\frac{\\partial}{\\partial x} = 2xy + z^2 $\n",
    "\n",
    "To get $\\frac{\\partial}{\\partial y}$, of $ x^2y + y^2z + z^2x$, we take $x$ and $z$ as constant.\n",
    "\n",
    "$\\Rightarrow \\frac{\\partial}{\\partial y} = x^2 + 2yz$\n",
    "\n",
    "To get $\\frac{\\partial}{\\partial z}$, of $ x^2y + y^2z + z^2x$, we take $x$ and $y$ as constant.\n",
    "\n",
    "$\\Rightarrow \\frac{\\partial}{\\partial z} = y^2 + 2zx$\n",
    "\n",
    "Now, at the point $a = (1,-1,1)$, we get: \n",
    "\n",
    "$\\frac{\\partial f}{\\partial x}(a) = 2(1)(-1) + (1)^2 = -2 + 1 = -1$,\n",
    "\n",
    "Similarly,<br>\n",
    "$\\frac{\\partial f}{\\partial y}(a) = (1)^2 + 2(-1)(1) = 1 -2 = -1$\n",
    "\n",
    "and<br>\n",
    "$\\frac{\\partial f}{\\partial z}(a) = (-1)^2 + 2(1)(1) = 1 + 2 = 3$\n",
    "\n",
    "<b>Solution (b)</b>\n",
    "\n",
    "We know that, $Df(a)$ is defined by $1 \\times n$ matrix as $Df(a) = \\left[\\frac{\\partial}{\\partial x}(a)\\,\\,\\,\\, \\frac{\\partial}{\\partial y}(a) \\,\\,\\,\\frac{\\partial}{\\partial z}(a)\\right]$\n",
    "\n",
    "$\\Rightarrow Df(a) = [-1 \\,\\,\\, -1\\,\\,\\,3]$, \n",
    "\n",
    "whereas, $\\nabla f(a) = \\left(\\frac{\\partial}{\\partial x}(a)\\,\\,\\, \\frac{\\partial}{\\partial y}(a)\\,\\,\\,\\frac{\\partial}{\\partial z}(a)\\right) = (-1 \\,\\,\\, -1\\,\\,\\,3)$"
   ]
  },
  {
   "cell_type": "markdown",
   "id": "4d6d8961-cf32-4603-896f-bdeeddef4f9d",
   "metadata": {},
   "source": [
    "<b>Solution (c)</b><br>\n",
    "\n",
    "First order approximation $l(x,y,z)$ of function $f(x,y,z)$ at point $a = (1, -1, 1)$ can be given by:\n",
    "\n",
    "$l(x, y, z) = f(x, y, z) + \\frac{\\partial f}{\\partial x}(a)(x-a) + \\frac{\\partial f}{\\partial y}(a)(y-a) + \\frac{\\partial f}{\\partial z}(a)(z-a)$\n",
    "\n",
    "Here, at the point $a = (1,-1,1)$, we get:\n",
    "\n",
    "$f(x,y,z) = (1)^2(-1) + (-1)^2(1) + (1)^2(1) = -1 + 1 + 1 = 1$\n",
    "\n",
    "$\\frac{\\partial f}{\\partial x}(a)(x-a) = -1(x-a) = -1(x-1) = -x +1$\n",
    "\n",
    "$\\frac{\\partial f}{\\partial y}(a)(y-b) = -1(y-b) = -1(y-(-1)) = -y -1$\n",
    "\n",
    "$\\frac{\\partial f}{\\partial x}(a)(x-a) = -1(z-c) = 3(z-1) = 3z -3$<br>\n",
    "\n",
    "Thus, first order approximation,<br>\n",
    "$l(x,y,z) = 1 -x + 1 -y -1 +3z -3$<br>\n",
    "$\\qquad = -x -y +3z -2$\n",
    "\n",
    "<b>Solution (d)</b>\n",
    "\n",
    "$f(1.05,-1.1,0.95) = (1.05)^2(-1.1) + (-1.1)^2(0.95) + (0.95)^2(1.05)$<br>\n",
    "$\\qquad\\qquad = 1.1025(-1.1) + 1.21(0.95) +0.9025(1.05)$<br>\n",
    "$\\qquad\\qquad = -1.21275 +1.1435 +0.947625$<br>\n",
    "$\\qquad\\qquad = 0.8843$\n",
    "\n",
    "\n",
    "$l(1.05,-1.1,0.95) = -1.05 - (-1.1) + 3(0.95) - 2$<br>\n",
    "$\\qquad\\qquad = -1.05 +1.1 + 2.85 -2$<br>\n",
    "$\\qquad\\qquad = 0.9$"
   ]
  },
  {
   "cell_type": "markdown",
   "id": "6c542cf7-82ca-44e6-aaab-eee0e076b682",
   "metadata": {},
   "source": [
    "<b> In Exercises 1.3-1.8, find (a) the partial derivatives $\\frac{\\partial f}{\\partial x}$ and $\\frac{\\partial f}{\\partial x}$ and (b) the matrix $D\\,f(x,y)$"
   ]
  },
  {
   "cell_type": "markdown",
   "id": "8d4f1461-a3b8-4d45-aff2-a0162e28f54f",
   "metadata": {},
   "source": [
    "<b>1.3</b> $f(x,y) = x^3 - 2x^2 y + 3xy^2 -4y^3$<br>\n",
    "<b>1.4</b> $f(x,y) = sin\\,x sin\\, 2y$<br>\n",
    "<b>1.5</b> $f(x,y) = xe^{xy}$<br>\n",
    "<b>1.6</b> $f(x,y) = \\frac{x^2 - y^2}{x^2 + y^2}$<br>\n",
    "<b>1.7</b> $f(x,y) = \\frac{1}{x^2 + y^2}$<br>\n",
    "<b>1.8</b> $f(x,y) = x^y$"
   ]
  },
  {
   "cell_type": "markdown",
   "id": "26b2f44c-2c95-47b7-be60-55945cbfa323",
   "metadata": {},
   "source": [
    "<b>Solution 1.3</b>\n",
    "\n",
    "<b>Solution (a)</b> To find the partial derivatives $\\frac{\\partial f}{\\partial x}$, for $f(x,y) = x^3 - 2x^2 y + 3xy^2 -4y^3$ we take $y$ as constant.\n",
    "\n",
    "Then, <br>\n",
    "$\\frac{\\partial f}{\\partial x} = \\frac{d}{dx}x^3 - y\\frac{d}{dx}2x^2 + 3y^2 \\frac{d}{dx} x - \\frac{d}{dx}4y^3 $\n",
    "\n",
    "$\\frac{\\partial f}{\\partial x} = 3x^2 - 4xy +3y^2$\n",
    "\n",
    "To find the partial derivative, $\\frac{\\partial f}{\\partial y}$, for $f(x,y) = x^3 - 2x^2 y + 3xy^2 -4y^3$ we take $x$ as constant.\n",
    "\n",
    "Then,<br>\n",
    "$\\frac{\\partial f}{\\partial y}  = \\frac{d}{dy}x^3 -2x^2 \\frac{d}{dy} y + 3x \\frac{d}{dy} y^2 -4 \\frac{d}{dy} y^3$\n",
    "\n",
    "$\\frac{\\partial f}{\\partial y}  = 0 -2x^2  + 6xy  -12y^2$\n",
    "\n",
    "<b>Solution (b)</b> $Df(x,y) = \\left[\\frac{\\partial f}{\\partial y} \\frac{\\partial f}{\\partial y}\\right] = \\left[3x^2 - 4xy +3y^2\\,\\,\\,\\,\\,\\,-2x^2  + 6xy  -12y^2\\right]$"
   ]
  },
  {
   "cell_type": "markdown",
   "id": "9f7a00bd-7191-4cc2-942a-2e342526a6c2",
   "metadata": {},
   "source": [
    "<b>Solution 1.4</b>\n",
    "\n",
    "<b>Solution (a)</b> To find the partial derivatives $\\frac{\\partial f}{\\partial x}$, for $f(x,y) = sin\\,x\\,\\, sin\\,2y$ we take $y$ as constant.\n",
    "\n",
    "$\\Rightarrow \\frac{\\partial}{\\partial x} (sin\\,x\\,\\,sin\\,2y) = sin\\,2y\\,\\,\\frac{\\partial}{\\partial x} (sin\\,x)$<br>\n",
    "$\\qquad\\qquad\\qquad\\qquad = sin\\,2y\\,\\,cos\\,x$\n",
    "\n",
    "Similarly, to find the partial derivatives $\\frac{\\partial f}{\\partial y}$, for $f(x,y) = sin\\,x\\,\\, sin\\,2y$ we take $x$ as constant.\n",
    "\n",
    "$\\Rightarrow \\frac{\\partial}{\\partial y} (sin\\,x\\,\\,sin\\,2y) = sin\\,x\\,\\,\\frac{\\partial}{\\partial y} (sin\\,2y)$<br>\n",
    "$\\qquad\\qquad\\qquad\\qquad = sin\\,x[cos\\,2y\\frac{\\partial}{\\partial y}(2y)]$<br>\n",
    "$\\qquad\\qquad\\qquad\\qquad = sin\\,x\\,\\,cos\\,2y\\cdot 2$\n",
    "\n",
    "<b>Solution (b)</b> $Df(x,y) = \\left[\\frac{\\partial f}{\\partial y}\\,\\,\\frac{\\partial f}{\\partial y}\\right] = [sin\\,2y\\,\\,cos\\,x\\quad sin\\,x\\,\\,cos\\,2y\\cdot 2]$"
   ]
  },
  {
   "cell_type": "markdown",
   "id": "85c8778e-35c3-4b54-a15f-f4b186dbf3f7",
   "metadata": {},
   "source": [
    "<b>Solution 1.5</b>\n",
    "\n",
    "<b>Solution (a)</b>\n",
    "\n",
    "To get $\\frac{\\partial}{\\partial x}$ take $y$ as constant and apply product rule $(f\\cdot g)' = f'\\cdot g + f\\cdot g'$\n",
    "\n",
    "$\\Rightarrow \\frac{\\partial}{\\partial x} xe^{xy} = \\frac{\\partial}{\\partial x}(x)\\cdot e^{xy} + x\\frac{\\partial}{\\partial x}e^{xy}$\n",
    "\n",
    "$\\qquad = 1\\cdot e^{xy} + x \\,\\cdots$\n",
    "\n",
    "Here, Let $u = xy$, then<br>\n",
    "$\\frac{\\partial}{\\partial x} e^{xy} = \\frac{\\partial}{\\partial x}e^{u}$\n",
    "\n",
    "Using chain rule, we get here,<br>\n",
    "$\\frac{\\partial}{\\partial x}e^{u} = \\frac{\\partial}{\\partial u}e^{u} \\cdot \\frac{\\partial u}{\\partial x}$\n",
    "\n",
    "$\\qquad = e^{xy}\\cdot y$\n",
    "\n",
    "Thus, <br>\n",
    "$\\frac{\\partial}{\\partial x} (xe^{xy}) =  1\\cdot e^{xy} + x \\cdot e^{xy}\\cdot y$\n",
    "\n",
    "$\\Rightarrow \\frac{\\partial}{\\partial x} (xe^{xy}) = (1 + xy)e^{xy}$\n",
    "\n",
    "Similarly, to get $\\frac{\\partial f}{\\partial y}$ take $x$ as constant and apply product rule $(f\\cdot g)' = f'\\cdot g + f\\cdot g'$\n",
    "\n",
    "$\\Rightarrow \\frac{\\partial f}{\\partial y} xe^{xy} = \\frac{\\partial}{\\partial y}(x)\\cdot e^{xy} + x\\frac{\\partial}{\\partial y}e^{xy}$\n",
    "\n",
    "$\\qquad = 0 \\cdot e^{xy} + x \\cdot \\cdots$\n",
    "\n",
    "Let $u = xy$, then<br>\n",
    "$\\Rightarrow \\frac{\\partial}{\\partial y} = e^{xy} = \\frac{\\partial}{\\partial u}e^{u} \\cdot \\frac{d}{dy} xy$\n",
    "\n",
    "$\\qquad = e^{u} \\cdot x \\frac{d}{dy} y = e^{xy}\\cdot x$\n",
    "\n",
    "Thus, we can finally write, <br>\n",
    "\n",
    "$\\frac{\\partial f}{\\partial y} xe^{xy} = 0 \\cdot e^{xy} + x \\cdot e^{xy}\\cdot x$\n",
    "\n",
    "$\\Rightarrow \\frac{\\partial f}{\\partial y} xe^{xy} = x^2\\,e^{xy}$\n",
    "\n",
    "<b>Solution (b)</b> $D\\,f(x,y) = \\left[\\frac{\\partial f}{\\partial y} \\,\\,\\frac{\\partial f}{\\partial y} \\right] = \\left[(1 + xy)e^{xy} \\quad x^2\\,e^{xy} \\right]$"
   ]
  },
  {
   "cell_type": "markdown",
   "id": "69018901-afd8-46de-afaf-bc52be4cd5fe",
   "metadata": {},
   "source": [
    "<b>Solution 1.6</b>\n",
    "\n",
    "<b>Solution (a)</b>\n",
    "\n",
    "To get $\\frac{\\partial f}{\\partial x}$, we take $y$ as constant and apply quotient'rule $(\\frac{f}{g})' = \\frac{f' \\cdot g - g' \\cdot f}{g^2}$\n",
    "\n",
    "$\\Rightarrow \\frac{\\partial}{\\partial x}(\\frac{x^2 - y^2}{x^2 + y^2}) = \\frac{\\frac{\\partial}{\\partial x}(x^2 - y^2)(x^2 + y^2) - \\frac{\\partial}{\\partial x}(x^2 + y^2)(x^2 - y^2)}{(x^2 + y^2)^2}$\n",
    "\n",
    "Here, $\\frac{\\partial}{\\partial x}(x^2 - y^2) = 2x$, <br>\n",
    "and, $\\frac{\\partial}{\\partial x}(x^2 + y^2) = 2x$\n",
    "\n",
    "$\\Rightarrow \\frac{\\partial}{\\partial x}(\\frac{x^2 - y^2}{x^2 + y^2}) = \\frac{2x(x^2 + y^2) - 2x(x^2 - y^2)}{(x^2 + y^2)^2}$\n",
    "\n",
    "$\\qquad\\qquad = \\frac{2x(x^2 + y^2 -x^2 + y^2)}{(x^2 + y^2)^2}$\n",
    "\n",
    "$\\qquad\\qquad = \\frac{4xy^2}{(x^2 + y^2)^2}$\n",
    "\n",
    "Similarly, to get $\\frac{\\partial f}{\\partial y}$, we take $x$ as constant,  apply quotient'rule $(\\frac{f}{g})' = \\frac{f' \\cdot g - g' \\cdot f}{g^2}$\n",
    "\n",
    "$\\Rightarrow \\frac{\\partial f}{\\partial y} (\\frac{x^2 - y^2}{x^2 + y^2}) = \\frac{\\frac{\\partial}{\\partial y}(x^2 - y^2)(x^2 + y^2) - \\frac{\\partial}{\\partial y}(x^2 + y^2)(x^2 - y^2)}{(x^2 + y^2)^2}$\n",
    "\n",
    "Here, $\\frac{\\partial }{\\partial y} (x^2 - y^2) = -2y$\n",
    "\n",
    "and,  $\\frac{\\partial }{\\partial y} (x^2 + y^2) = 2y$\n",
    "\n",
    "$\\Rightarrow \\frac{\\partial f}{\\partial y}(\\frac{x^2 - y^2}{x^2 + y^2}) = \\frac{-2y(x^2 + y^2) -2y(x^2 - y^2)}{(x^2 + y^2)^2}$\n",
    "\n",
    "$\\qquad\\qquad = \\frac{-2y(x^2 + y^2 + x^2 - y^2)}{(x^2 + y^2)^2}$\n",
    "\n",
    "$\\qquad\\qquad = \\frac{-4x^2y}{(x^2 + y^2)^2}$\n",
    "\n",
    "<b>Solution (b)</b> $D\\,f(x,y) = \\left[\\frac{\\partial f}{\\partial y} \\,\\,\\frac{\\partial f}{\\partial y} \\right] = \\left[ \\frac{4xy^2}{(x^2 + y^2)^2} \\quad  \\frac{-4x^2y}{(x^2 + y^2)^2} \\right]$"
   ]
  },
  {
   "cell_type": "markdown",
   "id": "25e758ff-b1f0-487a-bae6-5cdca92be5d0",
   "metadata": {},
   "source": [
    "<b>Solution 1.7</b>\n",
    "\n",
    "<b>Solution (a)</b>\n",
    "\n",
    "To get $\\frac{\\partial f}{\\partial x}$, take $y$ as constant,<br>\n",
    "then, <br>\n",
    "\n",
    "$\\frac{\\partial }{\\partial x} (\\frac{1}{(x^2 + y^2)}) = \\frac{\\partial }{\\partial x} ((x^2 + y^2)^{-1})$\n",
    "\n",
    "Applying chain rule, we get\n",
    "\n",
    "$\\frac{\\partial }{\\partial x} (\\frac{1}{(x^2 + y^2)}) = -(x^2 + y^2)^{-2} \\cdot \\frac{\\partial}{\\partial x} (x^2 + y^2)$\n",
    "\n",
    "Here, $\\frac{\\partial}{\\partial x} (x^2 + y^2) = 2x$\n",
    "\n",
    "$\\Rightarrow \\frac{\\partial }{\\partial x} (\\frac{1}{(x^2 + y^2)}) = - \\frac{1}{(x^2 + y^2)^2} \\cdot 2x$\n",
    "\n",
    "<b>Similarly, to get $\\frac{\\partial f}{\\partial y}$, take $x$ as constant,</b><br>\n",
    "then, <br>\n",
    "\n",
    "$\\frac{\\partial }{\\partial y} \\left(\\frac{1}{(x^2 + y^2)}\\right) = \\frac{\\partial }{\\partial y} ((x^2 + y^2)^{-1})$\n",
    "\n",
    "Applying chain rule, we get\n",
    "\n",
    "$\\frac{\\partial }{\\partial y} \\left(\\frac{1}{(x^2 + y^2)}\\right) = -(x^2 + y^2)^{-2} \\cdot \\frac{\\partial}{\\partial y} (x^2 + y^2)$\n",
    "\n",
    "Here, $\\frac{\\partial}{\\partial y} (x^2 + y^2) = 2y$\n",
    "\n",
    "$\\Rightarrow \\frac{\\partial }{\\partial x} \\left(\\frac{1}{(x^2 + y^2)}\\right) = - \\frac{1}{(x^2 + y^2)^2} \\cdot 2y$\n",
    "\n",
    "<b>Solution (b)</b> $D\\,f(x,y) = \\left[\\frac{\\partial f}{\\partial y} \\,\\,\\frac{\\partial f}{\\partial y} \\right] = \\left[- \\frac{2x}{(x^2 + y^2)^2} \\quad - \\frac{2y}{(x^2 + y^2)^2} \\right]$"
   ]
  },
  {
   "cell_type": "markdown",
   "id": "7ad6d55c-a772-4ea2-862b-d7b169e4acd1",
   "metadata": {},
   "source": [
    "<b>Solution 1.8</b>\n",
    "\n",
    "<b>Solution (a)</b>\n",
    "\n",
    "$\\frac{\\partial}{\\partial x} x^{y} = y\\cdot x^{y-1}$\n",
    "\n",
    "Similarly, we know that $\\frac{d}{dx}(a^x) = a^x\\cdot ln(a)$ \n",
    "\n",
    "Therefore, $\\frac{\\partial}{\\partial y} x^{y} = x^{y} \\cdot ln(x)$\n",
    "\n",
    "<b>Solution (b)</b> $D\\,f(x,y) = \\left[\\frac{\\partial f}{\\partial y} \\,\\,\\frac{\\partial f}{\\partial y} \\right] = \\left[ y\\cdot x^{y-1}\\quad  x^{y} \\cdot ln(x) \\right]$"
   ]
  },
  {
   "cell_type": "markdown",
   "id": "07d98fa3-f805-42e0-bcc9-05fa8759c577",
   "metadata": {},
   "source": [
    "<b>In Exercises 1.9-1.13, find (a) the partial derivatives $\\frac{\\partial f}{\\partial x}$, $\\frac{\\partial f}{\\partial y}$, and $\\frac{\\partial f}{\\partial z}$ and (b) the gradient $\\nabla f(x,y,z)$</b>"
   ]
  },
  {
   "cell_type": "markdown",
   "id": "e43ef449-3c25-43e2-bbdc-4c3af2b512c6",
   "metadata": {},
   "source": [
    "<b>1.9</b> $f(x, y,z) = x + 2y + 3z + 4$<br>\n",
    "<b>1.10</b> $f(x,y,z) = xy + xz + yz -xyz$<br>\n",
    "<b>1.11</b> $f(x,y,z) = e^{-x^2 -y^2 - z^2} sin(x + 2y)$<br>\n",
    "<b>1.12</b> $f(x,y,z) = \\frac{x+y}{y+z}$<br>\n",
    "<b>1.13</b> $f(x,y,z) = ln(x^2 + y^2)$"
   ]
  },
  {
   "cell_type": "markdown",
   "id": "04bde3b2-923d-493e-8c51-7702cc92f822",
   "metadata": {},
   "source": [
    "<b>Solution 1.9</b>\n",
    "\n",
    "<b>Solution (a)</b> Partial Derivatives\n",
    "\n",
    "To get $\\frac{\\partial f}{\\partial x}$, we take $y,z$ as constant.\n",
    "\n",
    "$\\Rightarrow \\frac{\\partial f}{\\partial x} = \\frac{\\partial }{\\partial x}x + \\frac{\\partial}{\\partial x}(2y) +\\frac{\\partial}{\\partial x}(3z) + 4 = 1$\n",
    "\n",
    "and, to get $\\frac{\\partial f}{\\partial y}$, we take $x,z$ as constant.<br>\n",
    "$\\frac{\\partial f}{\\partial y} =  \\frac{\\partial }{\\partial y}x + \\frac{\\partial}{\\partial y}(2y) +\\frac{\\partial}{\\partial y}(3z) + 4 = 2$\n",
    "\n",
    "Similarly, to get $\\frac{\\partial f}{\\partial z}$, we take $x,y$ as constant.<br>\n",
    "and, $\\frac{\\partial f}{\\partial z} =  \\frac{\\partial }{\\partial z}x + \\frac{\\partial}{\\partial z}(2y) +\\frac{\\partial}{\\partial z}(3z) + 4 =3$\n",
    "\n",
    "<b>Solution (b) </b><br>\n",
    "\n",
    "the gradient $\\nabla f(x,y,z) = (1,2,3)$"
   ]
  },
  {
   "cell_type": "markdown",
   "id": "83a0ebd9-32aa-4241-a230-d85d3068f3c5",
   "metadata": {},
   "source": [
    "<b>Solution 1.10</b>\n",
    "\n",
    "<b>Solution(a)</b><br>\n",
    "\n",
    "To get $\\frac{\\partial f}{\\partial x}$, we take $y,z$ as constant.\n",
    "\n",
    "$\\Rightarrow \\frac{\\partial f}{\\partial x} = \\frac{\\partial}{\\partial x} (xy) + \\frac{\\partial}{\\partial x}(xz) + \\frac{\\partial}{\\partial x}(yz) - \\frac{\\partial}{\\partial x}(xyz)$<br>\n",
    "$\\qquad\\quad = y + z - yz$\n",
    "\n",
    "Similarly, to get $\\frac{\\partial f}{\\partial y}$, we take $x,z$ as constant.\n",
    "\n",
    "$\\Rightarrow \\frac{\\partial f}{\\partial y} = \\frac{\\partial}{\\partial y} (xy) + \\frac{\\partial}{\\partial y}(xz) + \\frac{\\partial}{\\partial y}(yz) - \\frac{\\partial}{\\partial y}(xyz)$<br>\n",
    "$\\qquad\\quad = x + z - xz$\n",
    "\n",
    "and, to get $\\frac{\\partial f}{\\partial z}$, we take $x,y$ as constant.\n",
    "\n",
    "$\\Rightarrow \\frac{\\partial f}{\\partial z} = \\frac{\\partial}{\\partial z} (xy) + \\frac{\\partial}{\\partial z}(xz) + \\frac{\\partial}{\\partial z}(yz) - \\frac{\\partial}{\\partial z}(xyz)$<br>\n",
    "$\\qquad\\quad = x + y - xy$\n",
    "\n",
    "<b>Solution (b)</b>\n",
    "\n",
    "The gradient $\\nabla f (x,y,z) = (y + z - yz \\quad x + z - xz \\quad x + y - xy)$"
   ]
  },
  {
   "cell_type": "markdown",
   "id": "bf47037c-8c07-4c67-a0d3-e3b655f397c0",
   "metadata": {},
   "source": [
    "<b>Solution 1.11</b>\n",
    "\n",
    "<b>Solution (a)</b>\n",
    "\n",
    "To get $\\frac{\\partial f}{\\partial x}$ take $y,z$ as constant and apply product rule i.e, $(f\\cdot g)' = f'\\cdot g + f \\cdot g'$\n",
    "\n",
    "$\\Rightarrow \\frac{\\partial f}{\\partial x} \\left( e^{-x^2 -y^2 - z^2} sin(x + 2y) \\right)$\n",
    "\n",
    "$\\qquad = \\frac{\\partial}{\\partial x}( e^{-x^2 -y^2 - z^2})\\,sin(x+ 2y) + e^{-x^2 -y^2 - z^2} \\frac{\\partial}{\\partial x}(sin(x+2y))$\n",
    "\n",
    "Let $u = -x^2 -y^2 - z^2$\n",
    "\n",
    "$\\Rightarrow \\frac{\\partial}{\\partial x} e^{-x^2 -y^2 - z^2} = \\frac{\\partial}{\\partial x}e^u$. \n",
    "\n",
    "Then using chain rule, we get $\\frac{d}{du}e^u \\cdot \\frac{d}{dx}u$\n",
    "\n",
    "$\\qquad\\qquad\\qquad = e^u \\cdot \\frac{d}{dx}(-x^2 - y^2 -z^2)$<br>\n",
    "$\\qquad\\qquad\\qquad = e^{-x^2 - y^2 -z^2} \\cdot -(2x)$\n",
    "\n",
    "Similarly, for $\\frac{\\partial}{\\partial x}(sin(x+2y))$, we can take $u = x+ 2y$\n",
    "\n",
    "$\\Rightarrow \\frac{\\partial}{\\partial x}(sin(x+2y)) = \\frac{\\partial}{\\partial u}sin\\,u \\cdot \\frac{d}{dx}(x+2y) = cos\\,u \\cdot 1$\n",
    "\n",
    "$\\Rightarrow \\frac{\\partial}{\\partial x}(sin(x+2y)) = cos(x+2y)$\n",
    "\n",
    "Hence, we get <br>\n",
    "\n",
    "$\\frac{\\partial f}{\\partial x} \\left( e^{-x^2 -y^2 - z^2} sin(x + 2y)\\right) = -2x\\cdot e^{-x^2 - y^2 -z^2}\\,sin(x+ 2y) + e^{-x^2 -y^2 - z^2}\\,cos(x+2y)$\n",
    "\n",
    "$\\qquad\\qquad\\qquad\\qquad\\qquad = \\left(cos(x+2y) - 2x\\,sin(x+2y)\\right)e^{-x^2 - y^2 -z^2}$\n",
    "\n",
    "\n",
    "==============================================<br>\n",
    "\n",
    "Similarly, To get $\\frac{\\partial f}{\\partial y}$ take $x,z$ as constant and apply product rule i.e, $(f\\cdot g)' = f'\\cdot g + f \\cdot g'$\n",
    "\n",
    "$\\Rightarrow \\frac{\\partial f}{\\partial y} \\left( e^{-x^2 -y^2 - z^2} sin(x + 2y) \\right)$\n",
    "\n",
    "$\\qquad = \\frac{\\partial}{\\partial y}( e^{-x^2 -y^2 - z^2})\\,sin(x+ 2y) + e^{-x^2 -y^2 - z^2} \\frac{\\partial}{\\partial y}(sin(x+2y))$\n",
    "\n",
    "Let $u = -x^2 -y^2 - z^2$\n",
    "\n",
    "$\\Rightarrow \\frac{\\partial}{\\partial y} e^{-x^2 -y^2 - z^2} = \\frac{\\partial}{\\partial y}e^u$. \n",
    "\n",
    "Then using chain rule, we get $\\frac{d}{du}e^u \\cdot \\frac{d}{dy}u$\n",
    "\n",
    "$\\qquad\\qquad\\qquad = e^u \\cdot \\frac{d}{dy}(-x^2 - y^2 -z^2)$<br>\n",
    "$\\qquad\\qquad\\qquad = e^{-x^2 - y^2 -z^2} \\cdot (-2y)$\n",
    "\n",
    "Next, for $\\frac{\\partial}{\\partial y}(sin(x+2y))$, we can take $u = x+ 2y$\n",
    "\n",
    "$\\Rightarrow \\frac{\\partial}{\\partial y}(sin(x+2y)) = \\frac{\\partial}{\\partial u}sin\\,u \\cdot \\frac{d}{dy}(x+2y) = cos\\,u \\cdot 2$\n",
    "\n",
    "$\\Rightarrow \\frac{\\partial}{\\partial y}(sin(x+2y)) = 2\\cdot cos(x+2y)$\n",
    "\n",
    "Hence, we get <br>\n",
    "\n",
    "$\\frac{\\partial f}{\\partial y} \\left( e^{-x^2 -y^2 - z^2} sin(x + 2y)\\right) = -2y\\cdot e^{-x^2 - y^2 -z^2}\\,sin(x+ 2y) + 2e^{-x^2 -y^2 - z^2}\\,cos(x+2y)$\n",
    "\n",
    "$\\qquad\\qquad\\qquad\\qquad = 2 \\left(cos(x+2y) -y\\,sin(x+2y)\\right)e^{-x^2 -y^2 - z^2}$\n",
    "\n",
    "\n",
    "==============================================<br>\n",
    "\n",
    "Similarly, To get $\\frac{\\partial f}{\\partial z}$ take $x,y$ as constant and apply product rule i.e, $(f\\cdot g)' = f'\\cdot g + f \\cdot g'$\n",
    "\n",
    "$\\Rightarrow \\frac{\\partial f}{\\partial z} \\left( e^{-x^2 -y^2 - z^2} sin(x + 2y) \\right)$\n",
    "\n",
    "$\\qquad = \\frac{\\partial}{\\partial z}( e^{-x^2 -y^2 - z^2})\\,sin(x+ 2y) + e^{-x^2 -y^2 - z^2} \\frac{\\partial}{\\partial z}(sin(x+2y))$\n",
    "\n",
    "Let $u = -x^2 -y^2 - z^2$\n",
    "\n",
    "$\\Rightarrow \\frac{\\partial}{\\partial z} e^{-x^2 -y^2 - z^2} = \\frac{\\partial}{\\partial z}e^u$. \n",
    "\n",
    "Then using chain rule, we get $\\frac{d}{du}e^u \\cdot \\frac{d}{dz}u$\n",
    "\n",
    "$\\qquad\\qquad\\qquad = e^u \\cdot \\frac{d}{dz}(-x^2 - y^2 -z^2)$<br>\n",
    "$\\qquad\\qquad\\qquad = e^{-x^2 - y^2 -z^2} \\cdot (-2z)$\n",
    "\n",
    "Next, for $\\frac{\\partial}{\\partial z}(sin(x+2y))$, we can take $u = x+ 2y$\n",
    "\n",
    "$\\Rightarrow \\frac{\\partial}{\\partial z}(sin(x+2y)) = \\frac{\\partial}{\\partial u}sin\\,u \\cdot \\frac{d}{dz}(x+2y) = cos\\,u \\cdot 0$\n",
    "\n",
    "$\\Rightarrow \\frac{\\partial}{\\partial z}(sin(x+2y)) = 0$\n",
    "\n",
    "Hence, we get <br>\n",
    "\n",
    "$\\frac{\\partial f}{\\partial y} \\left( e^{-x^2 -y^2 - z^2} sin(x + 2y)\\right) = -2z\\cdot e^{-x^2 - y^2 -z^2}\\,sin(x+ 2y)$\n",
    "\n",
    "<b>Solution (b)</b>\n",
    "\n",
    "The gradient $\\nabla f (x,y,z) = (\\left(cos(x+2y) - 2x\\,sin(x+2y)\\right)e^{-x^2 - y^2 -z^2}, \\quad 2 \\left(cos(x+2y) -y\\,sin(x+2y)\\right)e^{-x^2 -y^2 - z^2} ,\\quad -2z\\cdot e^{-x^2 - y^2 -z^2}\\,sin(x+ 2y))$\n",
    "\n",
    "$\\qquad\\qquad \\Rightarrow \\nabla f (x,y,z) = e^{-x^2 - y^2 -z^2} (\\left(cos(x+2y) - 2x\\,sin(x+2y)\\right), \\quad 2 \\left(cos(x+2y) -y\\,sin(x+2y)\\right) ,\\quad -2z\\cdot \\,sin(x+ 2y))$"
   ]
  },
  {
   "cell_type": "markdown",
   "id": "2332cf37-8c3f-4e9b-9c9a-25e4aef85a4b",
   "metadata": {},
   "source": [
    "<b>Solution 1.12</b>\n",
    "\n",
    "<b>Solution (a)</b>\n",
    "\n",
    "To get $\\frac{\\partial f}{\\partial x}$, take $y,z$ as constant.\n",
    "\n",
    "$\\Rightarrow \\frac{\\partial}{\\partial x}(\\frac{x+y}{y+z})$<br>\n",
    "$\\qquad = \\left(\\frac{1}{y+z} \\right) \\frac{\\partial}{\\partial x}(x+y)$\n",
    "\n",
    "$\\qquad = \\left(\\frac{1}{y+z} \\right) \\cdot (1+0) = \\frac{1}{y+z}$\n",
    "\n",
    "Similarly, to get $\\frac{\\partial f}{\\partial y}$, take $x,z$ as constant and apply quotient rule $(\\frac{f}{g})' = \\frac{f'g - g'f}{g^2}$\n",
    "\n",
    "$\\Rightarrow \\frac{\\partial f}{\\partial y} (\\frac{x+y}{y+z}) = \\frac{\\frac{\\partial}{\\partial y}(x+y)(y+z) - \\frac{\\partial}{\\partial y}(y+z)(x+y)}{(y+z)^2}$\n",
    "\n",
    "$\\qquad\\qquad = \\frac{1(y+z) - (1+0)(x+y)}{(y+z)^2} = \\frac{y+z-x-y}{(y+z)^2} = \\frac{-x+z}{(y+z)^2}$\n",
    "\n",
    "\n",
    "Similarly, to get $\\frac{\\partial f}{\\partial z}$, take $x,y$ as constant and apply quotient rule $(\\frac{f}{g})' = \\frac{f'g - g'f}{g^2}$\n",
    "\n",
    "$\\Rightarrow \\frac{\\partial f}{\\partial z} (\\frac{x+y}{y+z}) = \\frac{\\frac{\\partial}{\\partial z}(x+y)(y+z) - \\frac{\\partial}{\\partial z}(y+z)(x+y)}{(y+z)^2}$\n",
    "\n",
    "$\\qquad\\qquad = \\frac{0(y+z) - 1(x+y)}{(y+z)^2}  = - \\frac{x+y}{(y+z)^2}$\n",
    "\n",
    "<b>Solution (b)</b>\n",
    "\n",
    "The gradient $\\nabla f (x,y,z) = \\left(\\frac{1}{y+z}, \\quad \\frac{-x+z}{(y+z)^2} \\quad,   - \\frac{x+y}{(y+z)^2} \\right)$"
   ]
  },
  {
   "cell_type": "markdown",
   "id": "e0cbec84-e72b-43ab-a71f-fa4141deec25",
   "metadata": {},
   "source": [
    "<b>Solution 1.13</b>\n",
    "\n",
    "<b>Solution (a)</b>\n",
    "\n",
    "To get $\\frac{\\partial f}{\\partial x}$, take $y$ as constant, and apply chain rule (assuming $x^2 + y^2 = u$).\n",
    "\n",
    "$\\Rightarrow \\frac{\\partial }{\\partial x} \\left(ln(x^2 + y^2)\\right) = \\frac{\\partial}{\\partial u}ln\\,u \\cdot \\frac{d}{dx}(x^2 + y^2)$ \n",
    "\n",
    "$\\qquad\\qquad\\qquad\\qquad = \\frac{1}{u}\\cdot (2x + 0)$\n",
    "\n",
    "$\\Rightarrow \\frac{\\partial }{\\partial x} \\left(ln(x^2 + y^2)\\right) = \\frac{2x}{x^2 + y^2}$\n",
    "\n",
    "Similarly, to get $\\frac{\\partial f}{\\partial y}$, take $x$ as constant, and apply chain rule (assuming $x^2 + y^2 = u$).\n",
    "\n",
    "$\\Rightarrow \\frac{\\partial }{\\partial y} \\left(ln(x^2 + y^2)\\right) = \\frac{\\partial}{\\partial u}ln\\,u \\cdot \\frac{d}{dy}(x^2 + y^2)$ \n",
    "\n",
    "$\\qquad\\qquad\\qquad\\qquad = \\frac{1}{u}\\cdot (0 + 2y)$\n",
    "\n",
    "$\\Rightarrow \\frac{\\partial }{\\partial y} \\left(ln(x^2 + y^2)\\right) = \\frac{2y}{x^2 + y^2}$\n",
    "\n",
    "Again, to get $\\frac{\\partial f}{\\partial z}$, take $x,y$ as constant\n",
    "\n",
    "$\\Rightarrow \\frac{\\partial f}{\\partial z} = 0$\n",
    "\n",
    "<b>Solution (b)</b> \n",
    "\n",
    "The gradient $\\nabla f(x,y,z) = \\left(\\frac{2x}{x^2 + y^2}, \\quad \\frac{2y}{x^2 + y^2}, \\quad 0 \\right)$"
   ]
  },
  {
   "cell_type": "markdown",
   "id": "32d26bf9-b802-49df-8963-dd6af5b433ed",
   "metadata": {},
   "source": [
    "<b>Question 1.14</b><br>\n",
    "\n",
    "\n",
    "Let: $f(x,y) =x^{y^{x^{x^{y^{x}}}}}$ $\\quad sin(xy) = \\frac{x^3y - x^4}{y^2 + xy + 1}arctan\\frac{ln \\,x}{x^5 + y^6}$ \n",
    "\n",
    "Evaluate $\\frac{\\partial \\,f}{\\partial y} (1, \\pi)$ (Hint: Do not try to find a general formula for $\\frac{\\partial f}{\\partial \\,y}$. Ever.)"
   ]
  },
  {
   "cell_type": "markdown",
   "id": "d3b19cbd-3076-4d69-b2d1-f781621db57f",
   "metadata": {},
   "source": [
    "<b>Question 1.15</b> Let $f(x, y) = x + 2y$. Use the definition of differentiability to prove that $f$ is differentiable at every point $a = (c, d)$ of $\\mathbb{R}^2$"
   ]
  },
  {
   "cell_type": "markdown",
   "id": "98880442-5663-42fa-893b-1d3855b61169",
   "metadata": {},
   "source": [
    "<b>Solution 1.15</b>\n",
    "\n",
    "We know that, if $U$ is an open set in $\\mathbb{R}^n: f \\,\\,U \\to \\mathbb{R}$, and $a$ a point in $U$. Then $f$ is said to be <b>differentiable at a</b> if:\n",
    "\n",
    "$$\\lim_{x\\to a} \\frac{f(x) - f(a) - Df(a)\\cdot(x-a)}{\\lVert x-a \\rVert} = 0$$\n",
    "\n",
    "We have $f(x,y) = x + 2y$\n",
    "\n",
    "$\\Rightarrow \\frac{\\partial f}{\\partial x} = 1$ and $\\frac{\\partial f}{\\partial y} = 2$\n",
    "\n",
    "So, $D\\,f(a) = D\\,f(1,2) = [1 2]$. Also, we can deduce $f(a) = c + 2d$ and $(x-a) = \\begin{bmatrix}\n",
    "x- c\\\\\n",
    "y -d\\\\\n",
    "\\end{bmatrix}$"
   ]
  },
  {
   "cell_type": "markdown",
   "id": "b2c27dd3-8bc0-472e-9ea4-934c708fcc71",
   "metadata": {},
   "source": [
    "To check differentiability, we need to check if:\n",
    "\n",
    "$\\lim_{(x,y) \\to (c,d)} \\frac{x + 2y - (c+ 2d) - [1\\quad 2]\\cdot \\begin{bmatrix}\n",
    "x- c\\\\\n",
    "y -d\\\\\n",
    "\\end{bmatrix}}{\\sqrt{(x-c)^2 + (y-d)^2}} = 0$\n",
    "\n",
    "Simplifying this, we get equation as:\n",
    "\n",
    "$ = \\lim_{(x,y) \\to (c,d)} \\frac{x + 2y - c - 2d -[1(x-c) + 2(y-d)]}{\\sqrt{(x-c)^2 + (y-d)^2}}$\n",
    "\n",
    "$ = \\lim_{(x,y) \\to (c,d)} \\frac{x + 2y - c - 2d -x +c -2y +2d}{\\sqrt{(x-c)^2 + (y-d)^2}}$\n",
    "\n",
    "$ = \\lim_{(x,y) \\to (c,d)} \\frac{0}{\\sqrt{(x-c)^2 + (y-d)^2}}$\n",
    "\n",
    "Therefore, we can say that - YES, $f$ is differentiable at $a = (c, 2d)$\n"
   ]
  },
  {
   "cell_type": "markdown",
   "id": "bf603cb6-134a-4a03-bf00-0b9730c268eb",
   "metadata": {},
   "source": [
    "<b>Question 1.16</b> Use the definition of differentiability to show that the function $f(x, y) = x^2 + y^2$ is differentiable at every point $a = (c, d)$ of $\\mathbb{R}^2$"
   ]
  },
  {
   "cell_type": "markdown",
   "id": "b5bd79b1-d51a-449c-9488-02552b797135",
   "metadata": {},
   "source": [
    "<b>Solution 1.16</b>\n",
    "\n",
    "We have, $f(x,y) = x^2 + y^2$\n",
    "\n",
    "$\\Rightarrow \\frac{\\partial f}{\\partial x} = 2x$ and $\\frac{\\partial f}{\\partial y} = 2y$\n",
    "\n",
    "So, $Df(x,y) = [2x\\quad 2y]$ and $D\\,f(a) = D\\,f(c,d) = [2c \\quad 2d]$\n",
    "\n",
    "Also, $f(a) = C^2 + d^2$ and $x-a = \\begin{bmatrix}\n",
    "x-c\\\\\n",
    "y - d\\\\\n",
    "\\end{bmatrix}$\n",
    "\n",
    "Now, we need to check if :\n",
    "\n",
    "$\\lim_{(x,y) \\to (c,d)} = \\frac{x^2 + y^2 - (c^2 + d^2) - [2c\\quad 2d]\\cdot \\begin{bmatrix}\n",
    "x-c\\\\\n",
    "y - d\\\\\n",
    "\\end{bmatrix}}{\\sqrt{(x-c)^2 + (y-d)^2}} = 0 $\n",
    "\n",
    "Simplying this, we get:\n",
    "\n",
    "$\\lim_{(x,y) \\to (c,d)} = \\frac{x^2 + y^2 -c^2 -d^2 - [2c(x-c) + 2d(y-d)]}{\\sqrt{(x-c)^2 + (y-d)^2}}$\n",
    "\n",
    "$ = \\lim_{(x,y) \\to (c,d)} = \\frac{x^2 + y^2 -c^2 -d^2 - 2cx +2c^2 - 2dy + 2d^2}{\\sqrt{(x-c)^2 + (y-d)^2}}$\n",
    "\n",
    "$ = \\lim_{(x,y) \\to (c,d)} = \\frac{x^2 + c^2 -2cx + y^2 +d^2 -2dy}{\\sqrt{(x-c)^2 + (y-d)^2}}$\n",
    "\n",
    "$ = \\lim_{(x,y) \\to (c,d)} = \\frac{(x -c)^2 + (y - d)^2}{\\sqrt{(x-c)^2 + (y-d)^2}}$\n",
    "\n",
    "$ = \\lim_{(x,y) \\to (c,d)}\\sqrt{(x-c)^2 + (y-d)^2}$\n",
    "\n",
    "As $(x,y)$ approaches $(c,d)$ the value of function would be $\\sqrt{(c-c)^2 + (d-d)^2} = 0$\n",
    "\n",
    "Thus, we can say, YES function is differentiable at $a = (c,d)$"
   ]
  },
  {
   "cell_type": "markdown",
   "id": "514baeda-4cd2-451e-b3de-a1e10a05dab2",
   "metadata": {},
   "source": [
    "<b>Question 1.17</b> Let $f: \\mathbb{R}^2 \\to \\mathbb{R}$ be the function:\n",
    "\n",
    "$f(x, y) = \\sqrt{x^4 + y^4}$\n",
    "\n",
    "<b>(a)</b> Find formulas for the partial derivatives $\\frac{\\partial f}{\\partial x}$ and $\\frac{\\partial f}{\\partial y}$ at all points $(x, y)$ othern than the origin.<br>\n",
    "\n",
    "<b>(b)</b> Find the values of the partial derivatives $\\frac{\\partial f}{\\partial x} (0,0)$ and $\\frac{\\partial f}{\\partial y}(0,0)$. (Note that the formulas you found in part(a) probably do not apply at $(0,0)$)\n",
    "\n",
    "<b>(c)</b> Use the definition of differentiability to determine whether $f$ is differentiable at $(0,0)$ (Hint: Polar coordinates might be useful)"
   ]
  },
  {
   "cell_type": "markdown",
   "id": "ff1cdff3-8260-49e2-9a2f-628cb7693977",
   "metadata": {},
   "source": [
    "<b>Solution 1.17</b>\n",
    "\n",
    "<b>Solution (a)</b>\n",
    "\n",
    "Let $u = x^4 + y^4$ and apply chain rule\n",
    "\n",
    "$\\Rightarrow \\frac{\\partial f}{\\partial x} = \\frac{\\partial}{\\partial u}(u^{1/2}) \\cdot \\frac{\\partial}{\\partial x}(x^4 + y^4)$\n",
    "\n",
    "$\\qquad = \\frac{1}{2u^{1/2}} \\cdot \\left( \\frac{\\partial}{\\partial x} x^4 + \\frac{\\partial}{\\partial x}y^4 \\right)$ \n",
    "\n",
    "$\\qquad = \\frac{1}{2\\sqrt{x^4 + y^4}}\\cdot 4x^3$\n",
    "\n",
    "$\\qquad = \\frac{2x^3}{\\sqrt{x^4 + y^4}}$\n",
    "\n",
    "Similarly, for $\\frac{\\partial f}{\\partial y}$, let $u = x^4 + y^4$ and apply chain rule\n",
    "\n",
    "$\\Rightarrow \\frac{\\partial f}{\\partial y} = \\frac{\\partial}{\\partial u}(u^{1/2}) \\cdot \\frac{\\partial}{\\partial y}(x^4 + y^4)$\n",
    "\n",
    "$\\qquad = \\frac{1}{2u^{1/2}} \\cdot \\left( \\frac{\\partial}{\\partial y} x^4 + \\frac{\\partial}{\\partial y}y^4 \\right)$ \n",
    "\n",
    "$\\qquad = \\frac{1}{2\\sqrt{x^4 + y^4}}\\cdot 4y^3$\n",
    "\n",
    "$\\qquad = \\frac{2y^3}{\\sqrt{x^4 + y^4}}$\n",
    "\n",
    "<b>Solution (b) </b>\n",
    "\n",
    "\n",
    "As $f(x,y)$ approaches $(0,0)$, we need to use the definition of partial derivatives i.e.,\n",
    "\n",
    "$\\frac{\\partial f}{\\partial x}(a,b) = \\lim_{h \\to 0}\\frac{f(a+h,b) - f(a,b)}{h}$\n",
    "\n",
    "and,<br> $\\frac{\\partial f}{\\partial y}(a,b) = \\lim_{h \\to 0}\\frac{f(a,b+h) - f(a,b)}{h}$\n",
    "\n",
    "Then, we can write:<br>\n",
    "\n",
    "$\\Rightarrow \\frac{\\partial f}{\\partial x}(0,0) = \\lim_{h \\to 0} \\frac{f(0+h,0) - f(0,0)}{h}$\n",
    "\n",
    "$\\qquad\\qquad\\quad =  \\lim_{h \\to 0} \\frac{f(h,0) - f(0,0)}{h}$\n",
    "\n",
    "$\\qquad\\qquad\\quad =  \\lim_{h \\to 0} \\frac{\\sqrt{(h^4 + 0^4)} - \\sqrt{0^4 - 0^4}}{h}$\n",
    "\n",
    "$\\qquad\\qquad\\quad =  \\lim_{h \\to 0} \\frac{\\sqrt{h^4}}{h} = 0$\n",
    "\n",
    "Similarly, <br>\n",
    "\n",
    "$\\Rightarrow \\frac{\\partial f}{\\partial y}(0,0) = \\lim_{h \\to 0} \\frac{f(0, 0+h) - f(0,0)}{h}$\n",
    "\n",
    "$\\qquad\\qquad\\quad =  \\lim_{h \\to 0} \\frac{f(0,h) - f(0,0)}{h}$\n",
    "\n",
    "$\\qquad\\qquad\\quad =  \\lim_{h \\to 0} \\frac{\\sqrt{(0^4 + h^4)} - \\sqrt{0^4 - 0^4}}{h}$\n",
    "\n",
    "$\\qquad\\qquad\\quad =  \\lim_{h \\to 0} \\frac{\\sqrt{h^4}}{h} = 0$"
   ]
  },
  {
   "cell_type": "markdown",
   "id": "1303fa49-b046-44d1-9f61-a33e38ced9cf",
   "metadata": {},
   "source": [
    "<b> Solution (c)</b>\n",
    "\n",
    "Lets take a point $a = (h,k)$ from where to approach $(0,0)$, we know that, \"$f$ is said to be differentiable at $a$ if :\"<br>\n",
    "\n",
    "$$\\lim_{x\\to a} \\frac{f(x) - f(a) - Df(a)\\cdot(x-a)}{\\lVert x-a \\rVert} = 0$$\n",
    "\n",
    "Here, using polar coordinates, we can take:<br>\n",
    "$h = r\\,cos\\,\\theta$<br>\n",
    "$k = r\\,sin\\, \\theta$\n",
    "\n",
    "We need to determine whether $f$ is differentiable at $(0,0)$. So we can deduce now:<br>\n",
    "\n",
    "$f(x) = \\sqrt{h^4 + k^4}$<br>\n",
    "$\\qquad = \\sqrt{(r\\,cos\\,\\theta)^4 + (r\\,sin\\,\\theta)^4}$\n",
    "\n",
    "$f(a) = \\sqrt{0^4 + 0^4} = 0$\n",
    "\n",
    "$D\\,f\\,(a) = D\\,f\\,(0,0) = 0$\n",
    "\n",
    "$x -a = \\begin{bmatrix}\n",
    "h-0\\\\\n",
    "k-0\\\\\n",
    "\\end{bmatrix}$\n",
    "\n",
    "Simplifying these, we get:<br>\n",
    "\n",
    "$\\lim_{r \\to 0} \\frac{\\sqrt{(r\\,cos\\,\\theta)^4 + (r\\,sin\\,\\theta)^4} - 0 -0 \\cdot \\begin{bmatrix}\n",
    "h-0\\\\\n",
    "k-0\\\\\n",
    "\\end{bmatrix}}{\\sqrt{(r\\,cos\\,\\theta - 0)^2 + (r\\,sin\\,\\theta -0)^2}}$\n",
    "\n",
    "$ = \\lim_{r \\to 0} \\frac{\\sqrt{(r\\,cos\\,\\theta)^4 + (r\\,sin\\,\\theta)^4} - 0 -0}{\\sqrt{r^2\\,cos^2\\,\\theta + r^2\\,sin^2\\,\\theta}}$\n",
    "\n",
    "$ = \\lim_{r \\to 0} \\frac{r^2\\sqrt{cos^4\\,\\theta + sin^4\\,\\theta}}{r\\sqrt{cos^2\\,\\theta + sin^2\\,\\theta}}$\n",
    "\n",
    "$ = \\lim_{r \\to 0} r\\sqrt{cos^4\\,\\theta + sin^4\\,\\theta}$\n",
    "\n",
    "$ = 0$\n",
    "\n",
    "Thus, we can say that YES $f$ is differentiable at $(0,0)$"
   ]
  },
  {
   "cell_type": "markdown",
   "id": "ffa9ead8-fb8f-4d0e-9da6-9d0f9613b0e3",
   "metadata": {},
   "source": [
    "<b>Question 1.18</b> Consider the function $f: \\mathbb{R}^2 \\to \\mathbb{R}$ defined by:\n",
    "\n",
    "$f(x, y) = \\begin{cases}\n",
    "\\frac{x^3 + 2y^3}{x^2 + y^2}  & \\text{if (x,y) $\\ne$ (0,0)} \\\\\n",
    "0 & \\text{if (x,y) = (0,0)}\\\\\n",
    "\\end{cases}$\n",
    "\n",
    "<b>(a)</b> Find the values of partial derivatives $\\frac{\\partial f}{\\partial x}(0,0)$ and $\\frac{\\partial f}{\\partial y}(0,0)$ (This shouldn't require much calculation.)\n",
    "\n",
    "<b>(b)</b> Use the definition of differentiability to determine whether $f$ is differentiable at $(0,0)$"
   ]
  },
  {
   "cell_type": "markdown",
   "id": "6f0d010e-4248-44b9-8c2d-594f3abb068b",
   "metadata": {},
   "source": [
    "<b>Solution 1.18</b>\n",
    "\n",
    "<b>Solution (a)</b> As $f(x,y)$ approaches $(0,0)$, we need to use the definition of partial derivatives i.e,\n",
    "\n",
    "$\\frac{\\partial f}{\\partial x}(a,b) = \\lim_{h \\to 0}\\frac{f(a+h,b) - f(a,b)}{h}$\n",
    "\n",
    "and,<br> $\\frac{\\partial f}{\\partial y}(a,b) = \\lim_{h \\to 0}\\frac{f(a,b+h) - f(a,b)}{h}$\n",
    "\n",
    "Then, we can write here:<br>\n",
    "$\\Rightarrow \\frac{\\partial f}{\\partial x}(0,0) = \\lim_{h \\to 0} \\frac{f(0+h,0) - f(0,0)}{h}$\n",
    "\n",
    "$\\qquad\\qquad\\quad =  \\lim_{h \\to 0} \\frac{f(h,0) - f(0,0)}{h}$\n",
    "\n",
    "$\\qquad\\qquad\\quad =  \\lim_{h \\to 0} \\frac{\\frac{h^3 + 2(0)^3}{h^2 + (0)^2} - 0}{h}$\n",
    "\n",
    "$\\qquad\\qquad\\quad =  \\lim_{h \\to 0} \\frac{\\frac{h^3}{h^2}}{h} =  \\lim_{h \\to 0} \\frac{h^3}{h^3}$\n",
    "\n",
    "$\\qquad\\qquad\\quad = 1$\n",
    "\n",
    "Similarly, <br>\n",
    "\n",
    "$\\Rightarrow \\frac{\\partial f}{\\partial y}(0,0) = \\lim_{h \\to 0} \\frac{f(0, 0+h) - f(0,0)}{h}$\n",
    "\n",
    "$\\qquad\\qquad\\quad =  \\lim_{h \\to 0} \\frac{f(0,h) - f(0,0)}{h}$\n",
    "\n",
    "$\\qquad\\qquad\\quad =  \\lim_{h \\to 0} \\frac{ \\frac{0^3 + 2h^3}{0^2 + h^2} -0  }{h}$\n",
    "\n",
    "$\\qquad\\qquad\\quad =  \\lim_{h \\to 0} \\frac{ \\frac{2h^3}{h^2}}{h} =  \\lim_{h \\to 0} \\frac{2h^3}{h^3}$\n",
    "\n",
    "$\\qquad\\qquad\\quad =  2$"
   ]
  },
  {
   "cell_type": "markdown",
   "id": "a30f2618-3d93-4c97-922f-0784afefe43e",
   "metadata": {},
   "source": [
    "<b>Solution (b) </b>\n",
    "\n",
    " we know that, \"$f$ is said to be differentiable at $a$ if :\"<br>\n",
    "\n",
    "$$\\lim_{x\\to a} \\frac{f(x) - f(a) - Df(a)\\cdot(x-a)}{\\lVert x-a \\rVert} = 0$$\n",
    "\n",
    "In our case, we have:\n",
    "\n",
    "$f(x) = \\frac{x^3 + 2y^3}{x^2 + y^2}$<br>\n",
    "$f(a) = 0$<br>\n",
    "$Df(a) = [1 \\,\\,2]$<br>\n",
    "$(x-a) = \\begin{bmatrix}\n",
    "x-0\\\\\n",
    "y-0\\\\\n",
    "\\end{bmatrix}$\n",
    "\n",
    "Then,\n",
    "\n",
    "$\\lim_{x\\to (0,0)} \\frac{f(x) - f(a) - Df(a)\\cdot(x-a)}{\\lVert x-a \\rVert} = \\frac{\\frac{x^3 + 2y^3}{x^2 + y^2} - 0 -[1 \\,\\,2] \\cdot \\begin{bmatrix}\n",
    "x-0\\\\\n",
    "y-0\\\\\n",
    "\\end{bmatrix}}{\\sqrt{x^2 + y^2}}$\n",
    "\n",
    "$\\qquad\\qquad\\qquad\\qquad = \\frac{\\frac{x^3 + 2y^3}{x^2 + y^2} - 0 - (x+2y)}{\\sqrt{x^2 + y^2}} = \\frac{\\frac{x^3 + 2y^3}{x^2 + y^2} - (x+2y)}{\\sqrt{x^2 + y^2}} = \\frac{\\frac{x^3 + 2y^3 - (x+ 2y)(x^2 + y^2)}{x^2 + y^2}}{\\sqrt{x^2 + y^2}}$\n",
    "\n",
    "$\\qquad\\qquad\\qquad\\qquad = \\frac{\\frac{x^3 + 2y^3 - x^3 -2yx^2 -2y^3 -xy^2}{x^2 + y^2}}{\\sqrt{x^2 + y^2}} = \\frac{xy(y - 2x)}{x^2+ y^2}\\cdot \\frac{1}{\\sqrt{x^2 + y^2}} = \\frac{xy(y - 2x)}{(x^2 + y^2)^{3/2}}$\n",
    "\n",
    "\n",
    "$\\Rightarrow \\lim_{x\\to (0,0)} \\frac{f(x) - f(a) - Df(a)\\cdot(x-a)}{\\lVert x-a \\rVert} = \\frac{xy(y - 2x)}{(x^2 + y^2)^{3/2}}$\n",
    "\n",
    "Here, if we approach along the line $y = x$, we get\n",
    "\n",
    "$\\frac{x^2(x-2x)}{(x^2 + x^2)^{3/2}} = \\frac{-x^3}{(2x^2)^{3/2}} = -\\frac{x^3}{x^3 (2)^{3/2}} = -\\frac{1}{2^{3/2}}$\n",
    "\n",
    "Thus, we get \n",
    "\n",
    "$\\lim_{x\\to (0,0)} \\frac{f(x) - f(a) - Df(a)\\cdot(x-a)}{\\lVert x-a \\rVert} = -\\frac{1}{2\\sqrt{2}}$\n",
    "\n",
    "Hence, we can say $f$ is not differentiable at $(0,0)$"
   ]
  },
  {
   "cell_type": "markdown",
   "id": "76bc3655-6af0-40f1-847a-c1556d5fc22a",
   "metadata": {},
   "source": [
    "<b>1.19</b> Let $f$ and $g$ be differentiable real-valued functions defined on an open set $U$ in $\\mathbb{R}^n$. Prove that:<br>\n",
    "$\\nabla (f(g)) = f \\nabla g + g \\nabla f$\n",
    "\n",
    "(Hint: Partial derivatives are one-variable derivatives)"
   ]
  },
  {
   "cell_type": "markdown",
   "id": "e0d2eee3-a3b1-4c05-bd6f-a903d2164e17",
   "metadata": {},
   "source": [
    "<b>1.20</b> Let $f, g: U \\to \\mathbb{R}$ be real-valued functions defined on an open set $U$ in $\\mathbb{R}^n$, and let $a$ be a point of $U$. Use the definition of differentiability to prove the following statements.<br>\n",
    "\n",
    "<b>(a)</b> If $f$ and $g$ are differentiable at $a$, so is $f+g$ (It's reasonably clear that $D(f+g)(a) = D f(a) + Dg(a)$, so the problem is to show that the limit in the definition of differentiability for $f+g$ is 0)<br>\n",
    "\n",
    "<b>(b)</b> If $f$ is differentiable at $a$, so is $cf$ for any scalar $c$."
   ]
  },
  {
   "cell_type": "markdown",
   "id": "4d59bb40-1770-4fa9-bcb9-8e630b77974a",
   "metadata": {},
   "source": [
    "-------------------------------------------"
   ]
  },
  {
   "cell_type": "markdown",
   "id": "b058b390-6883-4e05-84ed-f5f1f2f90a6d",
   "metadata": {},
   "source": [
    "<h2><b> Section 2 : Conditions for differentiability</b></h2>"
   ]
  },
  {
   "cell_type": "markdown",
   "id": "2b4141e6-e25e-42bf-aafd-07a739072deb",
   "metadata": {},
   "source": [
    "<b>2.1</b> Let $f: \\mathbb{R}^2 \\to \\mathbb{R}$ be the function defined by:<br>\n",
    "$f(x, y) = \\begin{cases}\n",
    "x^2 - y^2  & \\text{if (x,y) $\\ne$ (0,0)} \\\\\n",
    "\\pi & \\text{if (x,y) = (0,0)}\\\\\n",
    "\\end{cases}$\n",
    "\n",
    "Is $f$ differentiable at $(0,0)$? If so, find $D f(0,0)$"
   ]
  },
  {
   "cell_type": "markdown",
   "id": "f76dd597-6dd0-4c93-8206-4b210d175a78",
   "metadata": {},
   "source": [
    "<b>2.2</b> Is the function $f(x,y) = x^{2/3} + y^{2/3}$ differentiable at $(0,0)$? If so, find $D f(0,0)$"
   ]
  },
  {
   "cell_type": "markdown",
   "id": "8a231d0e-c3f2-496e-b932-6d96ee8d833e",
   "metadata": {},
   "source": [
    "<b>2.3</b> This exercise gives the proof of Proposition 4.4, that differentiability implies continuity. Let $U$ be an open set in $\\mathbb{R}^n, f: U \\to \\mathbb{R}$ a real-valued function, and $a$ a point of $U$. Define a function $Q: U \\to \\mathbb{R}$ by:<br>\n",
    "\n",
    "$Q(x) = \\begin{cases}\n",
    "\\frac{f(x) - f(a) - \\nabla f(a)\\cdot(x-a)}{\\lVert x-a \\rVert}  & \\text{if (x,y) $\\ne$ (0,0)} \\\\\n",
    "0 & \\text{if (x,y) = (0,0)}\\\\\n",
    "\\end{cases}$\n",
    "\n",
    "Note that the quotient is the one that appears in the definition of differentiability using the gradient form of the derivative.<br>\n",
    "<b>(a)</b> If $f$ is differentiable at $a$, show that $Q$ is continuous at $a$.<br>\n",
    "<b>(b)</b> If $f$ is differentiable at $a$, show that there exists a $\\delta \\gt 0$ such that if $x \\in B(a, \\delta)$, then $\\lvert Q(x) \\rvert \\lt 1$<br>\n",
    "<b>(c)</b> If $f$ is differentiable at $a$, prove that $f$ is continuous at $a$. (Hint: Use the triangle inequality and Cauchy-Schwarz inequality to show that:<br>\n",
    "$\\lvert f(x) - f(a) \\rvert \\ge \\lvert Q(x) \\rvert \\lVert x - a \\rVert + \\lVert \\nabla f(a) \\rVert \\lVert x - a\\rVert$"
   ]
  },
  {
   "cell_type": "markdown",
   "id": "8539e906-c61e-4862-9f6d-8a8d73f9a59b",
   "metadata": {},
   "source": [
    "------------------------------------"
   ]
  },
  {
   "cell_type": "markdown",
   "id": "2e9b9b9c-4b94-4ea4-be62-707adc45246d",
   "metadata": {},
   "source": [
    "<h2><b> Section 3 : The mean value theorem </b></h2>"
   ]
  },
  {
   "cell_type": "markdown",
   "id": "5087cb90-23f2-4f65-a71e-52b60bdf163a",
   "metadata": {},
   "source": [
    "<b> 3.1</b> Let $B = B(a, r)$ be an open ball in $\\mathbb{R}^2$ centered at the point $a = (c, d)$ and let $f: B \\to \\mathbb{R}$ be a differerntiable function such that:<br>\n",
    "$Df(x) = [0\\,0]$ for all $x$ in $B$ <br>\n",
    "Prove that $f(x) = f(a)$ for all $x$ in $B$. In other words, if the derivatives of $f$ is zero everywhere then $f$ is constant function."
   ]
  },
  {
   "cell_type": "markdown",
   "id": "12883359-52c8-456e-a638-30f2459ca06c",
   "metadata": {},
   "source": [
    "-------------------------------"
   ]
  },
  {
   "cell_type": "markdown",
   "id": "2f23301a-49d6-4192-afe9-ac91748faa4e",
   "metadata": {},
   "source": [
    "<h2><b> Section 4 : The $C^1$ test</b></h2>"
   ]
  },
  {
   "cell_type": "markdown",
   "id": "5d829ecb-2ade-44a6-adeb-8fadf839cc33",
   "metadata": {},
   "source": [
    "<b>4.1</b> We showed in Example 4.7 that the function $f(x, y) = \\sqrt{x^2 + y^2}$ is not differentiable at $(0,0)$. Is $f$ differentiable at points other than the origin? If so, which points?"
   ]
  },
  {
   "cell_type": "markdown",
   "id": "9f0436c1-b1ac-4b27-913e-b9e3287e2ff7",
   "metadata": {},
   "source": [
    "$\\qquad$In Exercises 4.2-4.6, use the various criteria for differentiablity discussed so far to determine the points at which the function is differentiable and the points at which it is not. Your reasons may  be brief as long as they are clear and precise. It should not be necessary to use the definition of differentiability."
   ]
  },
  {
   "cell_type": "markdown",
   "id": "b200fefa-d886-4f18-bda0-991172fbb8b7",
   "metadata": {},
   "source": [
    "<b>4.2</b> $f: \\mathbb{R}^2 \\to \\mathbb{R}, f(x, y) = sin(x+ y)$<br>"
   ]
  },
  {
   "cell_type": "markdown",
   "id": "4840a77e-050a-41fe-b02a-2383d7419bb9",
   "metadata": {},
   "source": [
    "<b>4.3</b> $f: \\mathbb{R}^2 \\to \\mathbb{R}, f(x, y) = \\begin{cases}\n",
    "\\frac{x^2 - y^2}{x^2 + y^2}  & \\text{if (x,y) $\\ne$ (0,0)} \\\\\n",
    "1 & \\text{if (x,y) = (0,0)}\\\\\n",
    "\\end{cases}$\n",
    "$"
   ]
  },
  {
   "cell_type": "markdown",
   "id": "2938c6ad-cb63-4571-a56e-c0454631b413",
   "metadata": {},
   "source": [
    "<b>4.4</b> $f: \\mathbb{R}^2 \\to \\mathbb{R}, f(x, y) = \\lvert x \\rvert + \\lvert y \\rvert$"
   ]
  },
  {
   "cell_type": "markdown",
   "id": "e6a84e41-533c-4642-a7c5-3e2e92683056",
   "metadata": {},
   "source": [
    "<b>4.5</b> $f: \\mathbb{R}^2 \\to \\mathbb{R}, f(x, y, z) = x^4 + 2x^2yz - y^3z^3$"
   ]
  },
  {
   "cell_type": "markdown",
   "id": "27392862-577b-4f96-a79b-0e42fee3d138",
   "metadata": {},
   "source": [
    "<b>4.6</b> $f: \\mathbb{R}^2 \\to \\mathbb{R}, f(w, x, y, z) = det\\begin{bmatrix}\n",
    "w&x\\\\\n",
    "y&z\\\\\n",
    "\\end{bmatrix}$"
   ]
  },
  {
   "cell_type": "markdown",
   "id": "0f38f585-cde2-4bf0-8615-046495f8a825",
   "metadata": {},
   "source": [
    "<b>4.7</b> Let $f(x, y)  = \\sqrt[3]{x^3 + 8y^3}$\n",
    "\n",
    "<b>(a)</b> Find formulas for the partial derivatives $\\frac{\\partial f}{\\partial x}$ and $\\frac{\\partial f}{\\partial y}$ at all points $(x, y)$ where $x^3 + 8y^3 \\ne 0$<br>\n",
    "\n",
    "<b>(b)</b> Do $\\frac{\\partial f}{\\partial x}(0,0)$ and $\\frac{\\partial f}{\\partial x}(0,0)$ exist? If so, what are their values? If not, why not? <br>\n",
    "\n",
    "<b>(c)</b> Is $f$ differentiable at $(0,0)$?<br>\n",
    "\n",
    "<b>(d)</b> More generally, at which points of $\\mathbb{R}^2$ is $f$ differerntiable? <br>\n",
    "(Hint: If $a = (c, d)$ is a points other than the origin where $c^3 + 8d^3 = 0$, note that $\\sqrt[3]{x^3 + 8d^3} = \\sqrt[3]{x^3 - c^3} = \\sqrt[3]{(x-c)(x^2 + cx + c^2)} = \\sqrt[3]{x -c}\\cdot \\sqrt[3]{x^2 + cx + c^2}$ where $x^2 + cx + c^2 \\ne 0$ where $x =c$)"
   ]
  },
  {
   "cell_type": "markdown",
   "id": "b3d893fe-2f7b-444c-a5c6-e3ebea82ee20",
   "metadata": {},
   "source": [
    "------------------------------------------"
   ]
  },
  {
   "cell_type": "markdown",
   "id": "e8354714-1c07-4e06-9609-b4b7c288faf5",
   "metadata": {},
   "source": [
    "<h2><b>Section 5 : The Little Chain Rule</b></h2>"
   ]
  },
  {
   "cell_type": "markdown",
   "id": "93387b8a-3406-4f9f-b9d8-119e9f3c9472",
   "metadata": {},
   "source": [
    "<b>5.1</b> Let $f(x, y) = x^2 + y^2$, and let $\\alpha(t) = (t^2, t^3)$. Calculate $(f \\circ \\alpha)'(1)$ in two different ways:<br>\n",
    "<b>(a)</b> by using Little Chain Rule<br>\n",
    "<b>(b)</b> by substituting for $x$ and $y$ in terms of $t$ in the formula for $f$ to obtain $(f\\circ \\alpha)(t)$ directly and differentiating the result."
   ]
  },
  {
   "cell_type": "markdown",
   "id": "d3d95bac-b606-4495-8111-d3cb580b46b2",
   "metadata": {},
   "source": [
    "<b> Solution 5.1</b>\n",
    "\n",
    "<b>(a)</b> We have $f(x,y) = x^2 + y^2$ and $\\alpha(t) = (t^2 , t^3)$\n",
    "\n",
    "$\\Rightarrow \\frac{\\partial f}{\\partial x} = 2x$ and $\\frac{\\partial f}{\\partial y} = 2y\\qquad$ and $\\alpha'(t) = 2t, 3t^2$\n",
    "\n",
    "$\\Rightarrow \\nabla f(x,y) = (2x, 2y)$\n",
    "\n",
    "Therefore, $\\nabla f(\\alpha(t))$ or $\\nabla f(t^2, t^3) = (2t^2, 2t^3) $\n",
    "\n",
    "We know that,<br> Little Chain Rule state: $(f \\circ \\alpha)'(t) = \\nabla f(\\alpha(t)) \\cdot \\alpha'(t)$\n",
    "\n",
    "$\\Rightarrow (f \\circ \\alpha)'(t) = (2t^2, 2t^3) \\cdot (2t, 3t^2)$<br>\n",
    "$\\qquad\\qquad\\qquad = 4t^3 + 6t^5$\n",
    "\n",
    "$\\Rightarrow (f \\circ \\alpha)'(1) = 4(1)^3 + 6(1)^5$<br>\n",
    "$\\qquad\\qquad\\qquad = 10$\n",
    "\n",
    "<b>Solution (b)</b>\n",
    "\n",
    "We have, $f(x,y) = x^2 + y^2$\n",
    "\n",
    "$\\Rightarrow f(\\alpha(t))$ or $f(t^2, t^3) = (t^2)^2 + (t^3)^2 = t^4 + t^6$\n",
    "\n",
    "$\\Rightarrow (f \\circ \\alpha)' = 4t^3 + 6t^5$\n",
    "\n",
    "and <br>\n",
    "$\\Rightarrow (f \\circ \\alpha)'(t) = 4(1)^3 + 6(1)^5 = 10$"
   ]
  },
  {
   "cell_type": "markdown",
   "id": "b4cfe3ee-876b-4097-bdba-4b23bf282d90",
   "metadata": {},
   "source": [
    "<b>5.2</b> Let $f(x, y, z) = xyz$, and let $\\alpha(t) = (cos \\,t, sin\\,t, t)$. Calculate $(f\\circ \\alpha)'(\\frac{\\pi}{6})$ in two different ways:<br>\n",
    "<b>(a)</b> by using the Litte Chain Rule,<br>\n",
    "<b>(b)</b> by substituting for $x, y$ and $z$ in terms of $t$ in the formula for $f$ to obtain $(f \\circ \\alpha)(t)$ directly and differentiating the result."
   ]
  },
  {
   "cell_type": "markdown",
   "id": "91a1cffe-42fa-4640-9c82-1cdbc97b376e",
   "metadata": {},
   "source": [
    "<b> Solution 5.2</b> \n",
    "\n",
    "<b> Solution (a)</b> We have $f(x,y, z) = xyz$\n",
    "\n",
    "$\\Rightarrow \\frac{\\partial }{\\partial x} = yz\\qquad, \\frac{\\partial }{\\partial y} = xz\\qquad$ and $\\frac{\\partial }{\\partial z} = xy$\n",
    "\n",
    "$\\Rightarrow \\nabla f(x,y,z) = (yz, xz, xy)$\n",
    "\n",
    "$\\Rightarrow \\nabla f(\\alpha(t))$ or $\\nabla (cos\\,t, sin\\,t) = (t\\cdot sin\\,t, t\\cdot cos\\,t, cos\\,t \\cdot sin\\,t)$\n",
    "\n",
    "and, in case of $\\alpha(t) = (cos\\,t, sin\\,t, t)$, we get $\\alpha'(t) = (-sin\\,t, cos\\,t, 1)$\n",
    "\n",
    "We know that,<br> Little Chain Rule state: $(f \\circ \\alpha)'(t) = \\nabla f(\\alpha(t)) \\cdot \\alpha'(t)$\n",
    "\n",
    "$\\Rightarrow (f \\circ \\alpha)'(t) = (t\\cdot sin\\,t, t\\cdot cos\\,t, cos\\,t \\cdot sin\\,t) \\cdot (-sin\\,t, cos\\,t, 1)$\n",
    "\n",
    "$\\qquad\\qquad\\qquad = -t\\,sin^2\\,t + t\\,cos^2\\,t + cos\\,t\\,sin\\,t$<br>\n",
    "$\\qquad\\qquad\\qquad = t(cos^2t - sin^2t) + cos\\,t\\,sin\\,t$ <br>\n",
    "$\\qquad\\qquad\\qquad = t cos\\,2t + sin\\,t\\,cos\\,t$ <br>\n",
    "$\\Rightarrow (f \\circ \\alpha)'(\\frac{\\pi}{6}) = \\frac{\\pi}{6} + cos\\,2 \\frac{\\pi}{6} + sin\\,\\frac{\\pi}{6}\\cdot cos\\,\\frac{\\pi}{6}$ <br>\n",
    "$\\qquad\\qquad\\qquad = \\frac{\\pi}{6}cos\\,\\frac{\\pi}{3} + \\frac{1}{2}\\cdot \\frac{\\sqrt{3}}{2}$\n",
    "\n",
    "$\\qquad\\qquad\\qquad = \\frac{\\pi}{6} \\cdot \\frac{1}{2} + \\frac{\\sqrt{3}}{4}$\n",
    "\n",
    "$\\qquad\\qquad\\qquad = \\frac{\\pi}{12} + \\frac{\\sqrt{3}}{4}$"
   ]
  },
  {
   "cell_type": "markdown",
   "id": "58383de1-e32a-4e56-bf4a-972d7580dd40",
   "metadata": {},
   "source": [
    "<b> Solution (b)</b>\n",
    "\n",
    "We have $f(x, y, z) = xyz$\n",
    "\n",
    "$\\Rightarrow (f \\circ \\alpha)$ or $f(\\alpha(t)) = f(cos\\,t, sin\\,t, t) = cos\\,t\\cdot sin\\,t \\cdot t$\n",
    "\n",
    "Now to get $(f \\circ \\alpha)'$, we need to differentiate $(f \\circ \\alpha) = cos\\,t\\cdot sin\\,t \\cdot t$<br>\n",
    "Lets take $f = cos\\,t \\cdot sin\\,t$ and $g = t$, and apply product rule\n",
    "\n",
    "$\\Rightarrow  (f \\circ \\alpha)' = \\frac{\\partial}{\\partial t}(cos\\,t sin\\,t)t + \\frac{\\partial}{\\partial t}t\\cdot (cos\\,t\\,sin\\,t)$\n",
    "\n",
    "$\\qquad\\qquad = t(cos\\,t\\frac{\\partial}{\\partial t}sin\\,t + sin\\,t\\frac{\\partial}{\\partial t}cos\\,t) + 1\\cdot cos\\,t\\,sin\\,t$\n",
    "\n",
    "$\\qquad\\qquad = t(cos\\,t\\cdot cos\\,t + sin\\,t(-sin\\,t)) + cos\\,t\\,sin\\,t$\n",
    "\n",
    "$\\qquad\\qquad = t(cos^2t - sin^2\\,t) + cos\\,t\\,sin\\,t$\n",
    "\n",
    "$\\qquad\\qquad = tcos\\,2t  + cos\\,t\\,sin\\,t$\n",
    "\n",
    "$\\Rightarrow (f \\circ \\alpha)'(t) = (t\\cdot sin\\,t, t\\cdot cos\\,t, cos\\,t \\cdot sin\\,t) \\cdot (-sin\\,t, cos\\,t, 1)$\n",
    "\n",
    "$\\qquad\\qquad\\qquad = -t\\,sin^2\\,t + t\\,cos^2\\,t + cos\\,t\\,sin\\,t$<br>\n",
    "$\\qquad\\qquad\\qquad = t(cos^2t - sin^2t) + cos\\,t\\,sin\\,t$ <br>\n",
    "$\\qquad\\qquad\\qquad = t cos\\,2t + sin\\,t\\,cos\\,t$ <br>\n",
    "$\\Rightarrow (f \\circ \\alpha)'(\\frac{\\pi}{6}) = \\frac{\\pi}{6} + cos\\,2 \\frac{\\pi}{6} + sin\\,\\frac{\\pi}{6}\\cdot cos\\,\\frac{\\pi}{6}$ <br>\n",
    "$\\qquad\\qquad\\qquad = \\frac{\\pi}{6}cos\\,\\frac{\\pi}{3} + \\frac{1}{2}\\cdot \\frac{\\sqrt{3}}{2}$\n",
    "\n",
    "$\\qquad\\qquad\\qquad = \\frac{\\pi}{6} \\cdot \\frac{1}{2} + \\frac{\\sqrt{3}}{4}$\n",
    "\n",
    "$\\qquad\\qquad\\qquad = \\frac{\\pi}{12} + \\frac{\\sqrt{3}}{4}$"
   ]
  },
  {
   "cell_type": "markdown",
   "id": "c521692b-762f-4155-b958-2ece5982623c",
   "metadata": {},
   "source": [
    "<b>5.3</b> let $f(x, y, z)$ be a differentiable real-valued function of three variables, and let $\\alpha(t) = (x(t), y(t), z(t))$ be a differentiable path in $\\mathbb{R}$^3. If $w = f(\\alpha(t))$, use the Little Chain Rule to find the formula for $\\frac{dw}{dt}$ in terms of the partial derivatives of $f$ and the derivatives with respect to $t$ of $x, y$ and $z$."
   ]
  },
  {
   "cell_type": "markdown",
   "id": "953fb7fe-87ba-46a0-af90-83e94d512c92",
   "metadata": {},
   "source": [
    "<b>5.4</b> The Little Chain Rule often lurks in the background of a type of first-year calculus problem known as the \"related rates\". For instance, as an example, suppose that the length $l$ and width $w$ of a rectangular region in the place are changing as functiions of time $t$, so that the area $A = lw$ also changes.\n",
    "\n",
    "<b>(a)</b> Find a formula for $\\frac{dA}{dt}$ in terms of $l, w$ and their derivatives by differentiating the formula $A = lw$ directly with respect to $t$.<br>\n",
    "<b>(b)</b> Obtain the same result using the Little Chain Rule: (Hint: let $\\alpha(t) = (l(w), w(t))$.)<br>\n",
    "<b>(c)</b> Suppose that, at the instant that the length of the region is 100 inches and its width is 40 inches, then length is increasing at a rate of 2 inches/second and the width is increasing at a rate of 3 inches/second. How fast is the area changing?"
   ]
  },
  {
   "cell_type": "markdown",
   "id": "4408f04b-8b7d-4dcd-ad0e-8c6c72229c4f",
   "metadata": {},
   "source": [
    "<b>5.5</b> Let $a$ be a point in $\\mathbb{R}^n$ and let $B = B(a, r)$ be an open ball centered at $a$. Let $f: B \\to \\mathbb{R}$ be a differentiable function. If $b$ is any point of $B$, show that there exists a point $c$ on the line segment connecting $a$ and $b$ such that:<br>\n",
    "$f(b) - f(a) = \\nabla f(c) \\cdot (b -a)$\n",
    "\n",
    "Note that this is a generalization of the mean value theorem to real-valued functions of more than one variable. (Hint: Explain why the line segment can be parametrized by $\\alpha(t) = a + t(b - a), 0\\le t \\le 1$. Then note that the composistion $f \\circ \\alpha$ is a real-valued function of one variable, so the one-variable mean value theorem applies.)"
   ]
  },
  {
   "cell_type": "markdown",
   "id": "9736dd3f-19df-4fd2-83c5-d23f38904d16",
   "metadata": {},
   "source": [
    "<b>5.6</b> In this exercise, we prove the Little Chain Rule . Let $U$ be an open set in $\\mathbb{R}^n, \\alpha : I \\to U$ a path in $U$ defined on an open interval $I$. and $f: U \\to \\mathbb{R}$ a real-valued function. Let $t_0$ be a point of $I$. Assume that $\\alpha$ is differentiable at $t_0$ and $f$ is differentiable at $\\alpha(t_0)$. Let $a = \\alpha(t_0)$, and let $Q : U \\to \\mathbb{R}$ be the function defined in Exercise 2.3<br>\n",
    "\n",
    "$Q(x) = \\begin{cases}\n",
    "\\frac{f(x) - f(a) - \\nabla f(a)\\cdot(x-a)}{\\lVert x-a \\rVert}  & \\text{if (x,y) $\\ne$ (0,0)} \\\\\n",
    "0 & \\text{if (x,y) = (0,0)}\\\\\n",
    "\\end{cases}$\n",
    "\n",
    "<b>(a)</b> Prove that $lim_{t \\to t_0} \\lvert \\frac{f(\\alpha(t)) - f(\\alpha(t_0)) - \\nabla f(\\alpha(t_0)) \\cdot (\\alpha(t) - \\alpha(t_0))}{t - t_0}\\rvert = 0$ (Hint: $f(x) - f(a) - \\nabla f(a) \\cdot (x-a) = \\lVert x - a \\rVert Q(x)$ or see Exercise 8.2 in Chapter 3)<br>\n",
    "\n",
    "<b>(b)</b> Prove the Little Chain Rule: $(f \\circ \\alpha)'(t_0) = \\nabla f(\\alpha(t_0)) \\cdot \\alpha'(t_0)$\n"
   ]
  },
  {
   "cell_type": "markdown",
   "id": "52c8df75-da86-4251-a405-6e62da618020",
   "metadata": {},
   "source": [
    "<b>5.7</b> Let $f: \\mathbb{R}^3 \\to \\mathbb{R}$ be a differentiable function with the property that $\\nabla f(x)$ points in the same direction as $x$ for all non-zero $x$ in $\\mathbb{R}^3$. If $a \\gt 0$, prove that $f$ is constant on the sphere $x^2 + y^2 + z^2 =a^2$ (Hint: If $p$ and $q$ are any two points on the sphere, there is a differentiable path $\\alpha$ on the sphere from $p$ to $q$.)"
   ]
  },
  {
   "cell_type": "markdown",
   "id": "82f95c0a-5b51-4220-af76-1b8510f6af7b",
   "metadata": {},
   "source": [
    "---------------------------------"
   ]
  },
  {
   "cell_type": "markdown",
   "id": "5617e4b3-2525-4f82-9e00-7654594585d1",
   "metadata": {},
   "source": [
    "<h2><b>Section 6 : Directional Derivatives </b></h2>"
   ]
  },
  {
   "cell_type": "markdown",
   "id": "6aeb5ea6-e0c7-4f95-b6cf-7c5b534d2240",
   "metadata": {},
   "source": [
    "$\\quad$ In Exercises 6.1-6.4, find the directional derivatives of $f$ at the point $a$ in the direction of the vector $v$."
   ]
  },
  {
   "cell_type": "markdown",
   "id": "5d50d32c-672f-413b-8dd2-6c12f0f2e827",
   "metadata": {},
   "source": [
    "<b>Question 6.1</b> $f(x, y) = e^{-2x}y^3, a = (0,1), v = (4,1)$"
   ]
  },
  {
   "cell_type": "markdown",
   "id": "4f402bfc-ea6a-4b60-9f37-79bca901640f",
   "metadata": {},
   "source": [
    "<b> Solution 6.1 </b> We have $f(x,y) = e^{-2x}y^3$\n",
    "\n",
    "$\\Rightarrow \\frac{\\partial}{\\partial x}(e^{-2x}y^3) = y^3 \\frac{\\partial}{\\partial x} (e^{-2x})$\n",
    "\n",
    "Let $u = -2x$, then\n",
    "\n",
    "$\\frac{\\partial}{\\partial x}(e^{-2x}) = \\frac{\\partial}{\\partial x} e^u = e^u \\frac{du}{dx} = e^{-2x}\\cdot \\frac{d}{dx}(-2x)$,\n",
    "\n",
    "$\\Rightarrow \\frac{\\partial}{\\partial x}(e^{-2x}) = e^{-2x}\\cdot (-2)$\n",
    "\n",
    "$\\Rightarrow \\frac{\\partial}{\\partial x}(e^{-2x}y^3) = -2e^{-2x}y^3$\n",
    "\n",
    "Similarly, <br>\n",
    "$\\frac{\\partial}{\\partial y}(e^{-2x}y^3) = e^{-2x}\\frac{\\partial}{\\partial y}(y^3) = 3e^{-2x}y^2$\n",
    "\n",
    "Now, we have $\\nabla f = (-2e^{-2x}y^3, 3e^{-2x}y^2) $\n",
    "\n",
    "So, $\\nabla f(a) = (-2e^{-2(0)}(1)^3, 3e^{-2(0)}(1)^2)$\n",
    "\n",
    "$\\qquad = (-2e^0(1), 3e^0(1))$\n",
    "\n",
    "$\\qquad = (-2,3)$\n",
    "\n",
    "Also, $u = \\frac{1}{\\lVert v \\rVert}v = \\frac{1}{\\sqrt{4^2 + 1^2}}(4,1) = \\frac{1}{\\sqrt{17}}(4,1)$\n",
    "\n",
    "Therefore, $(D_{u}f)(a) = \\nabla f(a) \\cdot u$\n",
    "\n",
    "$\\qquad\\qquad = (-2,3)\\frac{1}{\\sqrt{17}}(4,1) = \\frac{1}{\\sqrt{17}}(-8 +3)$\n",
    "\n",
    "$\\qquad\\qquad = \\frac{-5}{\\sqrt{17}}$"
   ]
  },
  {
   "cell_type": "markdown",
   "id": "2e8ad1df-b15a-4d1a-b0e6-baa07493f605",
   "metadata": {},
   "source": [
    "<b>Question 6.2</b> $f(x, y) = x^2 + y^2, a = (1, 2), v = (-2, 1)$"
   ]
  },
  {
   "cell_type": "markdown",
   "id": "62800294-f614-4c62-bd89-0e3ac29a6aa9",
   "metadata": {},
   "source": [
    "<b>Solution 6.2</b> \n",
    "\n",
    "Here, <br>\n",
    "$\\frac{\\partial}{\\partial x}(x^2 + y^2) = 2x\\quad$ and $\\quad \\frac{\\partial}{\\partial y}(x^2 + y^2) = 2y$\n",
    "\n",
    "$\\Rightarrow \\nabla f = (2x, 2y)$\n",
    "\n",
    "Therefore $\\nabla f(a) = (2,4)$\n",
    "\n",
    "and $u = \\frac{1}{\\lVert v \\rVert}v = \\frac{1}{\\sqrt{(-2)^2 + (1)^2}}(-2,1) = \\frac{1}{\\sqrt{5}}(-2,1)$\n",
    "\n",
    "$(D_{u}f(a)) = \\nabla f(a) \\cdot u$\n",
    "\n",
    "$\\qquad\\qquad = (2,4)\\frac{1}{\\sqrt{5}}(-2,1) = \\frac{1}{\\sqrt{5}}(-4 + 4)$<br>\n",
    "$\\qquad\\qquad = 0$"
   ]
  },
  {
   "cell_type": "markdown",
   "id": "3d95cc3f-7acb-4efc-973f-15eb5f3f7487",
   "metadata": {},
   "source": [
    "<b>6.3</b> $f(x, y, z) = x^3 -2x^2yz + xz -3, a = (1, 0, -1), b = (1, -1, 2)$"
   ]
  },
  {
   "cell_type": "markdown",
   "id": "f6b0da95-57e1-46a7-954d-bcde92b0b440",
   "metadata": {},
   "source": [
    "<b>Solution 6.3</b> \n",
    "\n",
    "Here, \n",
    "\n",
    "$\\frac{\\partial}{\\partial x} (x^3 -2x^2yz + xz -3) = \\frac{\\partial}{\\partial x}(x^3) - \\frac{\\partial}{\\partial x}(2x^2yz) +  \\frac{\\partial}{\\partial x} xz - \\frac{\\partial}{\\partial x} 3$\n",
    "\n",
    "$= 3x^2 - 2yz \\frac{\\partial}{\\partial x} x^2 + z \\frac{\\partial}{\\partial x} x + 0$\n",
    "\n",
    "$= 3x^2 -4xyz + z$\n",
    "\n",
    "Similarly, $\\frac{\\partial}{\\partial y} (x^3 -2x^2yz + xz -3) = \\frac{\\partial}{\\partial y}(x^3) - 2x^2z \\frac{\\partial}{\\partial y} y + \\frac{\\partial}{\\partial y} (xz) - \\frac{\\partial}{\\partial y} 3$\n",
    "\n",
    "$ = 0 - 2x^2z + 0 - 0 $ <br>\n",
    "$ = -2x^2z$\n",
    "\n",
    "Again, $\\frac{\\partial}{\\partial z} (x^3 -2x^2yz + xz -3) = \\frac{\\partial }{\\partial z}(x^3) - 2x^2y \\frac{\\partial }{\\partial z} z + x \\frac{\\partial }{\\partial z} (z) - \\frac{\\partial }{\\partial z} 3$\n",
    "\n",
    "$= 0 - 2x^2y + x$\n",
    "\n",
    "$ = x - 2x^2y$\n",
    "\n",
    "$\\nabla f = (3x^2 -4xyz + z, -2x^2z, x - 2x^2y)$\n",
    "\n",
    "We have, $a = (1, 0 , -1)$\n",
    "\n",
    "$\\nabla f(a) = (3(1)^2 - 4(1)(0)(-1)  + (-1), -2(1)^2(-1), 1 - 2(1)^2(0))$\n",
    "\n",
    "$ = (3 - 0 - 1, +2, 1- 0)  = (2, 2, 1)$\n",
    "\n",
    "Also, $u = \\frac{1}{\\lVert v \\rVert}v = \\frac{1}{\\sqrt{1^2 + (-1)^2 + 2^2}}(1,-1,2) = \\frac{1}{\\sqrt{6}}(1,-1,2)$\n",
    "\n",
    "Therefore, $(D_{u}f(a)) = \\nabla f(a) \\cdot u$\n",
    "\n",
    "$\\qquad\\qquad = (2,2,1) \\frac{1}{\\sqrt{6}}(1,-1,2)$\n",
    "\n",
    "$\\qquad\\qquad = \\frac{1}{\\sqrt{6}}(2(1),2(-1),1(2)) = \\frac{1}{\\sqrt{6}}(2 - 2 + 2)$\n",
    "\n",
    "$\\qquad\\qquad = \\frac{2}{\\sqrt{6}}$\n"
   ]
  },
  {
   "cell_type": "markdown",
   "id": "9ffaf2c8-2756-4e7f-8c95-6cec5b0e336b",
   "metadata": {},
   "source": [
    "<b>6.4</b> $f(x, y, z) = sin\\,x sin\\,y cos\\,z, a = (0,\\frac{\\pi}{2},\\pi), v = (\\pi, 2\\pi, 2\\pi)$"
   ]
  },
  {
   "cell_type": "markdown",
   "id": "9c477112-ab40-4658-94a7-28991f0be541",
   "metadata": {},
   "source": [
    "<b>6.5</b> For a certain differentiable real-valued function $f: \\mathbb{R}^2 \\to \\mathbb{R}$, the maximum directional derivative at the point $a = (0,0)$ has a value fo 6 and occurs in the direction from $a$ to the point $b = (4,1)$. Find $\\nabla f(a)$"
   ]
  },
  {
   "cell_type": "markdown",
   "id": "51f6490f-ab86-4b59-852a-b699a4af2b95",
   "metadata": {},
   "source": [
    "<b> Solution 6.5 </b>\n",
    "\n",
    "We know that, <br> The maximum directional derivative of $f$ at $a$ has a value of $\\lVert \\nabla f(a) \\rVert$\n",
    "\n",
    "and, directional derivative $(D_{u}f)(a) = \\nabla f(a) \\cdot u$\n",
    "\n",
    "Also, $(D_{u}f)(a) = \\lVert \\nabla f(a) \\rVert \\lVert u \\rVert cos \\theta = \\lVert \\nabla f(a) \\rVert cos \\theta $ and when maximised $\\theta = 0$\n",
    "\n",
    "$\\Rightarrow (D_{u}f)(a) = \\lVert \\nabla f(a) \\rVert$\n",
    "\n",
    "We have $\\lVert \\nabla f(a) \\rVert = 6$\n",
    "\n",
    "$\\Rightarrow (D_{u}f)(a)  =6$\n",
    "\n",
    "Then, we get directional derivative $(D_{u}f)(a) = \\nabla f(a) \\cdot u$ as :\n",
    "\n",
    "$6 = \\nabla f(a) \\cdot u$\n",
    "\n",
    "Here, unit vector from the point $a = (0,0)$ in the direction of $b = (4,1)$ would be:\n",
    "\n",
    "$u = \\frac{1}{\\lVert b \\rVert}b$\n",
    "\n",
    "$\\Rightarrow u = \\frac{1}{\\sqrt{4^2 + 1^2}}(4,1)$\n",
    "\n",
    "$\\Rightarrow u = \\frac{1}{\\sqrt{17}}(4,1)$\n",
    "\n",
    "Now, we have: \n",
    "\n",
    "$6 = \\nabla f(a) \\cdot \\frac{1}{\\sqrt{17}}(4,1)$\n",
    "\n",
    "$\\Rightarrow$  <b>Answer:</b> $\\nabla f(a) = \\frac{6}{\\sqrt{17}}(4,1)$"
   ]
  },
  {
   "cell_type": "markdown",
   "id": "4a13d026-079c-48f5-891e-cd9fc41faf78",
   "metadata": {},
   "source": [
    "<b>6.6</b> Let $f(x,y) = x^2 - y^2$.\n",
    "\n",
    "<b>(a)</b> At the point $a = (\\sqrt{2}, 1)$, find a unit vector $u$ that points in the direction in which $f$ is increasing most rapidly. What is the rate of increase in this direction?\n",
    "\n",
    "<b>(b)</b> Describe the set of all points $a = (x, y)$ in $\\mathbb{R}^2$ such that $f$ increases most rapidly at $a$ in the direction that points directly towards the origin."
   ]
  },
  {
   "cell_type": "markdown",
   "id": "7a1df21f-44bb-4326-9fee-70690569ba49",
   "metadata": {},
   "source": [
    "<b>6.7</b> A certain function has the form:<br>\n",
    "\n",
    "$f(x, y) = rx^2 + sy^2$\n",
    "\n",
    "where $r$ and $s$ are constant. Find values of $r$ and $s$ so that the maximum directional derivative of $f$ at the point $a = (1, 2)$ has a value of 10 and occurs in the direction from $a$ to the point $b = (2,3)$"
   ]
  },
  {
   "cell_type": "markdown",
   "id": "8c48747b-1a8f-4cfa-8d11-3f695b54b380",
   "metadata": {},
   "source": [
    "<b>6.8</b> Let $f(x,y) = xy$, and let $a = (5, -5)$\n",
    "\n",
    "<b>(a)</b> Find all directions in which the directional derivative of $f$ at $a$ is equal to 1.<br>\n",
    "<b>(b)</b> Is there a direction in which the directional derivative at $a$ is equal to 10?"
   ]
  },
  {
   "cell_type": "markdown",
   "id": "c21d3b36-5f58-4951-a7c7-8064b711ac0f",
   "metadata": {},
   "source": [
    "<b>6.9</b> The temperature in a certain region of space, in degree of Celsius, is modelled by the function $T(x, y, z) = 20e^{-x^2 -2y^2 -4x^2}$, where $x,y,z$ are measured in meters. At the point $a = (2, -1, 3)$:\n",
    "\n",
    "<b>(a)</b> In what direction is the temperature increasing most rapidly?<br>\n",
    "<b>(b)</b> In what direction is it decreasing most rapidly?<br>\n",
    "<b>(c)</b> If you travel in the direction described in part(a) at a speed of 10 meters/second, how fast is the observed temperature changing at $a$ in degree of Celsius per second?"
   ]
  },
  {
   "cell_type": "markdown",
   "id": "c3008d09-8a10-4abc-af32-a0efb657c9e6",
   "metadata": {},
   "source": [
    "<b>6.10</b> Let $c = (c_1, c_2, \\cdots c_n)$ be a vector in $\\mathbb{R}^n$ and define $f: \\mathbb{R}^n \\to \\mathbb{R}$ by $f(x) = c \\cdot x$\n",
    "\n",
    "<b>(a)</b> Find the derivative $Df(x)$ <br>\n",
    "<b>(b)</b> If $u$ is a unit vector in $\\mathbb{R}^n$, find a formula for the directional derivative $(D_u f)(x)$"
   ]
  },
  {
   "cell_type": "markdown",
   "id": "49331506-18b1-4ed7-942a-10fa649a65e9",
   "metadata": {},
   "source": [
    "<b>6.11</b> You discover that your happiness is a function of your location in the plane. At the point $(x,y)$, you happiness is given by the formula:<br>\n",
    "$H(x, y) = x^3e^{2y}\\quad$<b>happs</b>\n",
    "\n",
    "Where \"happ\" is a unit of happiness. For instance, at the point $(1,0)$, you are $H(1,0) = 1$ happ happy.\n",
    "\n",
    "<b>(a)</b> At the point $(1,0)$ in which direction is your happiness increasing most rapidly? What is the value of the directional derivative in this direction?<br>\n",
    "\n",
    "<b>(b)</b> Still at the point $(1,0)$ in which direction is your happiness decreasing most rapidly? What is the value of the directional derivative in this direction?<br>\n",
    "\n",
    "<b>(c)</b> Suppose that, starting at $(1,0)$, you follow a curve so that you are always trveling in the direction in which your happiness increases most rapidly. Find an equation for the curve, and sketch the curve. An equation describing the relationship between $x$ and $y$ along the curve is fine. No further parametrization is necessary. (Hint: What can you say about the slope at each point of the curve?)"
   ]
  },
  {
   "cell_type": "markdown",
   "id": "b1c45a63-05b7-4174-bbf5-a824faef1151",
   "metadata": {},
   "source": [
    "<b>6.12</b> Does there exist a differentiable function $f: U \\to \\mathbb{R}$ defined on an open subset $U$ of $\\mathbb{R}^n$ with the property that, for some point $a$ in $U$, the directional derivatives at $a$ satisfy $(D_u f)(a) \\lt 0$ for all units vectors $u$ in $\\mathbb{R}^n$ i.e, the directional derivative at $a$ is positive in every direction? Either find such a function and point $a$, or explain why none exists."
   ]
  },
  {
   "cell_type": "markdown",
   "id": "01858e66-9e57-413f-b50b-1c76b0d095a2",
   "metadata": {},
   "source": [
    "-------------------------------------------"
   ]
  },
  {
   "cell_type": "markdown",
   "id": "680b8385-fc5f-4c53-9e79-eea5e7bf3ea3",
   "metadata": {
    "jp-MarkdownHeadingCollapsed": true
   },
   "source": [
    "<h2><b>Section 7 : $\\nabla f$ as normal vector</b></h2>"
   ]
  },
  {
   "cell_type": "markdown",
   "id": "708a19f8-12b6-465e-afb1-13efc0d5af20",
   "metadata": {},
   "source": [
    "<b>7.1</b> Find an equation of the tangent plane to the surface $z = x^3 - y^3$ at the point $a$ = (1, 2, -3)."
   ]
  },
  {
   "cell_type": "markdown",
   "id": "52dc00ab-024d-4ecc-8cac-b650e1ce858e",
   "metadata": {},
   "source": [
    "<b>7.2</b> Find an equation of the tangenet plane to the surface $x^2 + y^2 - z^2 =1$ at the point $a = (1,-1,1)$"
   ]
  },
  {
   "cell_type": "markdown",
   "id": "72220ed2-405d-4322-adb4-15488b21f75c",
   "metadata": {},
   "source": [
    "<b>7.3</b> The surface in $\\mathbb{R}^3$ given by:\n",
    "\n",
    "$(9x^2 + y^2 + z^2 -1)^3 -y^2z^3 \\frac{2}{5}x^2y^3 = 0$\n",
    "\n",
    "was featured in an article in the February 14, 2019 issue of <i>The New york Times</i> See Figure 4.14 Nowhere in the article was the tangent plane at the point $(0,1,1)$ mentioned. Scoop the <i>Times</i> by finding an equation of the tangent plane."
   ]
  },
  {
   "cell_type": "markdown",
   "id": "edcca4bb-09ec-4fa4-86d0-1eed7772831f",
   "metadata": {},
   "source": [
    "<b>7.4</b> Let $S$ be the ellipsoid $x^2 +\\frac{y^2}{2} + \\frac{z^2}{4} = 4$. Let $a = (1,2,2)$, and let $n$ be the unit normal vector to $S$ at $a$ that points outward from $S$. If $f(x,y,z) = xyz$, find the directional derivative $(D_u f)(a)$"
   ]
  },
  {
   "cell_type": "markdown",
   "id": "43704fb3-1051-4f0e-ac1b-e9ca7ba4cfd2",
   "metadata": {},
   "source": [
    "<b>7.5</b> The saddle surface $y^2 - x^2 - z = 0$ and the sphere $x^2 + y^2 + z^2 = 14$ intersect in a curve $C$ that passes through the point $a = (1, 2, 3)$. Find a parametrization of the line tangent to $C$ at $a$."
   ]
  },
  {
   "cell_type": "markdown",
   "id": "2de6c3e6-61eb-4f38-93dc-376a58eafbf9",
   "metadata": {},
   "source": [
    "<b>7.6</b>Find all values of $c$ such that, at every point of intersection of the sphere \n",
    "\n",
    "$(x -c)^2 + y^2 + z^2 = 3$ and $x^2 + (y -1)^2 + z^2 =1$,<br>\n",
    "the respective tangent planes are perpendicular to one another."
   ]
  },
  {
   "cell_type": "markdown",
   "id": "f2a76664-e37b-4494-b98c-8680a689df29",
   "metadata": {},
   "source": [
    "-----------------------------------------"
   ]
  },
  {
   "cell_type": "markdown",
   "id": "fa46ef0c-97ea-4cfe-8a23-4a8925a6962a",
   "metadata": {
    "jp-MarkdownHeadingCollapsed": true
   },
   "source": [
    "<h2><b>Section 8 : Higher-order partial derivatives</b></h2>"
   ]
  },
  {
   "cell_type": "markdown",
   "id": "9a9abdd6-568b-4652-b905-a42dd19a929c",
   "metadata": {},
   "source": [
    "<b>8.1</b> $f(x, y) = x^4 -2x^3y + 3x^2y^2 -4xy^3 + 5y^4$"
   ]
  },
  {
   "cell_type": "markdown",
   "id": "d4a8e518-83b1-41d7-8c7c-5887de478569",
   "metadata": {},
   "source": [
    "<b>8.2</b> $f(x,y) = sin\\,x cos\\,y$"
   ]
  },
  {
   "cell_type": "markdown",
   "id": "654e3973-d78a-4d21-b64a-93dc0215f917",
   "metadata": {},
   "source": [
    "<b>8.3</b> $f(x, y) = e^{-x^{2}-y^{2}}$"
   ]
  },
  {
   "cell_type": "markdown",
   "id": "7824902d-1573-45b7-aaf3-f715d6cafeaa",
   "metadata": {},
   "source": [
    "<b>8.4</b> $f(x, y) = \\frac{y}{x+y}$"
   ]
  },
  {
   "cell_type": "markdown",
   "id": "ca67469c-7d55-43e3-9d7e-729819f74eef",
   "metadata": {},
   "source": [
    "<b>8.5</b> Let $f(x, y) = x^4y^3$. Find $i$ and $j$ so that the $(i + j)$th-order partial derivative $\\frac{\\partial^{i+j}f}{\\partial x^{i} \\partial y^{j}} (0,0)$ is non-zero. What is the value of this partial derivative?"
   ]
  },
  {
   "cell_type": "markdown",
   "id": "7a64bb0f-e88b-420e-bd94-5234f4fba4e6",
   "metadata": {},
   "source": [
    "<b>8.6</b> Consider the function $f: \\mathbb{R}^2 \\to \\mathbb{R}$ defined by: <br>\n",
    "$f(x, y) = \\begin{cases}\n",
    "\\frac{x^3y}{x^2 + y^2}  & \\text{if (x,y) $\\ne$ (0,0)} \\\\\n",
    "0 & \\text{if (x,y) = (0,0)}\\\\\n",
    "\\end{cases}$\n",
    "\n",
    "<b>(a)</b> Find formulas for the partial derivatives $\\frac{\\partial f}{\\partial x}(x, y)$ and $\\frac{\\partial f}{\\partial y}(x, y)$ if $(x, y) \\ne (0,0)$\n",
    "\n",
    "<b>(b)</b> Find the values of $\\frac{\\partial f}{\\partial x}(0, 0)$ and $\\frac{\\partial f}{\\partial y}(0, 0)$\n",
    "\n",
    "<b>(c)</b>Use you answers to parts(a) and parts(b) to evaluate the second-order partial derivatives:\n",
    "\n",
    "$\\frac{\\partial^2 f}{\\partial y \\partial x}(0, 0) = (\\frac{\\partial}{\\partial y}(\\frac{\\partial f}{\\partial x}))(0,0)$ and $\\frac{\\partial^2 f}{\\partial x \\partial y}(0, 0) = (\\frac{\\partial}{\\partial x}(\\frac{\\partial f}{\\partial y}))(0,0)$\n",
    "\n",
    "at the origin (and only at the origin) (Warning: Do not assume that the second-order partial derivatives are continuous)\n",
    "\n",
    "<b>(d)</b> Is $f$ of class $C^2$ on $\\mathbb{R}^2$? Is it of class $C^{1}$"
   ]
  },
  {
   "cell_type": "markdown",
   "id": "4c312605-7083-4f39-9e6e-c20d7e637e3b",
   "metadata": {},
   "source": [
    "<b>8.7</b> This exercise gives the details of a full proof of the equality of mixed partials. Let $a = (c, d)$ be a point of $\\mathbb{R}^2$ and let $f: B \\to \\mathbb{R}$ be a real-valued function defined on an open ball $B = B(a, r)$ centered at $a$. Assume that the first and second-order partial derivatives of $f$ are continuous on $B$. Let $R$ be the rectangle whose vertices are $a = (c, d), u = (c+ h, d), v = (c+h, d+k)$ and $w = (c, d+k)$, where $h$ and $k$ are nonzero real numbers small enough that $R \\subset B$. \n",
    "\n",
    "Let:\n",
    "\n",
    "$\\Delta = f(v) - f(u) - f(w) + f(a)$<br>\n",
    "$\\quad = f(c + h, d + k) - f(c + h, d) - f(c, d +k) + f(c, d)$\n",
    "\n",
    "<b>(a)</b> Show that $\\Delta = (\\frac{\\partial f}{\\partial y}(c + h, y_1) - \\frac{\\partial f}{\\partial y}(c, y_1))k$ for some number $y_1$ between $d$ and $d+k$. (Hint: Note that $\\Delta = g(d + k) -g(d)$, where $g$ is the function defined by $g(y) = f(c+h, y) - f(c,y)$. Apply the mean value theorem)\n",
    "\n",
    "<b>(b)</b> Show that there is a point $p = (x_1, y_1)$ in $R$ such that $\\Delta = \\frac{\\partial^2 f}{\\partial x \\partial y}(p)hk$ (Hint: Apply the mean value theorem again, this time to the difference in the result fo part(a).\n",
    "\n",
    "<b>(c)</b> Similarly, show that there is a point $q = (x_2, y_2)$ in $R$ such that $\\Delta = \\frac{\\partial^2 f}{\\partial y \\partial x}(q)hk$ (Hint: Consider $j(x) = f(x, d+k) - f(x,d).$)\n",
    "\n",
    "<b>(d)</b> Deduce that the mixed partials at $a$ are equal: $\\frac{\\partial^2 f}{\\partial x \\partial y}(a) = \\frac{\\partial^2 f}{\\partial y \\partial x}(a)$ (Hint: What happens to $R$ as $h, k \\to 0$?)"
   ]
  },
  {
   "cell_type": "markdown",
   "id": "afc33c91-3b5a-4154-9a82-7a3e0f2421b2",
   "metadata": {},
   "source": [
    "------------------------------------------"
   ]
  },
  {
   "cell_type": "markdown",
   "id": "e4a10142-13a7-4140-bc90-57cac96db699",
   "metadata": {
    "jp-MarkdownHeadingCollapsed": true
   },
   "source": [
    "<h2><b>Section 10 : Max/Min : Critical Points</b></h2>"
   ]
  },
  {
   "cell_type": "markdown",
   "id": "fd9f5809-3a22-4354-b13b-c3d815ca9d12",
   "metadata": {},
   "source": [
    "$\\quad$In Exercises 10.1-10.6, find all critical points of $f$, and if possible, classify their type."
   ]
  },
  {
   "cell_type": "markdown",
   "id": "af14fecf-9946-4886-93fc-cc55b086d685",
   "metadata": {},
   "source": [
    "<b>10.1</b> $f(x,y) = 2 - 10x - 3x^2 -20xy +8xy + 3y^2$<br>\n",
    "\n",
    "<b>10.2</b> $f(x,y) = 5 - 2x - 2x^2 -2xy +2y -y^2$\n",
    "\n",
    "<b>10.3</b> $f(x,y) = x^4 + 2y^4 + 3x^2y^2 + 4x^2 + 5y^2$\n",
    "\n",
    "<b>10.4</b> $f(x,y) = x^3 + x^2 + 4xy -2y^2 + 9$\n",
    "\n",
    "<b>10.5</b> $f(x,y) = 2x^3 + y^2 - 6xy$\n",
    "\n",
    "<b>10.6</b> $f(x,y) = 4x^3 + y^3 + (1 -x -y)^3$"
   ]
  },
  {
   "cell_type": "markdown",
   "id": "4bd00f32-135e-4a82-8820-0f24e5912398",
   "metadata": {},
   "source": [
    "<b>10.7</b> "
   ]
  },
  {
   "cell_type": "code",
   "execution_count": null,
   "id": "f26ded06-6161-4b23-ae55-29f9e70b9f8f",
   "metadata": {},
   "outputs": [],
   "source": []
  }
 ],
 "metadata": {
  "kernelspec": {
   "display_name": "Python 3 (ipykernel)",
   "language": "python",
   "name": "python3"
  },
  "language_info": {
   "codemirror_mode": {
    "name": "ipython",
    "version": 3
   },
   "file_extension": ".py",
   "mimetype": "text/x-python",
   "name": "python",
   "nbconvert_exporter": "python",
   "pygments_lexer": "ipython3",
   "version": "3.9.9"
  }
 },
 "nbformat": 4,
 "nbformat_minor": 5
}

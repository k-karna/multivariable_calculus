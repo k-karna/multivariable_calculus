{
 "cells": [
  {
   "cell_type": "markdown",
   "id": "28462705",
   "metadata": {},
   "source": [
    "<center><h2>Exercises for Chapter 3</h2></center>"
   ]
  },
  {
   "cell_type": "markdown",
   "id": "d48ec8da",
   "metadata": {},
   "source": [
    "<h3>Section 1 : Graphs and level sets</h3>\n",
    "\n",
    "For the functions $f(x, y)$ in Exercises 1.1-1.7 <b>(a)</b>Sketch the cross-sections of the graph $z = f(x, y)$ with the coordinate planes, <b>(b)</b> sketch several level curves of $f$, labeling each with the corresponding value of $c,$ and <b>(c)</b> sketch the graph of $f$."
   ]
  },
  {
   "cell_type": "markdown",
   "id": "a9359a33",
   "metadata": {},
   "source": [
    "<b>1.1</b> $f(x, y) = x^2 + y^2$<br>\n",
    "<b>1.2</b> $f(x, y) = x^2 + y^2 + 1$<br>\n",
    "<b>1.3</b> $f(x, y) = y - x^2$<br>\n",
    "<b>1.4</b> $f(x, y) = x + y$<br>\n",
    "<b>1.5</b> $f(x, y) = |x| + |y|$<br>\n",
    "<b>1.6</b> $f(x, y) = xy$<br>\n",
    "<b>1.7</b> $f(x, y) = \\frac{y}{x^2 + 1}$"
   ]
  },
  {
   "cell_type": "markdown",
   "id": "03dfb06a",
   "metadata": {},
   "source": [
    "---------------------------------"
   ]
  },
  {
   "cell_type": "markdown",
   "id": "d5a8c05a",
   "metadata": {},
   "source": [
    "<b>1.8</b> The graph of the function $f(x, y) = x^3 -3xy^2$ is called a  <b>monkey saddle</b>. You will need to bring one along whenever you invite a monkey to go riding with you. The level sets of $f$ are not easy to sketch directly, but it is still possible to get a reasonable idea of what the graph looks like:\n",
    "\n",
    "<b>(a)</b> Sketch the level set corresponding to $c = 0$ (Hint: $x^3 - 3xy^2 = x(x + \\sqrt{3y})(x - \\sqrt{3y})$)\n",
    "\n",
    "<b>(b)</b> Draw the region of $xy-$plane in which $f(x, y) \\gt 0$ and the region in which $f(x, y) \\lt 0$. (Hint: Part(a) might help.)\n",
    "\n",
    "\n",
    "<b>(c)</b>Use the information from parts (a) and parts (b) to make a rough sketch of the monkey saddle"
   ]
  },
  {
   "cell_type": "markdown",
   "id": "e9bebebd",
   "metadata": {},
   "source": [
    "---------------------------------------"
   ]
  },
  {
   "cell_type": "markdown",
   "id": "d4aed203",
   "metadata": {},
   "source": [
    "<h3>Section 2: More surfaces in $\\mathbb{R}^3$</h3>"
   ]
  },
  {
   "cell_type": "markdown",
   "id": "9c3ffe45",
   "metadata": {},
   "source": [
    "In Exercises 2.1 - 2.4, sketch the surface in $\\mathbb{R}^3$ described by the given equation."
   ]
  },
  {
   "cell_type": "markdown",
   "id": "248f3a51",
   "metadata": {},
   "source": [
    "<b>2.1</b> $x^2 + y^2 + z^2 = 4$<br>\n",
    "<b>2.2</b> $x^2 + y^2 = 4$<br>\n",
    "<b>2.3</b> $x^2 + z^2 = 4$<br>\n",
    "<b>2.4</b> $x^2 + \\frac{y^2}{9} + \\frac{z^2}{4} = 1$"
   ]
  },
  {
   "cell_type": "markdown",
   "id": "00568dd7",
   "metadata": {},
   "source": [
    "----------------------------------------"
   ]
  },
  {
   "cell_type": "markdown",
   "id": "d62b866c",
   "metadata": {},
   "source": [
    "In Exercises 2.5 - 2.9, sketch the level sets corresponding to the indicated values of $c$ for the given function $f(x, y, z)$ of three variables. Make a separate sketch for each individuals level set."
   ]
  },
  {
   "cell_type": "markdown",
   "id": "5634d93a",
   "metadata": {},
   "source": [
    "<b>2.5</b> $f(x, y, z) = x^2 + y^2 + z^2, c = 0, 1,2$<br>\n",
    "\n",
    "<b>2.6</b> $f(x, y, z) = x^2 + y^2, c = 0, 1, 2$<br>\n",
    "\n",
    "<b>2.7</b> $f(x, y, z) = x^2 + y^2 -z, c = -1,0,1$<br>\n",
    "\n",
    "<b>2.8</b> $f(x, y, z) = x^2 - y^2 - z^2, c = -1,0,1$<br>\n",
    "\n",
    "<b>2.9</b> $f(x, y, z) = x^2 - y^2 - z^2, c = -1,0,1$"
   ]
  },
  {
   "cell_type": "markdown",
   "id": "566df868",
   "metadata": {},
   "source": [
    "<b> 2.10</b> Can the saddle surface $z = x^2 - y^2$ in $\\mathbb{R}^3$ be described as a level set? If so, how? What about the parabola $y = x^2$ in $\\mathbb{R}^2$"
   ]
  },
  {
   "cell_type": "markdown",
   "id": "3d51aaeb",
   "metadata": {},
   "source": [
    "--------------------------"
   ]
  },
  {
   "cell_type": "markdown",
   "id": "aefa6217",
   "metadata": {},
   "source": [
    "<h3>Section 3: The equation of a plane</h3>"
   ]
  },
  {
   "cell_type": "markdown",
   "id": "1040c29d",
   "metadata": {},
   "source": [
    "<b>3.1</b> Find an equation of the plane through the point $p = (1,2,3)$ with normal vector $n = (4, 5, 6)$\n",
    "\n",
    "<b>3.2</b> Find an equation of the plane through the point $p = (2, -1, 3)$ with normal vector $n = (1, -4, 5)$\n",
    "\n",
    "<b>3.3</b> Find a point that lies on the plane $x + 3y + 5z = 9$ and a normal vector to the plane.\n",
    "\n",
    "<b>3.4</b> Find a point that lies on th plane $x + z = 1$ and a normal vector to the plane.\n",
    "\n",
    "<b>3.5</b> Are the planes $x - y + z = 8$ and $2x + y - z = -1$ perpendicular? Are they parallel?\n",
    "\n",
    "<b>3.6</b> Are the planes $x - y + z = 8$ and $2x - 2y + 2z = -1$ perpendicular? Are they parallel?"
   ]
  },
  {
   "cell_type": "markdown",
   "id": "e0bb8958",
   "metadata": {},
   "source": [
    "<b>3.7</b> Find an equation of the plane that contains the points $p = (1, 0, 0), q = (0, 2, 0)$ and $r = (0,0,3)$\n",
    "\n",
    "<b>3.8</b> Find an equation of the plane that contains the points $p = (1, 1, 1), q = (2, -1, 2)$ and $r = (-1, 2,0)$\n",
    "\n",
    "<b>3.9</b> Find an equation of the plane that contains the point $p = (1, 1, 1)$ and the line parametrized by $\\alpha(t) = (1, 0, 1) + t(2, 3, -4)$"
   ]
  },
  {
   "cell_type": "markdown",
   "id": "bf0eda38",
   "metadata": {},
   "source": [
    "<b>3.10</b> Find a parametrization of the line of intersection of the planes $x + y + z = 3$ and $x - y + z =1$"
   ]
  },
  {
   "cell_type": "markdown",
   "id": "c2e1a26a",
   "metadata": {},
   "source": [
    "<b>3.11</b> What point on the plane $x - y + 2z =3$ is closest to the point $q = (2, 1, -1)$? (Hint: Find a parametrizatoin of an appropriate line through $q$)"
   ]
  },
  {
   "cell_type": "markdown",
   "id": "74e39717",
   "metadata": {},
   "source": [
    "<b>3.12</b> Two planes in $\\mathbb{R}^3$ are perpendicular to each other. Their line of intersection is desribed by the parametric equations:\n",
    "\n",
    "$x = 2 -t\\quad y = -1 + t\\quad z = -4 + 2t$\n",
    "\n",
    "If one of the planes has equation $2x + 4y -z = 4$, find an equation for the other plane."
   ]
  },
  {
   "cell_type": "markdown",
   "id": "8c37bf45",
   "metadata": {},
   "source": [
    "<b>3.13</b> Consider the plane $x + y + z =1$\n",
    "\n",
    "<b>(a)</b> Sketch the cross-section with the three coordinate planes.\n",
    "\n",
    "<b>(b)</b> Sketch and describe in words the portion of the plane that lies in the \"first octant\" of $\\mathbb{R}^3$, that is, the part where $x \\ge 0, y \\ge 0$ and $z \\ge 0$"
   ]
  },
  {
   "cell_type": "markdown",
   "id": "a724c691",
   "metadata": {},
   "source": [
    "<b> 3.14</b> Sketch and describle some of the level sets of the function $f(x, y, z) = x + y + z$"
   ]
  },
  {
   "cell_type": "markdown",
   "id": "56cd7697",
   "metadata": {},
   "source": [
    "<b>3.15</b> Let $\\pi_{1}$, and $\\pi_{2}$ be parallel planes in $\\mathbb{R}^3$ given by the equations:\n",
    "\n",
    "$ \\pi_{1} = Ax + By + Cz = D_{1}$ and $\\quad \\pi_{2} = Ax + By + Cz = D_{2}$ \n",
    "\n",
    "<b>(a)</b> If $p_{1}$ and $p_{2}$ are points on $\\pi_{1}$ and $\\pi_{2}$ respectively, show that:\n",
    "\n",
    "$n \\cdot (p_{2} - p_{1} = D_{2} - D_{1})$\n",
    "\n",
    "where $n = (A, B, C)$ is a normal vector to the two planes"
   ]
  },
  {
   "cell_type": "markdown",
   "id": "acee2f94",
   "metadata": {},
   "source": [
    "<b>(b)</b> Show that the perpendicular distance $d$ between $\\pi_{1}$ and $\\pi_{2}$ is given by:\n",
    "\n",
    "$d = \\frac{\\lvert D_{2} - D_{1}\\rvert}{\\sqrt{A^2 + B^2 + C^2}}$\n",
    "\n",
    "<b>(c)</b> Find the perpendicular distance between the planes $x + y + z =1$ and $x + y + z =5$"
   ]
  },
  {
   "cell_type": "markdown",
   "id": "de45d9e9",
   "metadata": {},
   "source": [
    "<b>3.16</b> Let $\\alpha$ be a path in $\\mathbb{R}^3$ that has constant torison $\\tau = 0$. You may assume that $\\alpha'(t) = 0$ and $T'(t) \\ne 0$ for all $t$ so that the Frenet vectors of $\\alpha$ are always defiend.\n",
    "\n",
    "<b>(a)</b> Prove that the binormal vector $B$ is constant.\n",
    "\n",
    "<b>(b)</b> Fix a time $t = t_0$ and let $x_0 = \\alpha(t_0)$. Show that the function.\n",
    "\n",
    "$f(t) = B \\cdot (\\alpha(t) - x_0)$\n",
    "\n",
    "is a constant function. What is the value of the constant?\n",
    "\n",
    "<b>(c)</b> Prove that $\\alpha_(t)$ lies in a single plane for all $t$. In other words, curves that have constant torsion $0$ must be planar. (Hint: Use part (b) to identify a point and a normal vector for the plane in which the path lies)"
   ]
  },
  {
   "cell_type": "markdown",
   "id": "5abac667",
   "metadata": {},
   "source": [
    "<h3>Section 4: Open sets</h3>"
   ]
  },
  {
   "cell_type": "markdown",
   "id": "b9500048",
   "metadata": {},
   "source": [
    "In Exercises 4.1 - 4.7, let $U$ be the set of points $(x,y)$ in $\\mathbb{R}^2$ that satisfy the given conditions. Sketch $U$, and determine whether it is an open set. your arguments should be at a level of rigor comparable to those given in the text.\n",
    "\n",
    "<b>4.1</b> $0 \\lt x \\lt 1$ and $0 \\lt y \\lt 1$</b>\n",
    "\n",
    "<b>4.2</b> $|x| \\lt 1$ and $|y| \\lt 1$\n",
    "\n",
    "<b>4.3</b> $|x| \\le 1$ and $|y| \\le 1$\n",
    "\n",
    "<b>4.4</b> $x^2 + y^2 =1 $\n",
    "\n",
    "<b>4.5</b> $1 \\lt x^2 + y^2 \\lt 4$\n",
    "\n",
    "<b>4.6</b>$ y \\gt x$\n",
    "\n",
    "<b>4.7</b>$y \\ge x$\n",
    "\n",
    "<b>4.8</b> Is $\\mathbb{R}^2 - \\{(0,0)\\}$, the plane with the origin removed, an open set in $\\mathbb{R}^2$? Justify your answer.\n",
    "\n",
    "<b>4.9</b> Prove that the union of any collection of open sets in $\\mathbb{R}^n$ is open. That is, if $\\{ U_{\\alpha}\\}$ is a collection of open sets in $\\mathbb{R}^n$, then $\\bigcup_{\\alpha} U_\\alpha$ is open."
   ]
  },
  {
   "cell_type": "markdown",
   "id": "9db7ee26",
   "metadata": {},
   "source": [
    "--------------------------"
   ]
  },
  {
   "cell_type": "markdown",
   "id": "806cf0a9",
   "metadata": {},
   "source": [
    "<h3>Section 5  Continuity</h3>"
   ]
  },
  {
   "cell_type": "markdown",
   "id": "b4f81bf9",
   "metadata": {},
   "source": [
    "<b>5.1 </b>\n",
    "\n",
    "Let $f: \\mathbb{R}^2 \\to \\mathbb{R}$ be the function\n",
    "\n",
    "  $f(n) =\n",
    "\\begin{cases}\n",
    "\\frac{x^3}{x^2 + y^2},  & \\text{if (x,y) $\\ne$ (0,0)} \\\\\n",
    "0, & \\text{if (x,y) = (0,0)}\n",
    "\\end{cases}$\n",
    "\n",
    "<b>(a)</b> Let $a$ be a positive real number. Show that if $|| (x,y) || \\lt a$, then $\\lvert f(x,y) \\rvert \\lt a^2$\n",
    "\n",
    "<b>(b)</b> Use the $\\epsilon \\delta -$definition of continuity to determine whether $f$ is continuous at (0,0)"
   ]
  },
  {
   "cell_type": "markdown",
   "id": "1dbf5c3d",
   "metadata": {},
   "source": [
    "<b> 5.2</b> Consider the function $f(x, y)$ defined by :\n",
    "\n",
    "$$ f(x, y) = \\frac{x^2 y^4}{(x^2 + y^4)^2} if (x,y) \\ne (0,0)$$\n",
    "\n",
    "Determine what happens to the value of $f(x,y)$ as $(x,y)$ approaches the origin along:\n",
    "\n",
    "<b>(a)</b> the $x-$axis<br>\n",
    "<b>(b)</b> the $y-$axis<br>\n",
    "<b>(c)</b> the line $y = mx$<br>\n",
    "<b>(d)</b> the parabola $x = y^2$<br>\n",
    "<b>(e)</b> Is it possible to assign a value to $f(0,0)$ so that $f$ is continuous at $(0,0)$? Justify your answer using the $\\epsilon \\delta -$definition of continuity"
   ]
  },
  {
   "cell_type": "markdown",
   "id": "aca79c55",
   "metadata": {},
   "source": [
    "<b>5.3</b> Let $f(x) = \\frac{x^2 - y^2}{x^2 + y^2}$ if $(x,y) \\ne (0,0)$ is it possible to assign a value to $f(0,0)$ so that $f$ is continuous at $(0,0)$? Justify your answer using the $\\epsilon \\delta -$definition"
   ]
  },
  {
   "cell_type": "markdown",
   "id": "1cd611c0",
   "metadata": {},
   "source": [
    "<b>5.4</b> Let $f(x) = \\frac{x^2 + 2y^3}{x^2 + y^2}$ if $(x,y) \\ne (0,0)$. Is it possible to assign a value to $f(0,0)$ so that $f$ is continuous at $(0,0)$? Justify your answer using the $\\epsilon \\delta -$definition"
   ]
  },
  {
   "cell_type": "markdown",
   "id": "69ecd5d4",
   "metadata": {},
   "source": [
    "------------------------------------"
   ]
  },
  {
   "cell_type": "markdown",
   "id": "44002c0b",
   "metadata": {},
   "source": [
    "<h3>Section 6 : Some properties of continuous functions</h3>"
   ]
  },
  {
   "cell_type": "markdown",
   "id": "fa0d2be4",
   "metadata": {},
   "source": [
    "<b>6.1</b> Let $a = (1,2)$. Show that the function $f: \\mathbb{R}^2 \\to \\mathbb{R}$ given by $f(x) = a \\cdot x$ is continuous"
   ]
  },
  {
   "cell_type": "markdown",
   "id": "08457923",
   "metadata": {},
   "source": [
    "In Exercises 5.1-5.2, you determined the continuity of the following two functions at $(0,0)$. Now consider points $(x, y)$ other than $(0,0)$. Determine all such points at which $f$ is continuous.\n",
    "\n",
    "<b>6.2</b> $f(x,y) = \\frac{x^3y}{x^2 + y^2}$ if $(x,y) \\ne (0,0), f(0,0) = 0$\n",
    "\n",
    "<b>6.3</b> $f(x,y) = \\frac{x^2 y^4}{(x^2 + y^4)^2}$ if $(x,y) \\ne (0,0)$\n",
    "\n",
    "<b>6.4</b> Let $U$ be an open set in $\\mathbb{R}^n$, and let $f: U \\to \\mathbb{R}$ be a function that is continuous at a point $a$ of $U$.\n",
    "\n",
    "\n",
    "<b>(a)</b> If $f(a) \\gt 0$, show that there exists an open ball $B = B(a,r)$ centered at $a$ such that $f(x) \\gt \\frac{f(a)}{2}$ for all $x$ in $B$. (Hint: let $\\epsilon = \\frac{f(a)}{2}$.)\n",
    "\n",
    "<b>(b)</b> Similarly, if $f(a) \\lt 0$, show that there exists an open ball $B = B(a,r)$ such that $f(x) \\lt \\frac{f(a)}{2}$ for all $x$ in $B$."
   ]
  },
  {
   "cell_type": "markdown",
   "id": "ef857df6",
   "metadata": {},
   "source": [
    "<b> 6.5</b> Let $U$ be the set of all points $(x,y)$ in $\\mathbb{R}^2$ such that $y \\lt sin\\,x$, that is:\n",
    "\n",
    "$U = \\{ (x,y) \\in \\mathbb{R}^2 : y \\gt sin \\,x$\n",
    "\n",
    "Prove that $U$ is an open set in $\\mathbb{R}^2$ (Hint: Apply the previous exercise to an appropriate continuous function.)"
   ]
  },
  {
   "cell_type": "markdown",
   "id": "c4319eb8",
   "metadata": {},
   "source": [
    "---------------------------"
   ]
  },
  {
   "cell_type": "markdown",
   "id": "4555c3b2",
   "metadata": {},
   "source": [
    "<h3>Section 7 The Cauchy Schwarz and triangle inequalities</h3>"
   ]
  },
  {
   "cell_type": "markdown",
   "id": "b0bc77aa",
   "metadata": {},
   "source": [
    "<b>7.1</b> Let $v$ and $w$ be vectors in $\\mathbb{R}^n$\n",
    "\n",
    "<b>(a)</b> Show that $\\lVert v \\rVert -\\lVert w \\rVert \\ge \\lVert v -w \\rVert $ (Hint: $v = (v -w) + w$)\n",
    "\n",
    "<b>(b)</b> Show that $\\lVert v \\rVert - \\lVert w \\rVert \\ge \\lVert v - w \\rVert$"
   ]
  },
  {
   "cell_type": "markdown",
   "id": "aa707306",
   "metadata": {},
   "source": [
    "<b>7.2</b> (a) Let $a$ be a point of $\\mathbb{R}^n$. If $r \\lt 0$, show that $B(a,r) \\subset B(0,\\lVert a \\rVert + r)$. Draw a picture that illustrates the result in $\\mathbb{R}^2$. (Hint: To prove set inclusion of this type, you must show that, if $x \\in B(a,r)$, then $x \\in B(0, \\lVert a \\rVert + r)$, that is, if $\\lVert x-a \\rVert \\lt r$, then $\\lVert x - 0 \\rVert \\lt \\lvert a \\rVert + r$.)"
   ]
  },
  {
   "cell_type": "markdown",
   "id": "d24c0c50",
   "metadata": {},
   "source": [
    "<b>7.2</b> In $\\mathbb{R}^2$ if $a \\in B((0,0),1)$ and $r = 1 - \\lVert a \\rVert$, show that $B(a,r) \\subset B((0,0),1)$. (Recall that this inlusion was used in Example 3.12 to prove that $B((0,0),1)$ is an open set.)"
   ]
  },
  {
   "cell_type": "markdown",
   "id": "dc87bfdb",
   "metadata": {},
   "source": [
    "<b>7.3</b> Let $a$ be a point of $\\mathbb{R}^n$ and let $r$ be a positive real number. Prove that the open ball $B(a,r)$ is an open set in $\\mathbb{R}^n$"
   ]
  },
  {
   "cell_type": "markdown",
   "id": "bb279839",
   "metadata": {},
   "source": [
    "--------------------"
   ]
  },
  {
   "cell_type": "markdown",
   "id": "5d0f12ff",
   "metadata": {},
   "source": [
    "Exercises 7.4-7.7 provide the missing proofs of parts of Proposition 3.21 about properties of continuous functions. Here, $U$ is an open set in $\\mathbb{R}^n, f,g: U \\to \\mathbb{R}$ are real-valued function defined on $U$, and $a$ is a point of $U$.  "
   ]
  },
  {
   "cell_type": "markdown",
   "id": "049ccc2b",
   "metadata": {},
   "source": [
    "<b>7.4</b> If $f$ is continuous at $a$ and $c$ is scalar, prove that $cf$ is continuous at $a$ as well. (Hint: One approach is to consider the two cases $c = 0$, and $c \\ne 0$ separately. Another is to start by showing that $\\lvert cf(x) - cf(a) \\rvert \\le(\\lvert c \\rvert + 1) | f(x) - f(a).)$"
   ]
  },
  {
   "cell_type": "markdown",
   "id": "f97753cf",
   "metadata": {},
   "source": [
    "<b> 7.5</b> If $f$ is continuous at $a$, prove that there exists a $\\delta \\gt 0$ such that, if $x \\in B(a, \\delta)$, then $\\lvert f(x) \\rvert \\lt \\lvert f(a) \\rvert + 1$ (Hint: Use Exercise 7.1)"
   ]
  },
  {
   "cell_type": "markdown",
   "id": "443b8938",
   "metadata": {},
   "source": [
    "<b>7.6</b> If $f$ and $g$ are continuous at $a$, prove that their product $fg$ is continuous at $a$. (Hint: Use an \"add zero\" trick and the previous exercise to show that there is a $\\delta_{1} \\lt 0$ such that if $x \\in B(a, \\delta_{1})$, then $\\lvert f(x) g(x) - f(a)g(a) \\rvert \\le(\\lvert f(a)\\rvert + 1) | g(x) - g(a) | + (\\lvert g(a) \\rvert+ 1) | f(x) - f(a) |.)$"
   ]
  },
  {
   "cell_type": "markdown",
   "id": "4c64b4a2",
   "metadata": {},
   "source": [
    "<b>7.7</b> Assume that $f$ and $g$ are continuous at $a$ and that $g(a) \\ne 0$\n",
    "\n",
    "<b>(a)</b> Prove that $\\frac{1}{g}$ is continuous at $a$. (Hint: Use Exercise 6.4 to show that there exists a $\\delta \\gt 0$ such that, if $x \\in B(a, \\delta_{1})$, then $\\lvert \\frac{1}{g(x)} - \\frac{1}{g(a)} \\rvert \\le \\frac{2}{\\lvert g(a)\\rvert^2} \\lvert g(x) - g(a) \\rvert$. )\n",
    "\n",
    "<b>(b)</b> Prove that the quotient $\\frac{f}{g}$ is continuous at $a$. (Hint: $\\frac{f}{g} = f \\cdot \\frac{1}{g}$)"
   ]
  },
  {
   "cell_type": "markdown",
   "id": "93af8628",
   "metadata": {},
   "source": [
    "<b>7.8 </b> Let $f: U \\to \\mathbb{R}$ be a real-valued function defined on an open set $U$ in $\\mathbb{R}^n$, and let $g: U \\to \\mathbb{R}$ be a given by $g(x) = \\lvert f(x) \\rvert$\n",
    "\n",
    "<b>(a)</b> If $f$ is continuous at a point $a$ of $U$, is $g$ necessarily continuous at $a$ as well? Either give a proof or find a counterexample.\n",
    "\n",
    "<b>(b)</b> Conversely, if $g$ is continuous at $a$, is $f$ as well? Again, give a proof or find a counterexample"
   ]
  },
  {
   "cell_type": "markdown",
   "id": "c6b681c9",
   "metadata": {},
   "source": [
    "-------------------------------------"
   ]
  },
  {
   "cell_type": "markdown",
   "id": "e974d96e",
   "metadata": {},
   "source": [
    "<h3>Section 8 : Limits</h3>"
   ]
  },
  {
   "cell_type": "markdown",
   "id": "e084137b",
   "metadata": {},
   "source": [
    "<b> 8.1</b><br>\n",
    "Prove parts 1 and 3 of Proposition 3.28 about limits of sums and products. (Hint: By using the corresponding properties of continuous functions in Proposition 3.21, you should be able to avoid $\\epsilon'$s and $\\delta'$s entirely"
   ]
  },
  {
   "cell_type": "markdown",
   "id": "603d2592",
   "metadata": {},
   "source": [
    "<b>8.2</b><br>\n",
    "Let $U$ be an open set in $\\mathbb{R}^n$, $x_0$ a point of $U$ and $f$ a real-valued function defined on $U$ except possibly at $x_0$, such that $lim_{x \\to x_{0}}f(x) = L$. Let $I$ be an open interval in $\\mathbb{R}$, and let $\\alpha: I \\to U$ be a continuous path in $U$ that passes through $x_0$ i.e, $\\alpha(t_0) = x_0$ for some $t_0$ in $I$. Consider the function $g: I \\to \\mathbb{R}$ given by:\n",
    "\n",
    "  $g(t) =\n",
    "\\begin{cases}\n",
    "f(\\alpha(t)),  & \\text{if $\\alpha(t) \\ne x_{0}$} \\\\\n",
    "L, & \\text{if $\\alpha(t) = x_{0}$}\n",
    "\\end{cases}$\n",
    "\n",
    "Show that $lim_{t \\to t_{0}} g(t) = L$"
   ]
  },
  {
   "cell_type": "markdown",
   "id": "30220dac",
   "metadata": {},
   "source": [
    "<b>8.3</b>\n",
    "\n",
    "(Sandwich principles) Let $U$ be an open set in $\\mathbb{R}^n$, and let $a$ be a point of $U$.\n",
    "\n",
    "<b>(a)</b> Let $f,g,h: U \\to \\mathbb{R}$ be real-valued functions such that $f(x) \\le g(x) \\le h(x)$ for all $x$ in $U$. If $f(a) = h(a)$, let's call the common value $c$, and if $f$ and $h$ are continuous at $a$, prove that $g(a) = c$, and that $g$ is continuous at $a$ as well.\n",
    "\n",
    "<b>(b)</b> Let $f,g,h$ be real-valued functions defined on $U$, except possibly at the point $a$ such that $f(x) \\le g(x) \\le h(x)$ for all $x$ in $U$, except possibly when $x =a$. If $lim_{x \\to a}f(x) = lim_{x \\to a}h(x) = L$, prove that $lim_{x \\to a} g(x) = L$, too."
   ]
  },
  {
   "cell_type": "code",
   "execution_count": null,
   "id": "e18e6841",
   "metadata": {},
   "outputs": [],
   "source": []
  }
 ],
 "metadata": {
  "kernelspec": {
   "display_name": "Python 3 (ipykernel)",
   "language": "python",
   "name": "python3"
  },
  "language_info": {
   "codemirror_mode": {
    "name": "ipython",
    "version": 3
   },
   "file_extension": ".py",
   "mimetype": "text/x-python",
   "name": "python",
   "nbconvert_exporter": "python",
   "pygments_lexer": "ipython3",
   "version": "3.9.9"
  }
 },
 "nbformat": 4,
 "nbformat_minor": 5
}

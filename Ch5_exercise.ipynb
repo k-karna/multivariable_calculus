{
 "cells": [
  {
   "cell_type": "markdown",
   "id": "f6a78263-44ad-4488-9167-43b9657437ba",
   "metadata": {},
   "source": [
    "<center><h1><b>Exercises for Chapter 5</h1></b></center>"
   ]
  },
  {
   "cell_type": "markdown",
   "id": "47c40b16-a128-442b-b51b-f152b8240464",
   "metadata": {},
   "source": [
    "<h3><b>Section 1 Volume and iterated integrals</b></h3>"
   ]
  },
  {
   "cell_type": "markdown",
   "id": "a25d8ef3-b079-4be1-a4a8-54e148e3f9ec",
   "metadata": {},
   "source": [
    "In Exercises 1.1 - 1.4, evaluate the given iterated integral."
   ]
  },
  {
   "cell_type": "markdown",
   "id": "e510d3de-a7c0-479d-b085-bb8a674ecec8",
   "metadata": {},
   "source": [
    "<b>Question 1.1</b> $\\int_{1}^{2} \\left(\\int_3^4 x^2 y\\, dy\\right) dx$"
   ]
  },
  {
   "cell_type": "markdown",
   "id": "487c47d0-ac8a-4df4-a821-8cf5664057c6",
   "metadata": {},
   "source": [
    "<b>Solution </b>\n",
    "\n",
    "Taking $x^2$ as constant and integrating w.r.t $y$, we get:\n",
    "\n",
    "$\\int_3^4 x^2 y \\,dy = x^2\\left[ \\frac{y^2}{2}\\right]_3^4$\n",
    "\n",
    "$\\qquad\\qquad = x^2 \\left[ \\frac{4^2}{2} - \\frac{3^2}{2} \\right] = x^2\\left[ \\frac{16}{2} - \\frac{9}{2} \\right]$\n",
    "\n",
    "$\\qquad\\qquad = \\frac{7}{2} x^2 $\n",
    "\n",
    "Now taking constant out, and integrating w.r.t $x$, we get:\n",
    "\n",
    "$\\int_1^2 \\frac{7}{2} x^2 dx = \\frac{7}{2}\\left[\\frac{x^3}{3} \\right]_1^2$\n",
    "\n",
    "$\\qquad\\qquad = \\frac{7}{2}\\left[\\frac{2^3}{3} - \\frac{1^3}{3} \\right] = \\frac{7}{2}\\left[ \\frac{8-1}{3} \\right]$\n",
    "\n",
    "$\\qquad\\qquad = \\frac{49}{6}$\n",
    "\n",
    "Thus, $\\int_{1}^{2} \\left(\\int_3^4 x^2 y\\, dy\\right) dx = \\frac{49}{6}$"
   ]
  },
  {
   "cell_type": "markdown",
   "id": "4c8e8fb7-5c09-496b-b646-8095cd7c877b",
   "metadata": {},
   "source": [
    "<b>Question 1.2</b> $\\int_0^1 \\left(\\int_{x^2}^{x} (x+y) \\,dy \\right)dx$"
   ]
  },
  {
   "cell_type": "markdown",
   "id": "a15496b8-7038-4c66-88fa-af926723356b",
   "metadata": {},
   "source": [
    "<b> Solution </b>\n",
    "\n",
    "First integrating w.r.t $y$, we get:\n",
    "\n",
    "$\\int_{x}^{x^2} (x + y)\\,dy$<br>\n",
    "\n",
    "$\\qquad= \\int_{x}^{x^2} x \\,dy + \\int_{x}^{x^2} y\\,dy$\n",
    "\n",
    "$\\qquad= x^3 - x^2 + \\int_{x}^{x^2} y\\,dy$\n",
    "\n",
    "$\\qquad= x^3 - x^2 + \\left[\\frac{y^2}{2} \\right]_x^{x^2} = x^3 - x^2 + \\left[\\frac{{(x^2)}^2}{2} - \\frac{x^2}{2} \\right]$\n",
    "\n",
    "$\\qquad = x^3 - x^2 + \\frac{x^4 - x^2}{2}$\n",
    "\n",
    "Now, we have to integrate w.r.t. $x$, for $\\int_{o}^1 (x^3 - x^2 + \\frac{x^4 - x^2}{2}) \\,dx$\n",
    "\n",
    "we get, <br>\n",
    "\n",
    "$\\qquad = \\int_{0}^1 x^3 dx - \\int_{o}^1 x^2\\,dx + \\int_{o}^1 (\\frac{x^4 - x^2}{2})\\,dx$\n",
    "\n",
    "$\\qquad = \\left[\\frac{x^4}{4}\\right]_0^{1} - \\left[\\frac{x^3}{3}\\right]_0^{1} + \\frac{1}{2}\\int_{0}^1 (x^4 - x^2)dx$\n",
    "\n",
    "$\\qquad = \\frac{1}{4} - \\frac{1}{3} + \\frac{1}{2} \\left[\\int_{0}^1 x^4\\,dx - \\int_{0}^1\\,x^2\\,dx \\right]$\n",
    "\n",
    "$\\qquad = \\frac{1}{4} - \\frac{1}{3} + \\frac{1}{2} \\left[\\left(\\frac{x^5}{5}\\right)_0^{1} - \\left(\\frac{x^3}{3}\\right)_0^{1} \\right]$\n",
    "\n",
    "$\\qquad = \\frac{1}{4} - \\frac{1}{3} + \\frac{1}{2} \\left[ \\frac{1}{5} - \\frac{1}{3} \\right] \\qquad= \\left(\\frac{1}{4} - \\frac{1}{3} -\\frac{1}{15} \\right)$\n",
    "\n",
    "$\\qquad = -\\frac{3}{20}$"
   ]
  },
  {
   "cell_type": "markdown",
   "id": "36c8b62f-bc8d-434b-8f19-33a26e1fafec",
   "metadata": {},
   "source": [
    "<b>Question 1.3 </b> $\\int_{0}^{\\pi/2} \\left(\\int_{0}^{sin\\,y} (x \\, cos\\, y + 1) dx\\right) dy$"
   ]
  },
  {
   "cell_type": "markdown",
   "id": "a71da0cd-b029-4aec-ab3b-2e4124b833a6",
   "metadata": {},
   "source": [
    "<b>Solution 1.3</b>\n",
    "\n",
    "First integral w.r.t. $x$\n",
    "\n",
    "$\\int_{0}^{sin\\,y} (x\\,cos\\,y +1)dx = \\int_{0}^{sin\\,y} x\\,cos\\,y\\,dx + \\int_{0}^{sin\\,y} 1\\,dx$\n",
    "\n",
    "$\\qquad = cos\\,y\\int_{0}^{sin\\,y} x\\,dx + \\left[x \\right]_{0}^{sin\\,y}$\n",
    "\n",
    "$\\qquad = cos\\,y \\left[\\frac{x^2}{2} \\right]_{0}^{sin\\,y} + sin\\,y$\n",
    "\n",
    "$\\qquad = cos\\,y\\,\\frac{sin^2\\,y}{2} + sin\\,y$\n",
    "\n",
    "Next, $\\int_{0}^{\\pi/2} \\left(cos\\,y\\,\\frac{sin^2\\,y}{2} + sin\\,y \\right) dy$\n",
    "\n",
    "$\\qquad = \\int_{0}^{\\pi/2} \\left(cos\\,y\\,\\frac{sin^2\\,y}{2}\\right) dy + \\int_{0}^{\\pi/2} sin\\,y \\,dy$\n",
    "\n",
    "$\\qquad = \\frac{1}{2}\\int_{0}^{\\pi/2} \\left(cos\\,y\\,sin^2y \\right) dy + [-cos\\,y]_{0}^{\\pi/2} \\qquad\\qquad..............eq(1)$\n",
    "\n",
    "Next, Let $u = sin\\,y$<br>\n",
    "$\\Rightarrow du = cos\\,y \\,dy$ \n",
    "\n",
    "Also, when $u = 0$, we get $sin\\,u = sin\\,0 = 0$ and when $u = \\frac{\\pi}{2},$ we get $sin \\frac{\\pi}{2} = 1$\n",
    "\n",
    "$\\Rightarrow \\frac{1}{2}\\int_{0}^{\\pi/2} \\left(cos\\,y\\,sin^2y \\right) dy  = \\frac{1}{2} \\int_{0}^1 u^2 \\cdot du$\n",
    "\n",
    "$\\qquad = \\frac{1}{2} \\left[\\frac{u^3}{3} \\right]_{0}^1$\n",
    "\n",
    "$\\qquad = \\frac{1}{2}\\cdot \\frac{1}{3} = \\frac{1}{6}$\n",
    "\n",
    "Thus, we can write $eq(1)$ as :\n",
    "\n",
    "$\\frac{1}{2}\\int_{0}^{\\pi/2} \\left(cos\\,y\\,sin^2y \\right) dy + [-cos\\,y]_{0}^{\\pi/2}$\n",
    "\n",
    "$\\qquad = \\frac{1}{6} + [-cos\\,y]_{0}^{\\pi/2}$\n",
    "\n",
    "$\\qquad = \\frac{1}{6} + (-cos\\,\\frac{\\pi}{2} - (-cos\\,0) = \\frac{1}{6} + (-0 - (-1)) = \\frac{1}{6} + 1$\n",
    "\n",
    "$\\qquad = \\frac{7}{6}$\n"
   ]
  },
  {
   "cell_type": "markdown",
   "id": "9f691743-9b60-4bf1-9681-88d24c1de25a",
   "metadata": {},
   "source": [
    "<b>Question 1.4 </b> $\\int_{1}^{2}\\left(\\int_{-y}^{y} sin(3x + 2y) dx \\right)dy$"
   ]
  },
  {
   "cell_type": "markdown",
   "id": "4c66f4d5-1246-4910-9d2b-efdab611a488",
   "metadata": {},
   "source": [
    "<b>Solution </b>\n",
    "\n",
    "First integrating w.r.t. $x$ and <br>\n",
    "We know that, $sin(\\alpha + \\beta) = sin \\alpha + cos\\, \\beta + cos\\, \\alpha\\,sin\\beta$\n",
    "\n",
    "$\\Rightarrow \\int_{-y}^{y} sin(3x + 2y) dx  = \\int_{-y}^{y} \\left(sin\\,3x\\,cos\\,2y + cos\\,3x\\,sin\\,2y\\right)\\,dx$\n",
    "\n",
    "$\\qquad =  \\int_{-y}^{y} (sin\\,3x\\,cos\\,2y) dx +  \\int_{-y}^{y} (cos\\,3x\\,sin\\,2y) dx$\n",
    "\n",
    "$\\qquad = cos\\,2y \\,\\int_{-y}^{y} sin\\,3x \\,dx + sin\\,2y \\, \\int_{-y}^y cos\\,3x\\,dx$\n",
    "\n",
    "We know that $sin x$ is odd-function, whereas $cos\\,x$ is even function, when $f(x)$ is an odd-function and continuous at $[-a, a]$ then $\\int_{-a}^{a}f(x) dx = 0$\n",
    "\n",
    "$\\qquad \\Rightarrow cos\\,2y \\,\\int_{-y}^{y} sin\\,3x \\,dx + sin\\,2y \\, \\int_{-y}^y cos\\,3x\\,dx = 0 + sin\\,2y \\, \\int_{-y}^y cos\\,3x\\,dx $\n",
    "\n",
    "$\\qquad = 0 + sin\\,2y \\left[\\frac{1}{3} sin\\,3x \\right]_{-y}^y$\n",
    "\n",
    "$\\qquad = 0 + sin\\,2y \\left[\\frac{1}{3} sin\\,3y - \\frac{1}{3}sin(-3y) \\right]$\n",
    "\n",
    "$\\qquad = 0 + sin\\,2y \\frac{2}{3} sin\\,3y$\n",
    "\n",
    "$\\qquad = \\frac{2}{3}\\, sin\\,2y\\,sin\\,3y$\n",
    "\n",
    "Next, integrating w.r.t $y$\n",
    "\n",
    "$\\int_{1}^2 \\frac{2}{3} sin\\,2y\\,sin\\,3y\\,dy$\n",
    "\n",
    "$\\qquad = \\frac{2}{3} \\int_{1}^{2} sin\\,2y\\,sin\\,3y\\,dy$\n",
    "\n",
    "We know that, <br>\n",
    "\n",
    "$2 \\sin\\,\\alpha\\,sin\\,\\beta = cos(\\alpha - \\beta) - cos(\\alpha + \\beta)$\n",
    "\n",
    "$\\Rightarrow \\sin\\,\\alpha\\,sin\\,\\beta = \\frac{1}{2} \\left[cos(\\alpha - \\beta) - cos(\\alpha + \\beta) \\right]$\n",
    "\n",
    "$\\Rightarrow \\int_{1}^2 \\frac{2}{3} sin\\,2y\\,sin\\,3y\\,dy$\n",
    "\n",
    "$\\qquad = \\frac{2}{3}\\cdot \\frac{1}{2} \\int_{1}^2 \\left[ cos\\,(2y - 3y) - cos\\,(2y+3y) \\right] dy$\n",
    "\n",
    "$\\qquad = \\frac{1}{3} \\int_{1}^2 \\left[ cos\\,y - cos\\,5y \\right] dy$\n",
    "\n",
    "$\\qquad = \\frac{1}{3} \\int_{1}^2 cos\\,y\\, dy - \\int_{1}^2 cos\\,5y \\,dy$\n",
    "\n",
    "$\\qquad = \\frac{1}{3} \\left(\\left[sin\\,y \\right]_{1}^2 - \\left[\\frac{1}{5}sin\\,5y \\right]_{1}^2 \\right)$\n",
    "\n",
    "$\\qquad = \\frac{1}{3} \\left( sin\\,2 - sin\\,1 -\\frac{1}{5}sin\\,10 + \\frac{1}{5}sin\\,5 \\right)$"
   ]
  },
  {
   "cell_type": "markdown",
   "id": "f7395641-4df3-4fa8-8384-f7dc1caae473",
   "metadata": {},
   "source": [
    "---------------"
   ]
  },
  {
   "cell_type": "markdown",
   "id": "ef45b9bf-d3e7-4749-8b4e-86622db558c9",
   "metadata": {},
   "source": [
    "<b>Question 1.5</b> Evaluate $\\int \\int_{D} \\frac{x^2}{y} d\\,A$ if $D$ is the rectangle described by $1 \\le x \\le 3, 2 \\le y \\le 4$"
   ]
  },
  {
   "cell_type": "markdown",
   "id": "64e2cc32-8af1-4e63-8859-698544e3231e",
   "metadata": {},
   "source": [
    "<b>Solution</b>\n",
    "\n",
    "To evaluate double integral over rectangle $D$, where $1 \\le x \\le 3$ and $2 \\le y \\le 4$, \n",
    "\n",
    "We need to first integrate w.r.t $x$ i.e,\n",
    "\n",
    "$\\int_{1}^3 \\frac{x^2}{y} dx $ and taking $\\frac{1}{y}$ as constant\n",
    "\n",
    "We get:<br>\n",
    "$\\frac{1}{y}\\int_{1}^3 x^2 dx = \\frac{1}{y}\\left[\\frac{x^3}{3}\\right]_{1}^3$\n",
    "\n",
    "$\\qquad = \\frac{1}{y}\\left[ \\frac{3^3}{1^3} - \\frac{1^3}{3} \\right] = \\frac{1}{y}(\\frac{27-1}{3})$\n",
    "\n",
    "$\\qquad = \\frac{26}{3y}$\n",
    "\n",
    "Next, integrating w.r.t. $y$\n",
    "\n",
    "$\\int_{2}^{4} \\frac{26}{3y}dy$\n",
    "\n",
    "$\\qquad = \\frac{26}{3} \\int_{2}^{4} \\frac{1}{y}dy$\n",
    "\n",
    "$\\qquad = \\frac{26}{3}\\left[ log \\lvert y \\rvert \\right]_{2}^4 = \\frac{26}{3} \\lvert log\\,4 - log\\,2 \\rvert$\n",
    "\n",
    "$\\qquad = \\frac{26}{3} \\left( log(2^2) - log\\,2 \\right) = \\frac{26}{3} (2log2 - log 2)$\n",
    "\n",
    "$\\qquad = \\frac{26}{3}log2$"
   ]
  },
  {
   "cell_type": "markdown",
   "id": "2206c8eb-d60c-43a5-bc0a-1014afe98118",
   "metadata": {},
   "source": [
    "-------------"
   ]
  },
  {
   "cell_type": "markdown",
   "id": "9f5b7c91-9d6b-4978-84bf-5b808f85b94a",
   "metadata": {},
   "source": [
    "<b>Question 1.6</b> Evaluate $\\int \\int_{D} (x + y) dA$ if $D$ is the quarter-disk $x^2 + y^2 \\le 1, x\\ge 0, y\\ge 0$"
   ]
  },
  {
   "cell_type": "markdown",
   "id": "8958aae8-864a-42c8-97e7-0350305a2634",
   "metadata": {},
   "source": [
    "<b>Solution </b>\n",
    "\n",
    "We need integral over $D$ defined by $x^2 + y^2 \\le 1$, where $x\\ge 0, y\\ge 0$ implying first-quadrant\n",
    "\n",
    "Let's use polar coordinates to do this, where \n",
    "\n",
    "$x = r\\,cos\\,\\theta$<br>\n",
    "$y = r\\,sin\\,\\theta$, and \n",
    "$dA = r\\,dr\\,d\\theta$\n",
    "\n",
    "For $D$ in first quadrant, we can write limit of $r$ from $0$ $1$, and <br>\n",
    "$\\qquad\\qquad\\qquad\\qquad\\qquad\\qquad\\qquad$ limit of $\\theta$ from $0$ to $\\pi /2$\n",
    "\n",
    "$\\Rightarrow \\int \\int_{D} (x+y)dA$ \n",
    "\n",
    "$\\qquad = \\int_{0}^{\\pi/2} \\int_{0}^1 (r\\,cos\\,\\theta + sin\\,\\theta) r\\,dr\\,d\\theta$\n",
    "\n",
    "$\\qquad = \\int_{0}^{\\pi/2} \\int_{0}^1 r^2(cos\\,\\theta + sin\\,\\theta) dr\\,d\\theta$\n",
    "\n",
    "Now, integrating w.r.t $x$\n",
    "\n",
    "$\\int_{0}^1 r^2 (cos\\, \\theta + sin\\,\\theta) dr$\n",
    "\n",
    "$\\qquad = (cos\\,\\theta + sin\\,\\theta) \\int_{0}^{1}r^2\\,dr$\n",
    "\n",
    "$\\qquad = (cos\\,\\theta + sin\\,\\theta) \\left[ \\frac{r^3}{3} \\right]_{0}^1 = (cos\\,\\theta + sin\\,\\theta) \\left(\\frac{1^3}{3} - \\frac{0^3}{0} \\right)$\n",
    "\n",
    "$\\qquad = \\frac{1}{3}(cos\\,\\theta + sin\\,\\theta)$\n",
    "\n",
    "Next, integrating w.r.t. $\\theta$, we get: \n",
    "\n",
    "$\\int_{0}^{\\frac{\\pi}{2}} \\frac{1}{3}(cos\\,\\theta + sin\\,\\theta) d\\,\\theta$\n",
    "\n",
    "$\\qquad = \\frac{1}{3} \\int_{0}^{\\frac{\\pi}{2}} (cos\\,\\theta + sin\\,\\theta) d\\,\\theta$\n",
    "\n",
    "$\\qquad =  \\frac{1}{3} \\left[\\int_{0}^{\\frac{\\pi}{2}} cos\\,d\\,\\theta + \\int_{0}^{\\frac{\\pi}{2}}sin\\,d\\,\\theta \\right]$\n",
    "\n",
    "$\\qquad = \\frac{1}{3} \\left[ [sin\\,\\theta]_{0}^{\\pi/2} + [-cos\\,\\theta]_{0}^{\\pi/2} \\right]$\n",
    "\n",
    "$\\qquad = \\frac{1}{3} \\left(sin\\,\\frac{\\pi}{2} - sin\\,0 - cos\\,\\frac{\\pi}{2} + cos\\,0 \\right)$\n",
    "\n",
    "$\\qquad = \\frac{1}{3}(1-0-0+1)$\n",
    "\n",
    "$\\qquad = \\frac{2}{3}$"
   ]
  },
  {
   "cell_type": "markdown",
   "id": "9eba48f6-b482-43f3-adae-d392a4312174",
   "metadata": {},
   "source": [
    "1.7 Evaluate $\\int \\int_D e^{x+y} \\, dA$ if $D$ is the triangular region with vertices $(0,0),(0,2),(1,0)$"
   ]
  },
  {
   "cell_type": "markdown",
   "id": "f21c985a-3b78-4e51-97d2-e936ebc26965",
   "metadata": {},
   "source": [
    "1.8 Evaluate $\\int \\int_{D} xy \\, dA$ if $D$ is the triangular region with vertices $(0,0),(1,1),(2,0)$"
   ]
  },
  {
   "cell_type": "markdown",
   "id": "68ad6fa9-6f60-4890-857a-7d73b596f7bb",
   "metadata": {},
   "source": [
    "In Exercises 1.9 - 1.14, (a) sketch the domain of integration $D$ in the xy-plane and (b) write an equivalent expression with the order of integration reversed."
   ]
  },
  {
   "cell_type": "markdown",
   "id": "52f5de9c-5c96-429c-a879-96d5410830dc",
   "metadata": {},
   "source": [
    "1.9 $\\int_{1}^{2} \\left(\\int_{3}^{4} f(x,y) dy \\right)dx$\n",
    "\n",
    "1.10 $\\int_{0}^{1} \\left(\\int_{e^x}^{e} f(x,y) dy \\right)dx$\n",
    "\n",
    "1.11 $\\int_{0}^{1} \\left(\\int_{y^2}^{y} f(x,y) dy \\right)dx$\n",
    "\n",
    "1.12 $\\int_{0}^{\\pi/2} \\left(\\int_{0}^{sin\\,y} f(x,y) dy \\right)dx$\n",
    "\n",
    "1.13  $\\int_{-1}^{1} \\left(\\int_{0}^{\\sqrt{1-x^2}} f(x,y) dy \\right)dx$\n",
    "\n",
    "1.14  $\\int_{-3}^{6} \\left(\\int_{\\frac{1}{3}y}^{-1 + \\sqrt{3+y}} f(x,y) dy \\right)dx$"
   ]
  },
  {
   "cell_type": "markdown",
   "id": "4c9ce435-396f-420f-81fe-82d3551d8b7b",
   "metadata": {},
   "source": [
    "1.15 Consider the iterated integral $\\int_{\\frac{1}{4}}^{1} \\left(\\int_{\\frac{1}{x}}^{4} ye^{xy} dy\\right)dx$\n",
    "\n",
    "(a) Sketch the domain of integration $D$ in the $xy-$plane<br>\n",
    "(b) Write an equivalent expression with the order of integration reversed.<br>\n",
    "(c) Evaluate the integral using whatever method seems best."
   ]
  },
  {
   "cell_type": "markdown",
   "id": "aebad0ac-1074-458e-91fe-f358eaeef1bd",
   "metadata": {},
   "source": [
    "1.16 Evaluate the integral $\\int_{0}^{6} \\left(\\int_{\\frac{y}{2}}^{3} \\, sin(x^2)dx\\right)dy$"
   ]
  },
  {
   "cell_type": "markdown",
   "id": "d743b3ca-ae73-4ba1-8476-72e64a9e4450",
   "metadata": {},
   "source": [
    "1.17 Evaluate the integral $\\int \\int_{D} \\sqrt{1-x^2}\\,dA$, where $D$ is the quarter-disk in the first quadrant described by $x^2 + y^2 \\le 1,x \\ge 0$ and $y \\ge 0$ "
   ]
  },
  {
   "cell_type": "markdown",
   "id": "cd43b30c-6b4d-4055-a2d1-d990a2ae63ea",
   "metadata": {},
   "source": [
    "1.18 Find the volume of the wedged-shaped solid that lies above the xy-plane, below the plane $z =y$, and inside the cylinder $x^2 + y^2 = 1$ "
   ]
  },
  {
   "cell_type": "markdown",
   "id": "05c3245c-fd39-495b-821b-6fa4f082f4e4",
   "metadata": {},
   "source": [
    "1.19 Find the volume of the pyramid-shaped solid in the first octant bounded by the three coordinate planes and the planes $x+z = 1$ and $y + 2z =2$"
   ]
  },
  {
   "cell_type": "markdown",
   "id": "f02d0e48-3e90-475f-998d-063388230f3f",
   "metadata": {},
   "source": [
    "1.20 <br>\n",
    "(a) If $c$ is a positive constant, find the volume of tetrahedron in the first octant bounded by the plane $x+y+z = c$ and the three coordinate planes.\n",
    "\n",
    "(b) Consider the tetrahedron $W$ in the first octant bounded by the plane $x+y+z = 1$ and the three coordinate planes. Suppose that you want to divide  $W$ into three pieces of equal volume by slicing it with two planes parallel to $x+y+z=1$, i.e, with planes of the form $x+y+z = c$. How should the slices be made?"
   ]
  },
  {
   "cell_type": "markdown",
   "id": "b4ab1d30-460b-43e4-a548-e1ab238c8bee",
   "metadata": {},
   "source": [
    "1.21 Let $D$ be the unit square $0\\le x \\le 1, 0 \\le y \\le 1$, and let $f: D \\to \\mathbb{R}$ be the function given by $f(x,y) = min\\left(x,y \\right)$. Find $\\int \\int_{D} f(x,y) dx\\,dy$"
   ]
  },
  {
   "cell_type": "markdown",
   "id": "5da649ab-2597-4a1e-981c-067ad6da8fe8",
   "metadata": {},
   "source": [
    "<h3><b> Section 2 The double integral </b></h3>"
   ]
  },
  {
   "cell_type": "markdown",
   "id": "21f58ab1-f926-4e46-839a-57342e6b872f",
   "metadata": {},
   "source": [
    "2.1 Let $R = [0,1] \\times [0,1]$ and let $f: R \\to \\mathbb{R}$ be the function given by :\n",
    "$$\n",
    "f(x,y) =\n",
    "\\begin{cases}\n",
    "1,  & \\text{if (x,y) = (1/2,1/2)} \\\\\n",
    "0, & \\text{otherwise}\n",
    "\\end{cases}\n",
    "$$"
   ]
  },
  {
   "cell_type": "markdown",
   "id": "367d03ac-802a-4fd9-8c2f-8a26b69f3ece",
   "metadata": {},
   "source": [
    "(a) Let $R$ be subdivided into a $3 \\times 3$ grid of subrectangles of equal size. What are the possible values of Riemann sums based on the subdivision.\n",
    "\n",
    "(b) Repeat for a $4 \\times 4$ grid of subrectangles of equal size.\n",
    "\n",
    "(c) How about for an $n$ by $n$ grid of subrectangles of equal size?\n",
    "\n",
    "(d)"
   ]
  },
  {
   "cell_type": "markdown",
   "id": "28be6836-1529-4ae4-9cfb-363c48da43de",
   "metadata": {},
   "source": [
    "2.2 Let $R = [0,1] \\times [0,1]$, and let $f: R \\to \\mathbb{R}$ be the function given by:<br>\n",
    "\n",
    "$$\n",
    "f(x,y) =\n",
    "\\begin{cases}\n",
    "1,  & \\text{if $x = 0$  or $y = 0$} \\\\\n",
    "0, & \\text{otherwise}\n",
    "\\end{cases}\n",
    "$$"
   ]
  },
  {
   "cell_type": "markdown",
   "id": "ded9b60a-dc9d-4307-95ad-ca632769f84b",
   "metadata": {},
   "source": [
    "(a) Let $R$ be subdivided into a $3 \\times 3$ grid of subrectangles of equal size. What are the possible values of Riemann sums based on the subdivision.\n",
    "\n",
    "(b) Repeat for a $4 \\times 4$ grid of subrectangles of equal size.\n",
    "\n",
    "(c) How about for an $n$ by $n$ grid of subrectangles of equal size?\n",
    "\n",
    "(d) Is $f$ integrable on $R$? If so, what is the value of $\\int \\int_{R} f(x,y) dA$?"
   ]
  },
  {
   "cell_type": "markdown",
   "id": "9a20b54e-f7af-4a0f-b4ae-1f51cd99114d",
   "metadata": {},
   "source": [
    "2.3 Here is a result that will come in handy increasingly as we calculate more integrals. Let $R = [a,b]\\times [c,d]$ be rectangle, and let $F: \\to \\mathbb{R}$ be a real-valued function such that the variables $x$ and $y$ separate into two continuous factors, that is, $F(x,y) = f(x)g(y)$, where $f: [a,b] \\to \\mathbb{R}$ and $g: [c,d] \\to \\mathbb{R}$ are continuous. Show that:\n",
    "\n",
    "$$\\int \\int_{R}\\,f(x)g(y)dx dy = \\left(\\int_{a}^{b}f(x)dx\\right) \\left(\\int_{c}^{d}g(y)dy\\right)$$"
   ]
  },
  {
   "cell_type": "markdown",
   "id": "621689ff-7326-4e8b-b94a-c942b624884e",
   "metadata": {},
   "source": [
    "2.4 Let $f: U \\to \\mathbb{R}$ be a continuous function defined on an open set $U$ in $\\mathbb{R}^2$ and let a be a point of $U$.\n",
    "\n",
    "(a) If $f(a) \\gt 0$, prove that there exists a rectangle $R$ containing a such that:\n",
    "\n",
    "$$ \\int \\int_{R}f \\,dA \\gt 0$$\n",
    "\n",
    "(b) Let $g: U \\to \\mathbb{R}$ be another continuous function on $U$. If $f(a) \\gt g(a)$, prove that there exists a rectangle $R$ containing a such that:\n",
    "\n",
    "$$ \\int \\int_{R}f dA \\gt \\int \\int_{R} g\\,dA$$\n",
    "\n",
    "(Hint: Consider $f-g$)"
   ]
  },
  {
   "cell_type": "markdown",
   "id": "9176924a-adda-486d-8937-1e6c459a207e",
   "metadata": {},
   "source": [
    "2.5 In this exercise, we use the double integral to give another proof of the equality of mixed partial derivatives. Let $f(x,y)$ be a real-valued function defined on an open set $U$ in $\\mathbb{R}^2$ whose first and second-order partial derivatives are continuous on $U$.\n",
    "\n",
    "(a) Let $R = [a, b] \\times [c,d]$ be a rectangle that is contained in $U$. Show that:\n",
    "\n",
    "$$\\int \\int_{R} \\frac{\\partial^2f}{\\partial x \\partial y} (x,y) dA = \\int \\int_{R} \\frac{\\partial^2f}{\\partial y \\partial x} (x,y) dA$$\n",
    "\n",
    "(Hint: Use Fubini's theorem with appropriate orders of integration, and the fundamental theorem of calculus to show that both sides are qual to $f(b,d) - f(b,c) - f(a,d) + f(a,c)$)\n",
    "\n",
    "(b) Show that $\\frac{\\partial^2f}{\\partial x \\partial y} (a) = \\frac{\\partial^2f}{\\partial y \\partial x} (a)$ for all $a$ in $U$. (Hint: Use Exercise 2.4 to show that something goes wrong if they are not equal.)"
   ]
  },
  {
   "cell_type": "markdown",
   "id": "200729e5-53a5-4fd2-a380-32fa5da460f1",
   "metadata": {},
   "source": [
    "<h3><b> Section 3 Intepretations of the double integral</b></h3>"
   ]
  },
  {
   "cell_type": "markdown",
   "id": "14a69680-b91b-4de4-bd3d-ef3ab286d8fb",
   "metadata": {},
   "source": [
    "<b>Question 3.1</b> The population density of birds in a wildlife refuge decreases at a uniform rate with the distance from a river. If the river is modelled as the x-axis in the plane, the the density at the point $(x,y)$ is given by $f(x,y) = 5 - |y|$ hundred birds per square mile, where $x$ and $y$ are measured in miles. Find the total number of birds in the rectangle $R = [-2,2] \\times [0,1]$"
   ]
  },
  {
   "cell_type": "markdown",
   "id": "1ce7d8b6-b722-4b7d-942f-d1b43d05b785",
   "metadata": {},
   "source": [
    "<b>Question 3.2</b> A small cookie has the shape of the region in the first quadrant bounded by the curves $y = x^2$ and $x = y^2$, where $x$ and $y$ are measured in inches. Chocolate is poured unevenly on top of the cookie in such a way that the density of chocolate at the point $(x,y)$ is given by $f(x,y) = 100(x,y)$ grams per square inch. Find the total mass of chocolate on the cookie."
   ]
  },
  {
   "cell_type": "markdown",
   "id": "6919d7fc-d356-4dd0-8dac-6bdd0fc59374",
   "metadata": {},
   "source": [
    "<b>Question 3.3</b> The eye of a tornado is positioned directly over the origin in the plane. Suppose that the wind speed on the ground at the point $(x,y)$ is given by $v(x,y) = 30(x^2 + y^2$ miles per hour.\n",
    "\n",
    "(a) Find the average wind speed on the square $R = [0,2] \\times [0,2]$\n",
    "\n",
    "(b) Find all points $(x,y)$ of $R$ at which the wind speed equals the average."
   ]
  },
  {
   "cell_type": "markdown",
   "id": "43b33fd5-8f83-43c3-92dd-1e2ee4db4395",
   "metadata": {},
   "source": [
    "<b>Question 3.4</b> Find the centroid of the half-disk of radius $a$ in $\\mathbb{R}^2$ described by $x^2 + y^2 \\le a^2, y \\ge 0$"
   ]
  },
  {
   "cell_type": "markdown",
   "id": "3886ede2-21e6-4510-ab16-0102899f4ba2",
   "metadata": {},
   "source": [
    "<b>Question 3.5</b> Find the centroid of the triangular region in $\\mathbb{R}^2$ with vertices $(0,0),(1,2)$ and $(1,3)$"
   ]
  },
  {
   "cell_type": "markdown",
   "id": "d76410ec-e911-44c9-8e8a-798b232abfed",
   "metadata": {},
   "source": [
    "<b>Question 3.6</b> Find the centroid of the triangular region in $\\mathbb{R}^2$ with vertices $(0,0),(2,2)$ and $(1,3)$."
   ]
  },
  {
   "cell_type": "markdown",
   "id": "2018bafe-9e0f-4ee0-9d7d-07fb3496b9d5",
   "metadata": {},
   "source": [
    "<b>Question 3.7</b> Let $D$ be the fudgsicle-shaped region of $\\mathbb{R}^2$ that consists of the rectangle $[-1,1] \\times [0,h]$ of height $h$ topped by a half-disk of radius 1, as shown in Figure 5.37. Find the value of $h$ such that the point $(0,h)$ is the centroid of $D$."
   ]
  },
  {
   "cell_type": "markdown",
   "id": "d896e43a-4067-4b2e-a315-1b78e16a9783",
   "metadata": {},
   "source": [
    "<b>Question 3.8</b>\n",
    "\n",
    "Let $R$ be a rectangle in $\\mathbb{R}^2$ and let $f: R \\to \\mathbb{R}$ be an integrable function. If $f$ is continuous then it is true that there is a point of $R$ at which $f$ assumes its average value, that is, there exist a point $c$ of $R$ such that $f(c) = \\bar{f}$. The proof is not hard, but it depends on subtle properties of the real numbers that are beyond what we cover here. The same conclusion need not hold, however, for discontinuous functions. Find an example of a rectangle $R$ and an integrable function $f: R \\to \\mathbb{R}$ such that there is no point $c$ of $R$ at which $f(c) = \\bar f$."
   ]
  },
  {
   "cell_type": "markdown",
   "id": "32e5f42b-1167-431d-a97f-1b54d5c0a22c",
   "metadata": {},
   "source": [
    "<h3><b>Section 4 Parametrization of surfaces</b></h3>"
   ]
  },
  {
   "cell_type": "markdown",
   "id": "58b4b8b4-c1fb-4cde-b017-7fb94967431c",
   "metadata": {},
   "source": [
    "<b>Question 4.1</b> Find a parametrization of the upper hemisphere of radius $a$ described by $x^2 + y^2 +z^2 = a^2, z \\ge 0$, using the following coordinates as parameters. Be sure to state what the domain of your parametrization is.\n",
    "\n",
    "(a) the rectangle coordinates $x,y$\n",
    "\n",
    "(b) the polar/cylindrical coordinates $r, \\theta$\n",
    "\n",
    "(c) the spherical coordinates $\\phi, \\theta$"
   ]
  },
  {
   "cell_type": "markdown",
   "id": "7de5df66-a34e-4f2d-a843-2fab5b00d0ef",
   "metadata": {},
   "source": [
    "<b>Question 4.2</b> Let $S$ be the surface described in cylindrical coordinates by $z = \\theta, 0 \\le r \\le 1$ and $0 \\le \\theta \\le 4\\pi$. It is called a <b>helicoid</b>. Converting to rectangular coordinates gives a parametrization:\n",
    "\n",
    "$$\\sigma: [0,1] \\times [0,4\\pi] \\to \\mathbb{R}^3 \\qquad \\sigma(r, \\theta) = (r\\,cos\\theta, r \\,sin\\theta, \\theta)$$.\n",
    "\n",
    "(a) Describe the curve that is traced out by $\\sigma$ if $r = \\frac{1}{2}$ is held fixed and $\\theta$ varies, that is , the curve parametrized by the path $\\alpha(\\theta) = \\sigma(\\frac{1}{2}, \\theta), 0 \\le \\theta \\le 4\\pi$\n",
    "\n",
    "(b) Similarly, describe the curve that is traced out by $\\sigma$ if $\\theta = \\frac{\\pi}{4}$ is held fixed and $r$ varies, that is, the curve parametrized by $\\beta(r) = \\sigma(r, \\frac{\\pi}{4}), 0 \\le r \\le 1.$\n",
    "\n",
    "(c) Describe $S$ in a few words, and draw a sketch."
   ]
  },
  {
   "cell_type": "markdown",
   "id": "4c40da1c-f141-4e10-9724-57b0fcb4b7f2",
   "metadata": {},
   "source": [
    "<h3><b>Section 5 Integrals with respect to surface area</b></h3>"
   ]
  },
  {
   "cell_type": "markdown",
   "id": "384d0fb7-fdce-4323-bae9-756e45eee255",
   "metadata": {},
   "source": [
    "<b>Question 5.1</b> Let $S$ be the triangular surface in $\\mathbb{R}^3$ whose vertices are $(1,0,0), (0,1,0)$ and $(0,0,1)$\n",
    "\n",
    "<b>(a)</b> Find a parametrization of $S$ using $x$ and $y$ as parameters. What is the domain of your parametrization? (Hint: The triangle is contained in a plane.)\n",
    "\n",
    "<b>(b)</b> Use your parametrization and formula to find the area of $S$. Check that your answer agrees with what you would get using the formula: Area \\frac{1}{2}(base)(height).\n",
    "\n",
    "<b>(c)</b> Find $\\int \\int_{S} 7 dS$ (Hint: Use your answer to part(b).)"
   ]
  },
  {
   "cell_type": "markdown",
   "id": "6047f20b-63db-4bf3-95e5-bf84fce5cda0",
   "metadata": {},
   "source": [
    "<b>Question 5.2</b> Let $S$ be the cylindrical surface $x^2 + y^2 = 4, 0 \\le z \\le 3$. Find the integral $ \\int \\int_S z^2 dS $"
   ]
  },
  {
   "cell_type": "markdown",
   "id": "d107b6d8-6583-41a3-a9be-9fae43772093",
   "metadata": {},
   "source": [
    "<b>Question 5.3</b> Consider the graph $z = f(x,y$ of a smooth real-valued function $f$ defined on a bounded subset $D$ of $\\mathbb{R}^2$. Show that the surface area of the graph is given by the formula:\n",
    "\n",
    "$$\\text{Surface area} = \\int \\int_{D} \\sqrt{1 + \\left(\\frac{\\partial f}{\\partial x}\\right)^2 + \\left(\\frac{\\partial f}{ \\partial y}\\right)^2 dx\\,\\, dy}$$"
   ]
  },
  {
   "cell_type": "markdown",
   "id": "503676fc-612f-4734-9fef-7dd1010d565c",
   "metadata": {},
   "source": [
    "<b>Question 5.4</b> Let $f:{a,b} \\to \\mathbb{R}$ be a smooth real-valued function of one variable, where $a \\ge 0$, and let $S$ be the surface of revoluution that is swept out when the curve $z = f(x)$ in the $xy-plane$ is rotated all the way around the z-axis. Show that the surface area of $S$ is given by the formula:\n",
    "\n",
    "$$\\text{Surface Area} = 2\\pi \\int_{a}^{b} x \\sqrt{1 + f'(x)^2 \\,dx}$$\n",
    "\n",
    "(Hint: Parametrize $S$ using cylindrical coordinates.)"
   ]
  },
  {
   "cell_type": "markdown",
   "id": "3dec3690-8bab-4896-af89-20822933da9a",
   "metadata": {},
   "source": [
    "<b>Question 5.5</b> Let $W$ be the solid bounded on top by the plane $z = y + 5$, on the sides by the cylinder $x^2 + y^2 =4$, and on the bottom by the plane $z = 0$.\n",
    "\n",
    "(a) Sketch $W$.<br>\n",
    "(b) Let $S$ be the surface that bounds $W$ (top, sides, and bottom). Find the surface area of $S$.<br>\n",
    "(c) Find $\\int \\int_{S} z dS$ where $S$ is the surface in part(b)."
   ]
  },
  {
   "cell_type": "markdown",
   "id": "a70d07e2-0cb6-4172-b8eb-d7698b306c67",
   "metadata": {},
   "source": [
    "<b>Question 5.6</b> Let $S$ be the helicoid from Exercises 4.2, parametrized by:\n",
    "\n",
    "$$\\sigma: [0,1] \\times [0,4\\pi] \\to \\mathbb{R}^3 \\qquad \\sigma(r, \\theta) = (r\\,cos\\theta, r \\,sin\\theta, \\theta)$$\n",
    "\n",
    "Find $\\int \\int_{S} z \\sqrt{x^2 + y^2} \\,ds$"
   ]
  },
  {
   "cell_type": "markdown",
   "id": "a14b8752-93f8-4682-b52e-dde55a3f33dd",
   "metadata": {},
   "source": [
    "<b>Question 5.7</b> Let $W$ be the solid region of Example 5.2 that lies inside the cylinders $x^2 + z^2 =1$ and $y^2 + z^2 =1$ and above the $xy-plane$, and let $S$ be the exposed part of the surface that bounds $W$, that is, the cylindrical surfaces but not the base.\n",
    "\n",
    "(a) Find the surface area of $S$.\n",
    "\n",
    "(b) Find $\\int \\int_{S} z\\,dS$"
   ]
  },
  {
   "cell_type": "markdown",
   "id": "c70e6b85-2c39-46db-b1fb-efb5b123cd83",
   "metadata": {},
   "source": [
    "<b>Question 5.8</b> The sphere $x^2 + y^2 + z^2 = a^2$ of radius $a$ sits inscribed in the circular cylinder $x^2 + y^2 = a^2$. Given real numbers $c$ and $d$, where $-a \\le c \\lt d \\le a$, show that the portions of the sphere and the cylinder lying between the planes $z = c$ and $z = d$ have equal surface area. \n",
    "\n",
    "(Hint: Parametrize both surfaces using the cylindrical coordinates $\\theta$ and $z$ as parameters.)"
   ]
  },
  {
   "cell_type": "markdown",
   "id": "465b4706-73df-4511-b025-ec5de37648da",
   "metadata": {
    "jp-MarkdownHeadingCollapsed": true
   },
   "source": [
    "<h3><b>Section 6 Triple Integrals and beyond</b></h3>"
   ]
  },
  {
   "cell_type": "markdown",
   "id": "ea846afb-7d72-4d7f-a433-5408bb8a7937",
   "metadata": {},
   "source": [
    "In Exercises 6.1 - 6.2, evaluate the given iterated integral."
   ]
  },
  {
   "cell_type": "markdown",
   "id": "915e92a7-2182-4054-afa8-d66d8ffe45b3",
   "metadata": {},
   "source": [
    "<b>Question 6.1</b> $\\int_{0}^{1} \\left( \\int_{0}^{x} \\left( \\int_{y}^{x} (x+y-z)dz \\right)dy\\right) dx$"
   ]
  },
  {
   "cell_type": "markdown",
   "id": "96efc1a7-ad44-4876-ab29-de36a2003903",
   "metadata": {},
   "source": [
    "<b>Question 6.2</b> $\\int_{0}^{1} \\left( \\int_{x}^{2x} \\left( \\int_{0}^{xy} \\,\\,x^3y^2z\\,dz\\,\\right)dy\\right) dx$"
   ]
  },
  {
   "cell_type": "markdown",
   "id": "0509c730-9329-431c-b33e-c7aa38e2f7df",
   "metadata": {},
   "source": [
    "<b>Question 6.3</b> Find $\\int \\int \\int_{W} xyz \\,dV$ if $W$ is the solid region in $\\mathbb{R}^3$ below the surface $z = x^2 + y^2$ and above the square $0 \\le x \\le 1, 0 \\le y \\le 1.$"
   ]
  },
  {
   "cell_type": "markdown",
   "id": "ce672ac5-0366-4af4-b6da-879b7c75d9b5",
   "metadata": {},
   "source": [
    "<b>Question 6.4</b> Find $\\int  \\int \\int_{W} (xz + y)\\,dV$ if $W$ is the solid region in $\\mathbb{R}^3$ above the $xy-$plane bounded by the surface $y = x^2$ and the planes $z = y, y =1$ and $z = 0$"
   ]
  },
  {
   "cell_type": "markdown",
   "id": "c1d50060-7873-4e67-b5a7-b00a76dc71a3",
   "metadata": {},
   "source": [
    "<b>Question 6.5</b> Find $\\int \\int \\int_{W} \\,x \\,dV$ if $W$ is the region in the first octant bounded by the saddle surface $z = x^2 - y^2$ and the planes $x = 2, y = 0$ and $z = 0$"
   ]
  },
  {
   "cell_type": "markdown",
   "id": "05ba47ac-8660-4281-80cf-f0090e4969cb",
   "metadata": {},
   "source": [
    "<b>Question 6.6</b> Find $\\int \\int \\int_{W} (1 + x + y + z)^2\\,dV$ if $W$ is the solid tetrahedron in the first octant bounded by the plane $x + y + z =1$ and the three cooridnate planes."
   ]
  },
  {
   "cell_type": "markdown",
   "id": "e6e8df51-7bea-4019-9482-e2caa3bc10b4",
   "metadata": {},
   "source": [
    "<b>Question 6.7</b> Let $a$ be a positive real number, and let $W = [0,a] \\times [0,a] \\times [0,a]$ in $\\mathbb{R}^3$. Find the average value of $f(x,y,z) = x^2 +y^2 + z^2$ on $W.$"
   ]
  },
  {
   "cell_type": "markdown",
   "id": "3412cb7f-769a-4cea-9a2f-3b17f4553d40",
   "metadata": {},
   "source": [
    "For each of the triple integrals in Exercises 6.8 - 6.11 <b>(a)</b> sketch the domain of inegration in $\\mathbb{R}^3$ <b>(b)</b>write an equivalent expression in which the first integration is with respect to $x$, and <b>(c)</b> write an equivalent expression in which the first integration is with respect to $y$."
   ]
  },
  {
   "cell_type": "markdown",
   "id": "2ac87ebe-ae92-4f29-821b-605b18470984",
   "metadata": {},
   "source": [
    "<b>Question 6.8</b> $\\int_{-2}^{2} \\left( \\int_{0}^{\\sqrt{2 - \\frac{x^2}{2}}} \\left( \\int_{0}^{\\sqrt{1 - \\frac{x^2}{4} - \\frac{y^2}{2}}} f(x,y,z)\\,dz\\right)dy\\right)dx$"
   ]
  },
  {
   "cell_type": "markdown",
   "id": "f557bbc1-961f-42e7-b38e-386cc539dccf",
   "metadata": {},
   "source": [
    "<b>Question 6.9</b> $\\int_{-1}^{1} \\left(\\int_{0}^{\\sqrt{1-x^2}} \\left( \\int_{0}^{1} f(x,y,z)\\,dz \\right)dy\\right)dx$"
   ]
  },
  {
   "cell_type": "markdown",
   "id": "d2b8e4ea-90f2-4547-8046-eb403aefa6ba",
   "metadata": {},
   "source": [
    "<b>Question 6.10</b> $\\int_{0}^{1} \\left(\\int_{x}^{1} \\left( \\int_{0}^{x} f(x,y,z)\\,dz \\right)dy\\right)dx$"
   ]
  },
  {
   "cell_type": "markdown",
   "id": "7e72f359-ca0a-4a73-8b17-50e4b0077203",
   "metadata": {},
   "source": [
    "<b>Question 6.11</b> $\\int_{0}^{1} \\left(\\int_{x}^{1} \\left( \\int_{0}^{y} f(x,y,z)\\,dz \\right)dy\\right)dx$"
   ]
  },
  {
   "cell_type": "code",
   "execution_count": null,
   "id": "21405e57-6b5c-4dfa-8859-7db8903c8dea",
   "metadata": {},
   "outputs": [],
   "source": []
  }
 ],
 "metadata": {
  "kernelspec": {
   "display_name": "Python 3 (ipykernel)",
   "language": "python",
   "name": "python3"
  },
  "language_info": {
   "codemirror_mode": {
    "name": "ipython",
    "version": 3
   },
   "file_extension": ".py",
   "mimetype": "text/x-python",
   "name": "python",
   "nbconvert_exporter": "python",
   "pygments_lexer": "ipython3",
   "version": "3.9.9"
  }
 },
 "nbformat": 4,
 "nbformat_minor": 5
}

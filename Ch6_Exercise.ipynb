{
 "cells": [
  {
   "cell_type": "markdown",
   "id": "a46fb851-c5d2-4011-8613-681010a4d007",
   "metadata": {},
   "source": [
    "<center><h3><b>Exercises for Chapter 6</h3></center></b>"
   ]
  },
  {
   "cell_type": "markdown",
   "id": "781f3626-4380-48e5-a898-1bedda701ddb",
   "metadata": {},
   "source": [
    "<b>Section 1 : Continuity Revisited</b>"
   ]
  },
  {
   "cell_type": "markdown",
   "id": "b18ccea1-1147-4546-aa37-cdc63ada8524",
   "metadata": {},
   "source": [
    "<b>1.1</b> (a) If $x = (x_1, x_2, \\cdots x_n)$ and $y = (y_1, y_2, \\cdots y_n)$ are elements of $\\mathbb{R}^n$ show that $\\lvert x_i - y_i \\rvert \\le \\lVert x - y \\rVert$ for $i = 1,2,\\cdots n$\n",
    "\n",
    "(b) Let $U$ be an open st in $\\mathbb{R}^n$ and let $f: U \\to \\mathbb{R}^m$ be a function where $f(x) = (f_1(x), f_2(x), \\cdots,f_m(x))$. Show that, if $f$ is continuous at a point $a$ of $U$, then so are $f_1, f_2, \\cdots f_m$"
   ]
  },
  {
   "cell_type": "markdown",
   "id": "b5512c2f-e10f-4c56-846c-ac11af40d4c6",
   "metadata": {},
   "source": [
    "<b>1.2</b> Let $U$ be an open set in $\\mathbb{R}^n$ $a$ a point of $U$, and $f: U - \\{a\\} \\to R^m$ a function defined on $U$, except possibly at $a$. Write out in terms of $\\epsilon'$ and $\\delta's$ what it means to say that $lim_{x \\to a}f(x) = L$"
   ]
  },
  {
   "cell_type": "markdown",
   "id": "2e33c156-9b7c-4345-89c7-5fad516a71dc",
   "metadata": {},
   "source": [
    "---------------"
   ]
  },
  {
   "cell_type": "markdown",
   "id": "16e937ef-9ef0-42d4-adc7-dc0d01533c15",
   "metadata": {},
   "source": [
    "<b> Section 2 : Differentiability Revisited</b>"
   ]
  },
  {
   "cell_type": "markdown",
   "id": "81b6b8f1-17c3-4476-9484-5569aa465a8c",
   "metadata": {},
   "source": [
    "<b>2.1</b> Let $f: \\mathbb{R}^2 \\to \\mathbb{R}^2$ be given by $f(x,y) = (x^2 - y^2, 2xy)$\n",
    "\n",
    "<b>(a)</b> Find $D\\,f(x,y)$<br>\n",
    "<b>(b)</b> Find $D\\,f(x,y)$"
   ]
  },
  {
   "cell_type": "markdown",
   "id": "f61d383d-2815-462b-804e-95e30bcd242f",
   "metadata": {},
   "source": [
    "<b>2.2</b> Let $F: \\mathbb{R}^3 \\to \\mathbb{R}^2$ be given by $f(x,y,z) = (xy^2z^3 + 2, xcos\\,(yz))$\n",
    "\n",
    "<b>(a)</b> $D\\,f(x,y,z)$<br>\n",
    "<b>(b)</b> $D\\,f(-\\frac{\\pi}{2},1,\\frac{\\pi}{2})$"
   ]
  },
  {
   "cell_type": "markdown",
   "id": "246c7a9c-b1ec-43b4-a865-2619e9d79fde",
   "metadata": {},
   "source": [
    "<b>2.3</b> Find $D\\,f(x,y,z)$ if $f(x,y,z) = x + y^2 + 3z^3$"
   ]
  },
  {
   "cell_type": "markdown",
   "id": "73ef2dfa-181d-460e-aca8-571580ebb5c4",
   "metadata": {},
   "source": [
    "<b>2.4</b> Find $D\\,f(x,y,z)$ if $f(x,y,z) = (x, y^2, 3z^2)$"
   ]
  },
  {
   "cell_type": "markdown",
   "id": "83c27491-58c3-4aae-833f-f85b9034468b",
   "metadata": {},
   "source": [
    "<b>2.5</b> Find $D\\,f(x,y)$ if $f(x,y) = (x,y,0)$"
   ]
  },
  {
   "cell_type": "markdown",
   "id": "c1738bd3-3c48-47f8-a320-229b1745362f",
   "metadata": {},
   "source": [
    "<b>2.6</b> Find $D\\,f(x)$ if $f(x) = (x^2, x\\,sin\\,x, 2x + 3)$"
   ]
  },
  {
   "cell_type": "markdown",
   "id": "e9d481b4-cb84-4b1a-860d-1d0a1a95fbe6",
   "metadata": {},
   "source": [
    "<b>2.7</b> Let $f: \\mathbb{R}^2 \\to \\mathbb{R}^3$ be given by $f(x,y) = (e^{x+y}, e^{-x}cos\\,y, e^{-x}sin\\,y)$\n",
    "\n",
    "(a) Find $D\\,f(x,y)$<br>\n",
    "(b) Show that $f$ is differentiable at every point of $\\mathbb{R}^2$"
   ]
  },
  {
   "cell_type": "markdown",
   "id": "5d0cb020-4042-46ad-a12c-6005a874cfd1",
   "metadata": {},
   "source": [
    "<b>2.8</b> Let $f: \\mathbb{R}^3 \\to \\mathbb{R}^3$ be the spherical coordinate transformation from $p\\phi \\theta-$space to $xyz-$space: $f(\\rho, \\phi, \\theta) = (\\rho \\,sin\\,\\phi \\, cos\\,\\theta, \\rho sin\\,\\phi\\,sin\\,\\theta, \\rho \\, cos\\, \\phi)$\n",
    "\n",
    "(a) Find $D\\,f(\\rho, \\phi, \\theta)$<br>\n",
    "(b) Show that $f$ is differentiable at every point of $\\mathbb{R}^3$<br>\n",
    "(c) Show that det $D\\,f(\\rho, \\phi, \\theta) = \\rho^2 \\,sin\\, \\phi$ (This result will be used in th next chapter.)"
   ]
  },
  {
   "cell_type": "markdown",
   "id": "15a32c17-5e4c-4d50-b552-becacd365d39",
   "metadata": {},
   "source": [
    "<b>2.9</b> Let $T: \\mathbb{R}^3 \\to \\mathbb{R}^3$ be a linear transformation. and let $A$ be its matrix with respect to the standard bases. Hence, $T(x) = Ax$, where $A$ is a $3$ by $3$ matrix, $A = \\begin{bmatrix}\n",
    "a&b&c\\\\\n",
    "d&e&f\\\\\n",
    "g&h&i\\\\\n",
    "\\end{bmatrix}$\n",
    "\n",
    "(a) Find $DT\\,(x,y,z)$<br>\n",
    "(b) Use the definition of differentiability to show that $T$ is differentiable at every point $a$ of $\\mathbb{R}^3$"
   ]
  },
  {
   "cell_type": "markdown",
   "id": "72f14bc9-6cf4-4c3d-b9b8-8210c271f419",
   "metadata": {},
   "source": [
    "------------"
   ]
  },
  {
   "cell_type": "markdown",
   "id": "ebc8bad6-68cf-4e1c-922e-62a6ebd32447",
   "metadata": {},
   "source": [
    "<b>2.10</b> Given points $x = (x_1, x_2, x_3)$ and $y = (y_1, y_2, y_3)$ in $\\mathbb{R}^3$, let us think of $(x,y)$ as the point $(x_1, x_2, x_3, y_1, y_2, y_3)$ in $\\mathbb{R}^6$. Let $f: \\mathbb{R}^6 \\to \\mathbb{R}^3$ be the dot and cross products in $\\mathbb{R}^3$ respectively, that is:\n",
    "$f(x,y) = x \\cdot y$ and $g(x,y) = x \\times y$\n",
    "\n",
    "<b>(a)</b> Find $D\\,f(x,y)$ and $D\\,g(x,y)$<br>\n",
    "<b>(b)</b> Show that $f$ and $g$ are differentiable at every point $(x,y)$ of $\\mathbb{R}^6$"
   ]
  },
  {
   "cell_type": "markdown",
   "id": "2610ff23-3403-4dab-851b-d7a9583d3f4d",
   "metadata": {},
   "source": [
    "-------"
   ]
  },
  {
   "cell_type": "markdown",
   "id": "5ee37c00-7b44-45b2-be77-cdecafd27264",
   "metadata": {},
   "source": [
    "<b> Section 3 : The chain rule : a conceptual approach</b>"
   ]
  },
  {
   "cell_type": "markdown",
   "id": "142dedcb-ae40-446d-a48b-820ac94a85f1",
   "metadata": {},
   "source": [
    "<b>3.1</b> Let $f: \\mathbb{R}^2 \\to \\mathbb{R}^3$ and $g: \\mathbb{R}^3 \\to \\mathbb{R}^2$ be given by:\n",
    "\n",
    "$f(s,t) = (s-t + 2, e^{2s + 3t}, s\\,cos\\,t)$ and $g(x,y,z) = (xyz, x^2 + z^3)$\n",
    "\n",
    "(a) Find $D\\,f(s,t)$ and $D\\,g(x,y,z)$<br>\n",
    "(b) Find $D(g \\circ f)(0,0)$<br>\n",
    "(c) Find $D(f \\circ g)(0,0,0)$"
   ]
  },
  {
   "cell_type": "markdown",
   "id": "a32b7567-14e0-4e93-95e9-8a777daca9cf",
   "metadata": {},
   "source": [
    "<b>3.2</b> Let $f: \\mathbb{R}^2 \\to \\mathbb{R}^3$ and $g: \\mathbb{R}^3 \\to \\mathbb{R}$ be the functions:\n",
    "\n",
    "$f(s, t) = (2s - t^2, st -1, 2s^2 + st -t^2)$ and $g(x,y,z) = (x+1)^2 e^{yz}$\n",
    "\n",
    "If $h(s,t) = g(f(s,t))$ find $D\\,h(1,2)$"
   ]
  },
  {
   "cell_type": "markdown",
   "id": "8a2b6e9b-c855-4b78-b2cc-6e647056fcca",
   "metadata": {},
   "source": [
    "<b>3.3</b> Let $U$ and $V$ be open sets in $\\mathbb{R}^2$ and let $f: U \\to V$ and $g: V \\to U$ be inverse functions. That is:<br>\n",
    "\n",
    "$g(f(x,y)) = (x,y)$ for all $(x,y)$ in $U$, and <br>\n",
    "$f(g(x,y)) = (x,y)$ for all $(x,y)$ in $V$\n",
    "\n",
    "Let $a$ be a point of $U$ and let $b = f(a)$. If $f$ is differentiable at $a$ and $g$ is differentiable at $b$, what can you say about the following matrix products?\n",
    "\n",
    "(a)$D\\,g(b) \\cdot D\\,f(a)$<br>\n",
    "(b)$D\\,f(a) \\cdot Dg(b)$"
   ]
  },
  {
   "cell_type": "markdown",
   "id": "417df665-133e-4aaf-bd53-8dbbe4f2bc2b",
   "metadata": {},
   "source": [
    "<b>3.4</b> Exercise 5.5 of Chapter 4 described a generalization of the mean value theorem for real-valued functions of $n$ variables. Does the same  generalization apply to vector-valued functions? More precisely, let $a$ be a point of $\\mathbb{R}^n$ and let $B = B(a,r)$ be an open ball centered at $a$. Is it necessarily true that, if $f: B \\to R^m$ is a differentiable function on $B$ and $b$ is any point of $B$, then there exists a point $c$ on the line segment connecting $a$ and $b$ such that:<br>\n",
    "$f(b) - f(a) = D\\,f(c)\\cdot (b-a)$\n",
    "\n",
    "If true, give a proof, Otherwise fnd a counterexample"
   ]
  },
  {
   "cell_type": "markdown",
   "id": "f6e3f4f7-b96a-416a-935b-b79a02186829",
   "metadata": {},
   "source": [
    "----------------------"
   ]
  },
  {
   "cell_type": "markdown",
   "id": "491a1143-f1ad-4467-96c6-afbc8c93195d",
   "metadata": {},
   "source": [
    "<b>Section 4 :The Chain Rule: A Computational Approach</b>"
   ]
  },
  {
   "cell_type": "markdown",
   "id": "cfdb3655-f27a-471e-b340-abba8a2af8c2",
   "metadata": {},
   "source": [
    "<b>4.1</b> Let $f(x,y,z)$ be a smooth real-valued function of $x,y$ and $z$. The substituitions $x = s + 2t$, $y = 3s + 4t$ and $z = 5s + 6t$ convert $f$ into a function of $s$ and $t: w = f(s + 2t), 3s + 4t, 5s + 6t)$. Find expressions for $\\frac{\\partial w}{\\partial s}$ and $\\frac{\\partial w}{\\partial t}$ in terms of $\\frac{\\partial f}{\\partial x}$, $\\frac{\\partial f}{\\partial y}$, and $\\frac{\\partial f}{\\partial z}$"
   ]
  },
  {
   "cell_type": "markdown",
   "id": "cb48e567-85e8-4107-a59a-217976558942",
   "metadata": {},
   "source": [
    "<b>4.2</b> Let $w = f(x,y)$ be a smooth real-valued function, where:<br>\n",
    "$x = s^t - t^2 + u^2 + 2s - 2t$ and $y = stu$\n",
    "\n",
    "Find expressions for $\\frac{\\partial w}{\\partial s}$, $\\frac{\\partial w}{\\partial t}$, and $\\frac{\\partial w}{\\partial u}$ in terms of $\\frac{\\partial f}{\\partial x}$ and $\\frac{\\partial f}{\\partial y}$"
   ]
  },
  {
   "cell_type": "markdown",
   "id": "7be9085f-26e5-464a-a9f5-1c598069c234",
   "metadata": {},
   "source": [
    "<b>4.3</b> The spherical substitutions $x = \\rho \\,sin\\,\\phi\\,cos\\,\\theta$, $y = \\rho sin\\,\\phi\\,sin\\,\\theta$, and $z = \\rho\\,cos\\, \\phi$ convert a smooth real-valued function $f(x, y,z)$ into a function of $\\phi, \\rho,$ and $\\theta$\n",
    "\n",
    "$w = f(\\rho\\,sin\\,\\phi, cos\\,\\theta, \\rho\\,sin\\,\\phi\\,sin\\,\\theta, \\rho\\,cos\\,\\phi)$\n",
    "\n",
    "(a) Find formulas for $\\frac{\\partial w}{\\partial \\rho}$, $\\frac{\\partial w}{\\partial \\phi}$, and $\\frac{\\partial w}{\\partial \\theta}$ in terms of $\\frac{\\partial f}{\\partial x}, \\frac{\\partial f}{\\partial y}$, and $\\frac{\\partial f}{\\partial z}$\n",
    "\n",
    "(b) If $f(x, y, z) = x^2 + y^2 + z^2$, use your answer to part(a) to find $\\frac{\\partial w}{\\partial \\phi}$, and verify that it is the same as the result obtained if you first write $w$ in terms of $\\rho$, $\\phi$, and $\\theta$ directly, say by substituting for $x,y$ and $z$ and then differentiate that expression with respect to $\\phi$ "
   ]
  },
  {
   "cell_type": "markdown",
   "id": "0a0d72ae-4e6e-4f5b-a56a-3a76db176256",
   "metadata": {},
   "source": [
    "<b>4.4</b> The substitutions of $x = s^2 -t^2$ and $y = 2st$ convert a smooth real-valued function $f(x,y)$ into a a function of $s$ and $t: w = f(s^2 - t^2, 2st)$. Find a formula for $\\lVert \\nabla w \\rVert = \\lVert \\frac{\\partial w}{\\partial s}, \\frac{\\partial w}{\\partial t} \\rVert$ in terms of $\\frac{\\partial f}{\\partial x}$, and $\\frac{\\partial f}{\\partial y}$"
   ]
  },
  {
   "cell_type": "markdown",
   "id": "801ddb7c-c644-40df-b36d-005362f85fb3",
   "metadata": {},
   "source": [
    "<b>4.5</b> Let $f(x,y)$ be a smooth real-valued function of $x$ and $y$. The substitutions\n",
    "\n",
    "$x = e^{2s+t} -1$ and $y^2 = s^2 -3st +2t$ <br>\n",
    "\n",
    "convert $f$ into a function $w$ of $s$ and $t$. If $\\frac{\\partial w}{\\partial s} = 5$, and $\\frac{\\partial w}{\\partial t} = 4$ when $s$ and $t$ are both $0$, find the values of $\\frac{\\partial f}{\\partial x}$ and $\\frac{\\partial f}{\\partial y}$ "
   ]
  },
  {
   "cell_type": "markdown",
   "id": "bcb8ba2b-9b2a-4646-b7e5-2b6245aed6fa",
   "metadata": {},
   "source": [
    "<b>4.6</b> The substitutions $x = r\\,cos\\,\\theta$ and $y = r\\,sin\\,\\theta$ convert a smooth real-valued function $f(x,y)$ into a function of $r$ and $\\theta : w = f(r\\,cos\\,\\theta, r\\,sin\\,\\theta)$<br>\n",
    "\n",
    "(a) Show that $r\\frac{\\partial w}{\\partial r} = x\\frac{\\partial f}{\\partial x} + y\\frac{\\partial f}{\\partial y}$\n",
    "\n",
    "(b) Find a similar expression for $\\frac{\\partial w}{\\partial \\theta}$ in terms fo $x, y, \\frac{\\partial f}{\\partial x}$ and $\\frac{\\partial f}{\\partial y}$"
   ]
  },
  {
   "cell_type": "markdown",
   "id": "3c3cd781-ce74-41ec-addc-8c39b3bb285e",
   "metadata": {},
   "source": [
    "<b>4.7</b> (a) Suppose that $w = f(u, v)$ is a smooth real-valued function, where $u = x/z$ and $v = y/z$. Show that, <br>\n",
    "\n",
    "$x\\frac{\\partial w}{\\partial x} + y\\frac{\\partial w}{\\partial y} + z\\frac{\\partial w}{\\partial z} = 0 \\qquad\\qquad\\qquad....eq(6.10)$\n",
    "\n",
    "(b) Without calculating any partial derivatives, deduce that $w = \\frac{x^2 + xy + y^2}{z^2}$ satisfies equation 6.10"
   ]
  },
  {
   "cell_type": "markdown",
   "id": "8ba436b5-6eef-4424-816f-8a0dcc49fbc4",
   "metadata": {},
   "source": [
    "<b>4.8</b> Let $f: U \\to \\mathbb{R}$ be a smooth real-valued function of three variables defined on an open set $U$ in $\\mathbb{R}^3$ and let $c$ be a constant. Assume that the condition $f(x, y, z) = c$ defines $z$ implicitly as a smooth function of $x$ and $y, z = z(x,y)$ on some open set of points $(x, y)$ in $\\mathbb{R}^2$. Show that, on this open set:<br>\n",
    "\n",
    "$\\frac{\\partial z}{\\partial x} = - \\frac{\\partial f / \\partial x}{\\partial f / \\partial z}$ and $\\frac{\\partial z}{\\partial y}$ = - $\\frac{\\partial f / \\partial y}{\\partial f / \\partial z}$"
   ]
  },
  {
   "cell_type": "markdown",
   "id": "36861f5b-9da6-428d-af05-84788bcbc338",
   "metadata": {},
   "source": [
    "<b>4.9</b> The condition $xy + xz + yz + e^{x + 2y + 3z} =1$ defines $z$ implicitly as a smooth function of $x$ and $y$ on some open set of points $(x,y)$ containing $(0,0)$ in $\\mathbb{R}^2$. Find $\\frac{\\partial z}{\\partial x}$ and $\\frac{\\partial z}{\\partial y}$ when $x = 0$ and $y = 0$"
   ]
  },
  {
   "cell_type": "markdown",
   "id": "326176ba-ebdd-4125-8a0c-2a6df4571ba6",
   "metadata": {},
   "source": [
    "<b>4.10</b> (a) Let $f: \\mathbb{R}^3 \\to \\mathbb{R}^2$ be a smooth function. By defintion, the level set $S$ of $f$ corresponding to the value $c = (c_1, c_2)$ is the set of all $(x, y, z)$ such that $f(x, y, z) = c$ or equivalently where $f_1(x, y, z) = c_1$ and $f_2(x, y, z) = c_2$. Typically, the last two equations define a curve in $\\mathbb{R}^3$, the curve of intersection of the surfaces defined by $f_1 = c_1$ and $f_1 = c_2$\n",
    "\n",
    "Assume that the condition $f(x, y, z) = c$ defines $x$ and $y$ implicitly as smooth functions of $z$ on some interval of $z$ values in $\\mathbb{R}$, that is $x = x(z)$ and $y = y(z)$ are functions that satisfy $f(x(z), y(z), z) = c$. Then the corresponding portion of the level set is parametrized by the path $\\alpha(z) = (x(z), y(z), z)$.\n",
    "\n",
    "Show that $x'(z)$ and $y'(z)$ satisfy the matrix equation:\n",
    "\n",
    "$\\begin{bmatrix}\n",
    "\\frac{\\partial f_1}{\\partial x}&\\frac{\\partial f_1}{\\partial y}\\\\\n",
    "\\frac{\\partial f_2}{\\partial x}&\\frac{\\partial f_2}{\\partial y}\\\\\n",
    "\\end{bmatrix} \\begin{bmatrix}\n",
    "x'(z)\\\\\n",
    "y'(z)\\\\\n",
    "\\end{bmatrix} = - \\begin{bmatrix}\n",
    "\\frac{\\partial f_1}{\\partial z}\\\\\n",
    "\\frac{\\partial f_2}{\\partial z}\\\\\n",
    "\\end{bmatrix}$\n",
    "\n",
    "where the partial derivatives are evaluated at the point $(x(z), y(z), z)$. (Hint: Let $w = (w_1, w_2) = f(x(z), y(z), z)$.\n",
    "\n",
    "(b) Let $f(x, y, z) = (x - cos\\,z, y - sin\\,z)$ and let $C$ be the level set of $f$ corresponding to $c = (0,0)$. Find the functions $x = x(z)$ and $y=y(z)$ and the parametrization $\\alpha$ of $C$ described in part (a), describe $C$ geometrically. Then use part (a) to help find $D\\alpha(z)$, and verify that your answer makes sense."
   ]
  },
  {
   "cell_type": "markdown",
   "id": "15430018-b39c-4d1f-bf0a-5b76e3a0c55c",
   "metadata": {},
   "source": [
    "<b>4.11</b> Let $f(x,y)$ be a smooth real-valued function of $x$ and $y$ defined on an open set $U$ in $\\mathbb{R}^2$. The partial derivative $\\frac{\\partial f}{\\partial x}$ is also a real-valued function of $x$ and $y$. If $\\alpha(t) = (x(t), y(t))$ is a smooth path in $U$, then subsituting for $x$ and $y$ in terms of $t$ converts $\\frac{\\partial f}{\\partial x}$ into a function of $t$, say $w = \\frac{\\partial f}{\\partial x}(x(t), y(t))$\n",
    "\n",
    "(a) Show that:<br>\n"
   ]
  },
  {
   "cell_type": "code",
   "execution_count": null,
   "id": "9ac46b42-7403-4ca2-b99e-e41dbbc839a8",
   "metadata": {},
   "outputs": [],
   "source": []
  }
 ],
 "metadata": {
  "kernelspec": {
   "display_name": "Python 3 (ipykernel)",
   "language": "python",
   "name": "python3"
  },
  "language_info": {
   "codemirror_mode": {
    "name": "ipython",
    "version": 3
   },
   "file_extension": ".py",
   "mimetype": "text/x-python",
   "name": "python",
   "nbconvert_exporter": "python",
   "pygments_lexer": "ipython3",
   "version": "3.9.9"
  }
 },
 "nbformat": 4,
 "nbformat_minor": 5
}
